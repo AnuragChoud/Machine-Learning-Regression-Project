{
  "cells": [
    {
      "cell_type": "code",
      "source": [],
      "metadata": {
        "id": "aaNNfvCBd6xL"
      },
      "id": "aaNNfvCBd6xL",
      "execution_count": null,
      "outputs": []
    },
    {
      "cell_type": "markdown",
      "source": [
        " **1.Your views about about problem statements?**\n",
        "Ans:Ans: The given is about to find the continuos variable value i.e.salary , with the help of historical data\n",
        "So that for finding the value we are going to use various regression models such as simple linear regression,ridge regression,Lasso regression,boosting tree,simple tree, random forest regression etc.\n",
        "with the help of all these models we can predict salary and correlation of CTC with different factors.\n",
        "\n",
        "\n"
      ],
      "metadata": {
        "id": "N_LVzO6AkX-U"
      },
      "id": "N_LVzO6AkX-U"
    },
    {
      "cell_type": "markdown",
      "source": [
        "2.**What will be your approach to solving the problem?**\n",
        "Ans:My first approach was to understanding the problem statement ,\n",
        "Then1)I loading the data and arranged it in a right format: in this step i used google colab to connect it I used google drive to connect data files into it ,\n",
        "2)Then I converted columns records like colleges and cities into their respective categories.\n",
        "3)Data preprocessing :In this step i look for missing values and outliers and high correlation variables.\n",
        "4)Train and Test : In this i divide my file records in 80:20 random ratio so it evaluate file further 5) Then I build all 9 model of theory lecture 6)in this step we have to check performance of model and use it for prediction."
      ],
      "metadata": {
        "id": "cc1-IZZvmrJj"
      },
      "id": "cc1-IZZvmrJj"
    },
    {
      "cell_type": "markdown",
      "source": [
        "**3. What were the available ML model options you had to perform this task?**\n",
        "Ans: For me the best model available to perform the task are as follow:\n",
        "1.   linear regression\n",
        "2.   simple regression decision tree\n",
        "3.   Bagging decision tree model\n",
        "4.   Random forest decision tree model\n",
        "5.   Gradient boosting decision tree model\n",
        "6.   Adaboosting decision tree model\n",
        "7.   XG Boosting decision tree model\n",
        "8.   lasso regression\n",
        "9.   ridge regression"
      ],
      "metadata": {
        "id": "a8rtvieKsK1Q"
      },
      "id": "a8rtvieKsK1Q"
    },
    {
      "cell_type": "markdown",
      "source": [
        "**4. Which model’s performance is best and what could be the possible reason for that?**\n",
        "Ans: In this case the best performance is given by **Ada(adaptive) Boosting** regression because it gives the highest r2 value which is 0.667 and 0.95 of test and train data respectively,root_mean_square value also less which is 7019.972 by comparing all 9 model it gives best values because r2 value tells variablility in dependent value y explained by independent value x.so it explained best.MSE of test tells amount of error generated in model. difference in both r2 tells overfitting also less compare to ther model."
      ],
      "metadata": {
        "id": "Qke4nNrtuHGC"
      },
      "id": "Qke4nNrtuHGC"
    },
    {
      "cell_type": "markdown",
      "source": [
        "**5. What steps can you take to improve this selected model’s performance even further?**\n",
        "Ans:To improve the performance of model we take following steps:\n",
        "a)**By using GridsearchCV** for this model we should improve its performance.\n",
        "because with different parameters model we would select best one with high performance.\n",
        "b)**Using cross validation technique:** it can help to generalize the model and reduce the overfiting\n",
        "c)**by using target variable**: we can decrease number of variables which are highly correlated and more p value . i did not eliminate because not having large amount of variables.if we did it would certainly improve performance by atleast little amount."
      ],
      "metadata": {
        "id": "3JfvuCSlwpoD"
      },
      "id": "3JfvuCSlwpoD"
    },
    {
      "cell_type": "markdown",
      "source": [],
      "metadata": {
        "id": "EOeZq3q8mjr3"
      },
      "id": "EOeZq3q8mjr3"
    },
    {
      "cell_type": "markdown",
      "source": [
        "#**MOUNTING** **DRIVE**"
      ],
      "metadata": {
        "id": "dt8cc3QlFp0E"
      },
      "id": "dt8cc3QlFp0E"
    },
    {
      "cell_type": "code",
      "source": [
        "from google.colab import drive\n",
        "drive.mount('/content/drive')"
      ],
      "metadata": {
        "colab": {
          "base_uri": "https://localhost:8080/"
        },
        "id": "e0uwKOvzeBYz",
        "outputId": "3884cc15-5e55-4175-f36f-0140ed627d37"
      },
      "id": "e0uwKOvzeBYz",
      "execution_count": null,
      "outputs": [
        {
          "output_type": "stream",
          "name": "stdout",
          "text": [
            "Mounted at /content/drive\n"
          ]
        }
      ]
    },
    {
      "cell_type": "markdown",
      "source": [
        "###**LOADING AND PREPROCESSING**"
      ],
      "metadata": {
        "id": "usw3HZK6GH5I"
      },
      "id": "usw3HZK6GH5I"
    },
    {
      "cell_type": "code",
      "source": [
        "path_city='/content/drive/MyDrive/Colab Notebooks/cities.csv'               ### path of city file\n",
        "path_college='/content/drive/MyDrive/Colab Notebooks/Colleges.csv'          ### path of college file\n",
        "path_df='/content/drive/MyDrive/Colab Notebooks/ML case Study.csv'          ### path of ML case study file"
      ],
      "metadata": {
        "id": "vAkKZvDDekJe"
      },
      "id": "vAkKZvDDekJe",
      "execution_count": null,
      "outputs": []
    },
    {
      "cell_type": "code",
      "execution_count": null,
      "id": "d9e6d91f",
      "metadata": {
        "id": "d9e6d91f"
      },
      "outputs": [],
      "source": [
        "import numpy as np                              ### importing numpy,seaborn,pandas and gridsearchCV\n",
        "import seaborn as sns\n",
        "import pandas as pd\n",
        "from sklearn.model_selection import GridSearchCV"
      ]
    },
    {
      "cell_type": "code",
      "execution_count": null,
      "id": "facf9751",
      "metadata": {
        "id": "facf9751"
      },
      "outputs": [],
      "source": [
        "df=pd.read_csv(path_df)      ### importing ML case study file"
      ]
    },
    {
      "cell_type": "code",
      "execution_count": null,
      "id": "c493b196",
      "metadata": {
        "colab": {
          "base_uri": "https://localhost:8080/"
        },
        "id": "c493b196",
        "outputId": "5539f956-5f5a-42f0-a0d5-80566b7f4bf5"
      },
      "outputs": [
        {
          "output_type": "stream",
          "name": "stdout",
          "text": [
            "0\n"
          ]
        }
      ],
      "source": [
        "df1 = df[df.duplicated()]    ### finding duplicates\n",
        "print(len(df1))"
      ]
    },
    {
      "cell_type": "code",
      "execution_count": null,
      "id": "39f730b1",
      "metadata": {
        "colab": {
          "base_uri": "https://localhost:8080/"
        },
        "id": "39f730b1",
        "outputId": "34cc3452-1696-4a04-84e3-20106a45649c"
      },
      "outputs": [
        {
          "output_type": "execute_result",
          "data": {
            "text/plain": [
              "(1589, 8)"
            ]
          },
          "metadata": {},
          "execution_count": 6
        }
      ],
      "source": [
        "df.shape     ### finding diamension of file"
      ]
    },
    {
      "cell_type": "code",
      "execution_count": null,
      "id": "a97a8658",
      "metadata": {
        "colab": {
          "base_uri": "https://localhost:8080/",
          "height": 206
        },
        "id": "a97a8658",
        "outputId": "3916a067-7b14-4d9d-a698-c177a923eac4"
      },
      "outputs": [
        {
          "output_type": "execute_result",
          "data": {
            "text/plain": [
              "             College             City       Role  Previous CTC  \\\n",
              "0        SVNIT Surat          Asansol    Manager       55523.0   \n",
              "1         NIT Bhopal            Ajmer  Executive       57081.0   \n",
              "2       IEM, Kolkata  Rajpur Sonarpur  Executive       60347.0   \n",
              "3  KIIT, Bhubaneswar            Ajmer  Executive       49010.0   \n",
              "4                DTU         Durgapur  Executive       57879.0   \n",
              "\n",
              "   Previous job change  Graduation Marks  EXP (Month)       CTC  \n",
              "0                    3                66           19  71406.58  \n",
              "1                    1                84           18  68005.87  \n",
              "2                    2                52           28  76764.02  \n",
              "3                    2                81           33  82092.39  \n",
              "4                    4                74           32  73878.10  "
            ],
            "text/html": [
              "\n",
              "  <div id=\"df-037b6d92-1c45-4059-8d12-1ca201b056cf\" class=\"colab-df-container\">\n",
              "    <div>\n",
              "<style scoped>\n",
              "    .dataframe tbody tr th:only-of-type {\n",
              "        vertical-align: middle;\n",
              "    }\n",
              "\n",
              "    .dataframe tbody tr th {\n",
              "        vertical-align: top;\n",
              "    }\n",
              "\n",
              "    .dataframe thead th {\n",
              "        text-align: right;\n",
              "    }\n",
              "</style>\n",
              "<table border=\"1\" class=\"dataframe\">\n",
              "  <thead>\n",
              "    <tr style=\"text-align: right;\">\n",
              "      <th></th>\n",
              "      <th>College</th>\n",
              "      <th>City</th>\n",
              "      <th>Role</th>\n",
              "      <th>Previous CTC</th>\n",
              "      <th>Previous job change</th>\n",
              "      <th>Graduation Marks</th>\n",
              "      <th>EXP (Month)</th>\n",
              "      <th>CTC</th>\n",
              "    </tr>\n",
              "  </thead>\n",
              "  <tbody>\n",
              "    <tr>\n",
              "      <th>0</th>\n",
              "      <td>SVNIT Surat</td>\n",
              "      <td>Asansol</td>\n",
              "      <td>Manager</td>\n",
              "      <td>55523.0</td>\n",
              "      <td>3</td>\n",
              "      <td>66</td>\n",
              "      <td>19</td>\n",
              "      <td>71406.58</td>\n",
              "    </tr>\n",
              "    <tr>\n",
              "      <th>1</th>\n",
              "      <td>NIT Bhopal</td>\n",
              "      <td>Ajmer</td>\n",
              "      <td>Executive</td>\n",
              "      <td>57081.0</td>\n",
              "      <td>1</td>\n",
              "      <td>84</td>\n",
              "      <td>18</td>\n",
              "      <td>68005.87</td>\n",
              "    </tr>\n",
              "    <tr>\n",
              "      <th>2</th>\n",
              "      <td>IEM, Kolkata</td>\n",
              "      <td>Rajpur Sonarpur</td>\n",
              "      <td>Executive</td>\n",
              "      <td>60347.0</td>\n",
              "      <td>2</td>\n",
              "      <td>52</td>\n",
              "      <td>28</td>\n",
              "      <td>76764.02</td>\n",
              "    </tr>\n",
              "    <tr>\n",
              "      <th>3</th>\n",
              "      <td>KIIT, Bhubaneswar</td>\n",
              "      <td>Ajmer</td>\n",
              "      <td>Executive</td>\n",
              "      <td>49010.0</td>\n",
              "      <td>2</td>\n",
              "      <td>81</td>\n",
              "      <td>33</td>\n",
              "      <td>82092.39</td>\n",
              "    </tr>\n",
              "    <tr>\n",
              "      <th>4</th>\n",
              "      <td>DTU</td>\n",
              "      <td>Durgapur</td>\n",
              "      <td>Executive</td>\n",
              "      <td>57879.0</td>\n",
              "      <td>4</td>\n",
              "      <td>74</td>\n",
              "      <td>32</td>\n",
              "      <td>73878.10</td>\n",
              "    </tr>\n",
              "  </tbody>\n",
              "</table>\n",
              "</div>\n",
              "    <div class=\"colab-df-buttons\">\n",
              "\n",
              "  <div class=\"colab-df-container\">\n",
              "    <button class=\"colab-df-convert\" onclick=\"convertToInteractive('df-037b6d92-1c45-4059-8d12-1ca201b056cf')\"\n",
              "            title=\"Convert this dataframe to an interactive table.\"\n",
              "            style=\"display:none;\">\n",
              "\n",
              "  <svg xmlns=\"http://www.w3.org/2000/svg\" height=\"24px\" viewBox=\"0 -960 960 960\">\n",
              "    <path d=\"M120-120v-720h720v720H120Zm60-500h600v-160H180v160Zm220 220h160v-160H400v160Zm0 220h160v-160H400v160ZM180-400h160v-160H180v160Zm440 0h160v-160H620v160ZM180-180h160v-160H180v160Zm440 0h160v-160H620v160Z\"/>\n",
              "  </svg>\n",
              "    </button>\n",
              "\n",
              "  <style>\n",
              "    .colab-df-container {\n",
              "      display:flex;\n",
              "      gap: 12px;\n",
              "    }\n",
              "\n",
              "    .colab-df-convert {\n",
              "      background-color: #E8F0FE;\n",
              "      border: none;\n",
              "      border-radius: 50%;\n",
              "      cursor: pointer;\n",
              "      display: none;\n",
              "      fill: #1967D2;\n",
              "      height: 32px;\n",
              "      padding: 0 0 0 0;\n",
              "      width: 32px;\n",
              "    }\n",
              "\n",
              "    .colab-df-convert:hover {\n",
              "      background-color: #E2EBFA;\n",
              "      box-shadow: 0px 1px 2px rgba(60, 64, 67, 0.3), 0px 1px 3px 1px rgba(60, 64, 67, 0.15);\n",
              "      fill: #174EA6;\n",
              "    }\n",
              "\n",
              "    .colab-df-buttons div {\n",
              "      margin-bottom: 4px;\n",
              "    }\n",
              "\n",
              "    [theme=dark] .colab-df-convert {\n",
              "      background-color: #3B4455;\n",
              "      fill: #D2E3FC;\n",
              "    }\n",
              "\n",
              "    [theme=dark] .colab-df-convert:hover {\n",
              "      background-color: #434B5C;\n",
              "      box-shadow: 0px 1px 3px 1px rgba(0, 0, 0, 0.15);\n",
              "      filter: drop-shadow(0px 1px 2px rgba(0, 0, 0, 0.3));\n",
              "      fill: #FFFFFF;\n",
              "    }\n",
              "  </style>\n",
              "\n",
              "    <script>\n",
              "      const buttonEl =\n",
              "        document.querySelector('#df-037b6d92-1c45-4059-8d12-1ca201b056cf button.colab-df-convert');\n",
              "      buttonEl.style.display =\n",
              "        google.colab.kernel.accessAllowed ? 'block' : 'none';\n",
              "\n",
              "      async function convertToInteractive(key) {\n",
              "        const element = document.querySelector('#df-037b6d92-1c45-4059-8d12-1ca201b056cf');\n",
              "        const dataTable =\n",
              "          await google.colab.kernel.invokeFunction('convertToInteractive',\n",
              "                                                    [key], {});\n",
              "        if (!dataTable) return;\n",
              "\n",
              "        const docLinkHtml = 'Like what you see? Visit the ' +\n",
              "          '<a target=\"_blank\" href=https://colab.research.google.com/notebooks/data_table.ipynb>data table notebook</a>'\n",
              "          + ' to learn more about interactive tables.';\n",
              "        element.innerHTML = '';\n",
              "        dataTable['output_type'] = 'display_data';\n",
              "        await google.colab.output.renderOutput(dataTable, element);\n",
              "        const docLink = document.createElement('div');\n",
              "        docLink.innerHTML = docLinkHtml;\n",
              "        element.appendChild(docLink);\n",
              "      }\n",
              "    </script>\n",
              "  </div>\n",
              "\n",
              "\n",
              "<div id=\"df-6a5b8ee4-1e4c-4f44-bea8-7505456bb009\">\n",
              "  <button class=\"colab-df-quickchart\" onclick=\"quickchart('df-6a5b8ee4-1e4c-4f44-bea8-7505456bb009')\"\n",
              "            title=\"Suggest charts.\"\n",
              "            style=\"display:none;\">\n",
              "\n",
              "<svg xmlns=\"http://www.w3.org/2000/svg\" height=\"24px\"viewBox=\"0 0 24 24\"\n",
              "     width=\"24px\">\n",
              "    <g>\n",
              "        <path d=\"M19 3H5c-1.1 0-2 .9-2 2v14c0 1.1.9 2 2 2h14c1.1 0 2-.9 2-2V5c0-1.1-.9-2-2-2zM9 17H7v-7h2v7zm4 0h-2V7h2v10zm4 0h-2v-4h2v4z\"/>\n",
              "    </g>\n",
              "</svg>\n",
              "  </button>\n",
              "\n",
              "<style>\n",
              "  .colab-df-quickchart {\n",
              "      --bg-color: #E8F0FE;\n",
              "      --fill-color: #1967D2;\n",
              "      --hover-bg-color: #E2EBFA;\n",
              "      --hover-fill-color: #174EA6;\n",
              "      --disabled-fill-color: #AAA;\n",
              "      --disabled-bg-color: #DDD;\n",
              "  }\n",
              "\n",
              "  [theme=dark] .colab-df-quickchart {\n",
              "      --bg-color: #3B4455;\n",
              "      --fill-color: #D2E3FC;\n",
              "      --hover-bg-color: #434B5C;\n",
              "      --hover-fill-color: #FFFFFF;\n",
              "      --disabled-bg-color: #3B4455;\n",
              "      --disabled-fill-color: #666;\n",
              "  }\n",
              "\n",
              "  .colab-df-quickchart {\n",
              "    background-color: var(--bg-color);\n",
              "    border: none;\n",
              "    border-radius: 50%;\n",
              "    cursor: pointer;\n",
              "    display: none;\n",
              "    fill: var(--fill-color);\n",
              "    height: 32px;\n",
              "    padding: 0;\n",
              "    width: 32px;\n",
              "  }\n",
              "\n",
              "  .colab-df-quickchart:hover {\n",
              "    background-color: var(--hover-bg-color);\n",
              "    box-shadow: 0 1px 2px rgba(60, 64, 67, 0.3), 0 1px 3px 1px rgba(60, 64, 67, 0.15);\n",
              "    fill: var(--button-hover-fill-color);\n",
              "  }\n",
              "\n",
              "  .colab-df-quickchart-complete:disabled,\n",
              "  .colab-df-quickchart-complete:disabled:hover {\n",
              "    background-color: var(--disabled-bg-color);\n",
              "    fill: var(--disabled-fill-color);\n",
              "    box-shadow: none;\n",
              "  }\n",
              "\n",
              "  .colab-df-spinner {\n",
              "    border: 2px solid var(--fill-color);\n",
              "    border-color: transparent;\n",
              "    border-bottom-color: var(--fill-color);\n",
              "    animation:\n",
              "      spin 1s steps(1) infinite;\n",
              "  }\n",
              "\n",
              "  @keyframes spin {\n",
              "    0% {\n",
              "      border-color: transparent;\n",
              "      border-bottom-color: var(--fill-color);\n",
              "      border-left-color: var(--fill-color);\n",
              "    }\n",
              "    20% {\n",
              "      border-color: transparent;\n",
              "      border-left-color: var(--fill-color);\n",
              "      border-top-color: var(--fill-color);\n",
              "    }\n",
              "    30% {\n",
              "      border-color: transparent;\n",
              "      border-left-color: var(--fill-color);\n",
              "      border-top-color: var(--fill-color);\n",
              "      border-right-color: var(--fill-color);\n",
              "    }\n",
              "    40% {\n",
              "      border-color: transparent;\n",
              "      border-right-color: var(--fill-color);\n",
              "      border-top-color: var(--fill-color);\n",
              "    }\n",
              "    60% {\n",
              "      border-color: transparent;\n",
              "      border-right-color: var(--fill-color);\n",
              "    }\n",
              "    80% {\n",
              "      border-color: transparent;\n",
              "      border-right-color: var(--fill-color);\n",
              "      border-bottom-color: var(--fill-color);\n",
              "    }\n",
              "    90% {\n",
              "      border-color: transparent;\n",
              "      border-bottom-color: var(--fill-color);\n",
              "    }\n",
              "  }\n",
              "</style>\n",
              "\n",
              "  <script>\n",
              "    async function quickchart(key) {\n",
              "      const quickchartButtonEl =\n",
              "        document.querySelector('#' + key + ' button');\n",
              "      quickchartButtonEl.disabled = true;  // To prevent multiple clicks.\n",
              "      quickchartButtonEl.classList.add('colab-df-spinner');\n",
              "      try {\n",
              "        const charts = await google.colab.kernel.invokeFunction(\n",
              "            'suggestCharts', [key], {});\n",
              "      } catch (error) {\n",
              "        console.error('Error during call to suggestCharts:', error);\n",
              "      }\n",
              "      quickchartButtonEl.classList.remove('colab-df-spinner');\n",
              "      quickchartButtonEl.classList.add('colab-df-quickchart-complete');\n",
              "    }\n",
              "    (() => {\n",
              "      let quickchartButtonEl =\n",
              "        document.querySelector('#df-6a5b8ee4-1e4c-4f44-bea8-7505456bb009 button');\n",
              "      quickchartButtonEl.style.display =\n",
              "        google.colab.kernel.accessAllowed ? 'block' : 'none';\n",
              "    })();\n",
              "  </script>\n",
              "</div>\n",
              "    </div>\n",
              "  </div>\n"
            ]
          },
          "metadata": {},
          "execution_count": 7
        }
      ],
      "source": [
        "df.head()    ### finding first five record of df"
      ]
    },
    {
      "cell_type": "code",
      "execution_count": null,
      "id": "32b2c42c",
      "metadata": {
        "id": "32b2c42c"
      },
      "outputs": [],
      "source": [
        "college_data=pd.read_csv(path_college)    ### importing college_data file"
      ]
    },
    {
      "cell_type": "code",
      "execution_count": null,
      "id": "7e60444e",
      "metadata": {
        "id": "7e60444e"
      },
      "outputs": [],
      "source": [
        "college_data.rename(columns = {'Tier 1':'Tier1', 'Tier 2':'Tier2', 'Tier 3':'Tier3'}, inplace = True) ### renaming columns in python"
      ]
    },
    {
      "cell_type": "code",
      "execution_count": null,
      "id": "1ba05b5c",
      "metadata": {
        "colab": {
          "base_uri": "https://localhost:8080/",
          "height": 206
        },
        "id": "1ba05b5c",
        "outputId": "a86f8183-17f2-4c2c-f665-29454f071fbe"
      },
      "outputs": [
        {
          "output_type": "execute_result",
          "data": {
            "text/plain": [
              "           Tier1           Tier2                                       Tier3\n",
              "0     IIT Bombay  IIIT Bangalore  Ramaiah Institute of Technology, Bengaluru\n",
              "1      IIT Delhi      IIIT Delhi                      TIET/Thapar University\n",
              "2  IIT Kharagpur          IGDTUW                         Manipal Main Campus\n",
              "3     IIT Madras     NIT Calicut                                 VIT Vellore\n",
              "4     IIT Kanpur   IIITM Gwalior                             SRM Main Campus"
            ],
            "text/html": [
              "\n",
              "  <div id=\"df-1f83564a-74c7-46b3-b6ab-79841625d13c\" class=\"colab-df-container\">\n",
              "    <div>\n",
              "<style scoped>\n",
              "    .dataframe tbody tr th:only-of-type {\n",
              "        vertical-align: middle;\n",
              "    }\n",
              "\n",
              "    .dataframe tbody tr th {\n",
              "        vertical-align: top;\n",
              "    }\n",
              "\n",
              "    .dataframe thead th {\n",
              "        text-align: right;\n",
              "    }\n",
              "</style>\n",
              "<table border=\"1\" class=\"dataframe\">\n",
              "  <thead>\n",
              "    <tr style=\"text-align: right;\">\n",
              "      <th></th>\n",
              "      <th>Tier1</th>\n",
              "      <th>Tier2</th>\n",
              "      <th>Tier3</th>\n",
              "    </tr>\n",
              "  </thead>\n",
              "  <tbody>\n",
              "    <tr>\n",
              "      <th>0</th>\n",
              "      <td>IIT Bombay</td>\n",
              "      <td>IIIT Bangalore</td>\n",
              "      <td>Ramaiah Institute of Technology, Bengaluru</td>\n",
              "    </tr>\n",
              "    <tr>\n",
              "      <th>1</th>\n",
              "      <td>IIT Delhi</td>\n",
              "      <td>IIIT Delhi</td>\n",
              "      <td>TIET/Thapar University</td>\n",
              "    </tr>\n",
              "    <tr>\n",
              "      <th>2</th>\n",
              "      <td>IIT Kharagpur</td>\n",
              "      <td>IGDTUW</td>\n",
              "      <td>Manipal Main Campus</td>\n",
              "    </tr>\n",
              "    <tr>\n",
              "      <th>3</th>\n",
              "      <td>IIT Madras</td>\n",
              "      <td>NIT Calicut</td>\n",
              "      <td>VIT Vellore</td>\n",
              "    </tr>\n",
              "    <tr>\n",
              "      <th>4</th>\n",
              "      <td>IIT Kanpur</td>\n",
              "      <td>IIITM Gwalior</td>\n",
              "      <td>SRM Main Campus</td>\n",
              "    </tr>\n",
              "  </tbody>\n",
              "</table>\n",
              "</div>\n",
              "    <div class=\"colab-df-buttons\">\n",
              "\n",
              "  <div class=\"colab-df-container\">\n",
              "    <button class=\"colab-df-convert\" onclick=\"convertToInteractive('df-1f83564a-74c7-46b3-b6ab-79841625d13c')\"\n",
              "            title=\"Convert this dataframe to an interactive table.\"\n",
              "            style=\"display:none;\">\n",
              "\n",
              "  <svg xmlns=\"http://www.w3.org/2000/svg\" height=\"24px\" viewBox=\"0 -960 960 960\">\n",
              "    <path d=\"M120-120v-720h720v720H120Zm60-500h600v-160H180v160Zm220 220h160v-160H400v160Zm0 220h160v-160H400v160ZM180-400h160v-160H180v160Zm440 0h160v-160H620v160ZM180-180h160v-160H180v160Zm440 0h160v-160H620v160Z\"/>\n",
              "  </svg>\n",
              "    </button>\n",
              "\n",
              "  <style>\n",
              "    .colab-df-container {\n",
              "      display:flex;\n",
              "      gap: 12px;\n",
              "    }\n",
              "\n",
              "    .colab-df-convert {\n",
              "      background-color: #E8F0FE;\n",
              "      border: none;\n",
              "      border-radius: 50%;\n",
              "      cursor: pointer;\n",
              "      display: none;\n",
              "      fill: #1967D2;\n",
              "      height: 32px;\n",
              "      padding: 0 0 0 0;\n",
              "      width: 32px;\n",
              "    }\n",
              "\n",
              "    .colab-df-convert:hover {\n",
              "      background-color: #E2EBFA;\n",
              "      box-shadow: 0px 1px 2px rgba(60, 64, 67, 0.3), 0px 1px 3px 1px rgba(60, 64, 67, 0.15);\n",
              "      fill: #174EA6;\n",
              "    }\n",
              "\n",
              "    .colab-df-buttons div {\n",
              "      margin-bottom: 4px;\n",
              "    }\n",
              "\n",
              "    [theme=dark] .colab-df-convert {\n",
              "      background-color: #3B4455;\n",
              "      fill: #D2E3FC;\n",
              "    }\n",
              "\n",
              "    [theme=dark] .colab-df-convert:hover {\n",
              "      background-color: #434B5C;\n",
              "      box-shadow: 0px 1px 3px 1px rgba(0, 0, 0, 0.15);\n",
              "      filter: drop-shadow(0px 1px 2px rgba(0, 0, 0, 0.3));\n",
              "      fill: #FFFFFF;\n",
              "    }\n",
              "  </style>\n",
              "\n",
              "    <script>\n",
              "      const buttonEl =\n",
              "        document.querySelector('#df-1f83564a-74c7-46b3-b6ab-79841625d13c button.colab-df-convert');\n",
              "      buttonEl.style.display =\n",
              "        google.colab.kernel.accessAllowed ? 'block' : 'none';\n",
              "\n",
              "      async function convertToInteractive(key) {\n",
              "        const element = document.querySelector('#df-1f83564a-74c7-46b3-b6ab-79841625d13c');\n",
              "        const dataTable =\n",
              "          await google.colab.kernel.invokeFunction('convertToInteractive',\n",
              "                                                    [key], {});\n",
              "        if (!dataTable) return;\n",
              "\n",
              "        const docLinkHtml = 'Like what you see? Visit the ' +\n",
              "          '<a target=\"_blank\" href=https://colab.research.google.com/notebooks/data_table.ipynb>data table notebook</a>'\n",
              "          + ' to learn more about interactive tables.';\n",
              "        element.innerHTML = '';\n",
              "        dataTable['output_type'] = 'display_data';\n",
              "        await google.colab.output.renderOutput(dataTable, element);\n",
              "        const docLink = document.createElement('div');\n",
              "        docLink.innerHTML = docLinkHtml;\n",
              "        element.appendChild(docLink);\n",
              "      }\n",
              "    </script>\n",
              "  </div>\n",
              "\n",
              "\n",
              "<div id=\"df-39770c1e-755c-40ab-a2d9-0c954860bcda\">\n",
              "  <button class=\"colab-df-quickchart\" onclick=\"quickchart('df-39770c1e-755c-40ab-a2d9-0c954860bcda')\"\n",
              "            title=\"Suggest charts.\"\n",
              "            style=\"display:none;\">\n",
              "\n",
              "<svg xmlns=\"http://www.w3.org/2000/svg\" height=\"24px\"viewBox=\"0 0 24 24\"\n",
              "     width=\"24px\">\n",
              "    <g>\n",
              "        <path d=\"M19 3H5c-1.1 0-2 .9-2 2v14c0 1.1.9 2 2 2h14c1.1 0 2-.9 2-2V5c0-1.1-.9-2-2-2zM9 17H7v-7h2v7zm4 0h-2V7h2v10zm4 0h-2v-4h2v4z\"/>\n",
              "    </g>\n",
              "</svg>\n",
              "  </button>\n",
              "\n",
              "<style>\n",
              "  .colab-df-quickchart {\n",
              "      --bg-color: #E8F0FE;\n",
              "      --fill-color: #1967D2;\n",
              "      --hover-bg-color: #E2EBFA;\n",
              "      --hover-fill-color: #174EA6;\n",
              "      --disabled-fill-color: #AAA;\n",
              "      --disabled-bg-color: #DDD;\n",
              "  }\n",
              "\n",
              "  [theme=dark] .colab-df-quickchart {\n",
              "      --bg-color: #3B4455;\n",
              "      --fill-color: #D2E3FC;\n",
              "      --hover-bg-color: #434B5C;\n",
              "      --hover-fill-color: #FFFFFF;\n",
              "      --disabled-bg-color: #3B4455;\n",
              "      --disabled-fill-color: #666;\n",
              "  }\n",
              "\n",
              "  .colab-df-quickchart {\n",
              "    background-color: var(--bg-color);\n",
              "    border: none;\n",
              "    border-radius: 50%;\n",
              "    cursor: pointer;\n",
              "    display: none;\n",
              "    fill: var(--fill-color);\n",
              "    height: 32px;\n",
              "    padding: 0;\n",
              "    width: 32px;\n",
              "  }\n",
              "\n",
              "  .colab-df-quickchart:hover {\n",
              "    background-color: var(--hover-bg-color);\n",
              "    box-shadow: 0 1px 2px rgba(60, 64, 67, 0.3), 0 1px 3px 1px rgba(60, 64, 67, 0.15);\n",
              "    fill: var(--button-hover-fill-color);\n",
              "  }\n",
              "\n",
              "  .colab-df-quickchart-complete:disabled,\n",
              "  .colab-df-quickchart-complete:disabled:hover {\n",
              "    background-color: var(--disabled-bg-color);\n",
              "    fill: var(--disabled-fill-color);\n",
              "    box-shadow: none;\n",
              "  }\n",
              "\n",
              "  .colab-df-spinner {\n",
              "    border: 2px solid var(--fill-color);\n",
              "    border-color: transparent;\n",
              "    border-bottom-color: var(--fill-color);\n",
              "    animation:\n",
              "      spin 1s steps(1) infinite;\n",
              "  }\n",
              "\n",
              "  @keyframes spin {\n",
              "    0% {\n",
              "      border-color: transparent;\n",
              "      border-bottom-color: var(--fill-color);\n",
              "      border-left-color: var(--fill-color);\n",
              "    }\n",
              "    20% {\n",
              "      border-color: transparent;\n",
              "      border-left-color: var(--fill-color);\n",
              "      border-top-color: var(--fill-color);\n",
              "    }\n",
              "    30% {\n",
              "      border-color: transparent;\n",
              "      border-left-color: var(--fill-color);\n",
              "      border-top-color: var(--fill-color);\n",
              "      border-right-color: var(--fill-color);\n",
              "    }\n",
              "    40% {\n",
              "      border-color: transparent;\n",
              "      border-right-color: var(--fill-color);\n",
              "      border-top-color: var(--fill-color);\n",
              "    }\n",
              "    60% {\n",
              "      border-color: transparent;\n",
              "      border-right-color: var(--fill-color);\n",
              "    }\n",
              "    80% {\n",
              "      border-color: transparent;\n",
              "      border-right-color: var(--fill-color);\n",
              "      border-bottom-color: var(--fill-color);\n",
              "    }\n",
              "    90% {\n",
              "      border-color: transparent;\n",
              "      border-bottom-color: var(--fill-color);\n",
              "    }\n",
              "  }\n",
              "</style>\n",
              "\n",
              "  <script>\n",
              "    async function quickchart(key) {\n",
              "      const quickchartButtonEl =\n",
              "        document.querySelector('#' + key + ' button');\n",
              "      quickchartButtonEl.disabled = true;  // To prevent multiple clicks.\n",
              "      quickchartButtonEl.classList.add('colab-df-spinner');\n",
              "      try {\n",
              "        const charts = await google.colab.kernel.invokeFunction(\n",
              "            'suggestCharts', [key], {});\n",
              "      } catch (error) {\n",
              "        console.error('Error during call to suggestCharts:', error);\n",
              "      }\n",
              "      quickchartButtonEl.classList.remove('colab-df-spinner');\n",
              "      quickchartButtonEl.classList.add('colab-df-quickchart-complete');\n",
              "    }\n",
              "    (() => {\n",
              "      let quickchartButtonEl =\n",
              "        document.querySelector('#df-39770c1e-755c-40ab-a2d9-0c954860bcda button');\n",
              "      quickchartButtonEl.style.display =\n",
              "        google.colab.kernel.accessAllowed ? 'block' : 'none';\n",
              "    })();\n",
              "  </script>\n",
              "</div>\n",
              "    </div>\n",
              "  </div>\n"
            ]
          },
          "metadata": {},
          "execution_count": 10
        }
      ],
      "source": [
        "college_data.head() ### it shows first 5 records of college_data"
      ]
    },
    {
      "cell_type": "code",
      "execution_count": null,
      "id": "57619c74",
      "metadata": {
        "id": "57619c74"
      },
      "outputs": [],
      "source": [
        "cities_data=pd.read_csv(path_city) ### importing cities_data file"
      ]
    },
    {
      "cell_type": "code",
      "execution_count": null,
      "id": "4bbdbecc",
      "metadata": {
        "id": "4bbdbecc"
      },
      "outputs": [],
      "source": [
        "cities_data.rename(columns = {'Metrio City':'metro', 'non-metro cities':'nonmetro'}, inplace = True)  ### renaming columns of cities_data"
      ]
    },
    {
      "cell_type": "code",
      "execution_count": null,
      "id": "0c6184b7",
      "metadata": {
        "colab": {
          "base_uri": "https://localhost:8080/",
          "height": 206
        },
        "id": "0c6184b7",
        "outputId": "a9222a17-9a35-43f4-b529-aaa742b338c6"
      },
      "outputs": [
        {
          "output_type": "execute_result",
          "data": {
            "text/plain": [
              "       metro   nonmetro\n",
              "0     Mumbai   Dehradun\n",
              "1      Delhi   Durgapur\n",
              "2    Kolkata    Asansol\n",
              "3    Chennai   Rourkela\n",
              "4  Bangalore  Kozhikode"
            ],
            "text/html": [
              "\n",
              "  <div id=\"df-f42df736-a2f3-4f27-ac85-54a489660c88\" class=\"colab-df-container\">\n",
              "    <div>\n",
              "<style scoped>\n",
              "    .dataframe tbody tr th:only-of-type {\n",
              "        vertical-align: middle;\n",
              "    }\n",
              "\n",
              "    .dataframe tbody tr th {\n",
              "        vertical-align: top;\n",
              "    }\n",
              "\n",
              "    .dataframe thead th {\n",
              "        text-align: right;\n",
              "    }\n",
              "</style>\n",
              "<table border=\"1\" class=\"dataframe\">\n",
              "  <thead>\n",
              "    <tr style=\"text-align: right;\">\n",
              "      <th></th>\n",
              "      <th>metro</th>\n",
              "      <th>nonmetro</th>\n",
              "    </tr>\n",
              "  </thead>\n",
              "  <tbody>\n",
              "    <tr>\n",
              "      <th>0</th>\n",
              "      <td>Mumbai</td>\n",
              "      <td>Dehradun</td>\n",
              "    </tr>\n",
              "    <tr>\n",
              "      <th>1</th>\n",
              "      <td>Delhi</td>\n",
              "      <td>Durgapur</td>\n",
              "    </tr>\n",
              "    <tr>\n",
              "      <th>2</th>\n",
              "      <td>Kolkata</td>\n",
              "      <td>Asansol</td>\n",
              "    </tr>\n",
              "    <tr>\n",
              "      <th>3</th>\n",
              "      <td>Chennai</td>\n",
              "      <td>Rourkela</td>\n",
              "    </tr>\n",
              "    <tr>\n",
              "      <th>4</th>\n",
              "      <td>Bangalore</td>\n",
              "      <td>Kozhikode</td>\n",
              "    </tr>\n",
              "  </tbody>\n",
              "</table>\n",
              "</div>\n",
              "    <div class=\"colab-df-buttons\">\n",
              "\n",
              "  <div class=\"colab-df-container\">\n",
              "    <button class=\"colab-df-convert\" onclick=\"convertToInteractive('df-f42df736-a2f3-4f27-ac85-54a489660c88')\"\n",
              "            title=\"Convert this dataframe to an interactive table.\"\n",
              "            style=\"display:none;\">\n",
              "\n",
              "  <svg xmlns=\"http://www.w3.org/2000/svg\" height=\"24px\" viewBox=\"0 -960 960 960\">\n",
              "    <path d=\"M120-120v-720h720v720H120Zm60-500h600v-160H180v160Zm220 220h160v-160H400v160Zm0 220h160v-160H400v160ZM180-400h160v-160H180v160Zm440 0h160v-160H620v160ZM180-180h160v-160H180v160Zm440 0h160v-160H620v160Z\"/>\n",
              "  </svg>\n",
              "    </button>\n",
              "\n",
              "  <style>\n",
              "    .colab-df-container {\n",
              "      display:flex;\n",
              "      gap: 12px;\n",
              "    }\n",
              "\n",
              "    .colab-df-convert {\n",
              "      background-color: #E8F0FE;\n",
              "      border: none;\n",
              "      border-radius: 50%;\n",
              "      cursor: pointer;\n",
              "      display: none;\n",
              "      fill: #1967D2;\n",
              "      height: 32px;\n",
              "      padding: 0 0 0 0;\n",
              "      width: 32px;\n",
              "    }\n",
              "\n",
              "    .colab-df-convert:hover {\n",
              "      background-color: #E2EBFA;\n",
              "      box-shadow: 0px 1px 2px rgba(60, 64, 67, 0.3), 0px 1px 3px 1px rgba(60, 64, 67, 0.15);\n",
              "      fill: #174EA6;\n",
              "    }\n",
              "\n",
              "    .colab-df-buttons div {\n",
              "      margin-bottom: 4px;\n",
              "    }\n",
              "\n",
              "    [theme=dark] .colab-df-convert {\n",
              "      background-color: #3B4455;\n",
              "      fill: #D2E3FC;\n",
              "    }\n",
              "\n",
              "    [theme=dark] .colab-df-convert:hover {\n",
              "      background-color: #434B5C;\n",
              "      box-shadow: 0px 1px 3px 1px rgba(0, 0, 0, 0.15);\n",
              "      filter: drop-shadow(0px 1px 2px rgba(0, 0, 0, 0.3));\n",
              "      fill: #FFFFFF;\n",
              "    }\n",
              "  </style>\n",
              "\n",
              "    <script>\n",
              "      const buttonEl =\n",
              "        document.querySelector('#df-f42df736-a2f3-4f27-ac85-54a489660c88 button.colab-df-convert');\n",
              "      buttonEl.style.display =\n",
              "        google.colab.kernel.accessAllowed ? 'block' : 'none';\n",
              "\n",
              "      async function convertToInteractive(key) {\n",
              "        const element = document.querySelector('#df-f42df736-a2f3-4f27-ac85-54a489660c88');\n",
              "        const dataTable =\n",
              "          await google.colab.kernel.invokeFunction('convertToInteractive',\n",
              "                                                    [key], {});\n",
              "        if (!dataTable) return;\n",
              "\n",
              "        const docLinkHtml = 'Like what you see? Visit the ' +\n",
              "          '<a target=\"_blank\" href=https://colab.research.google.com/notebooks/data_table.ipynb>data table notebook</a>'\n",
              "          + ' to learn more about interactive tables.';\n",
              "        element.innerHTML = '';\n",
              "        dataTable['output_type'] = 'display_data';\n",
              "        await google.colab.output.renderOutput(dataTable, element);\n",
              "        const docLink = document.createElement('div');\n",
              "        docLink.innerHTML = docLinkHtml;\n",
              "        element.appendChild(docLink);\n",
              "      }\n",
              "    </script>\n",
              "  </div>\n",
              "\n",
              "\n",
              "<div id=\"df-c6c76542-03a9-49d6-acb0-27a54766e39a\">\n",
              "  <button class=\"colab-df-quickchart\" onclick=\"quickchart('df-c6c76542-03a9-49d6-acb0-27a54766e39a')\"\n",
              "            title=\"Suggest charts.\"\n",
              "            style=\"display:none;\">\n",
              "\n",
              "<svg xmlns=\"http://www.w3.org/2000/svg\" height=\"24px\"viewBox=\"0 0 24 24\"\n",
              "     width=\"24px\">\n",
              "    <g>\n",
              "        <path d=\"M19 3H5c-1.1 0-2 .9-2 2v14c0 1.1.9 2 2 2h14c1.1 0 2-.9 2-2V5c0-1.1-.9-2-2-2zM9 17H7v-7h2v7zm4 0h-2V7h2v10zm4 0h-2v-4h2v4z\"/>\n",
              "    </g>\n",
              "</svg>\n",
              "  </button>\n",
              "\n",
              "<style>\n",
              "  .colab-df-quickchart {\n",
              "      --bg-color: #E8F0FE;\n",
              "      --fill-color: #1967D2;\n",
              "      --hover-bg-color: #E2EBFA;\n",
              "      --hover-fill-color: #174EA6;\n",
              "      --disabled-fill-color: #AAA;\n",
              "      --disabled-bg-color: #DDD;\n",
              "  }\n",
              "\n",
              "  [theme=dark] .colab-df-quickchart {\n",
              "      --bg-color: #3B4455;\n",
              "      --fill-color: #D2E3FC;\n",
              "      --hover-bg-color: #434B5C;\n",
              "      --hover-fill-color: #FFFFFF;\n",
              "      --disabled-bg-color: #3B4455;\n",
              "      --disabled-fill-color: #666;\n",
              "  }\n",
              "\n",
              "  .colab-df-quickchart {\n",
              "    background-color: var(--bg-color);\n",
              "    border: none;\n",
              "    border-radius: 50%;\n",
              "    cursor: pointer;\n",
              "    display: none;\n",
              "    fill: var(--fill-color);\n",
              "    height: 32px;\n",
              "    padding: 0;\n",
              "    width: 32px;\n",
              "  }\n",
              "\n",
              "  .colab-df-quickchart:hover {\n",
              "    background-color: var(--hover-bg-color);\n",
              "    box-shadow: 0 1px 2px rgba(60, 64, 67, 0.3), 0 1px 3px 1px rgba(60, 64, 67, 0.15);\n",
              "    fill: var(--button-hover-fill-color);\n",
              "  }\n",
              "\n",
              "  .colab-df-quickchart-complete:disabled,\n",
              "  .colab-df-quickchart-complete:disabled:hover {\n",
              "    background-color: var(--disabled-bg-color);\n",
              "    fill: var(--disabled-fill-color);\n",
              "    box-shadow: none;\n",
              "  }\n",
              "\n",
              "  .colab-df-spinner {\n",
              "    border: 2px solid var(--fill-color);\n",
              "    border-color: transparent;\n",
              "    border-bottom-color: var(--fill-color);\n",
              "    animation:\n",
              "      spin 1s steps(1) infinite;\n",
              "  }\n",
              "\n",
              "  @keyframes spin {\n",
              "    0% {\n",
              "      border-color: transparent;\n",
              "      border-bottom-color: var(--fill-color);\n",
              "      border-left-color: var(--fill-color);\n",
              "    }\n",
              "    20% {\n",
              "      border-color: transparent;\n",
              "      border-left-color: var(--fill-color);\n",
              "      border-top-color: var(--fill-color);\n",
              "    }\n",
              "    30% {\n",
              "      border-color: transparent;\n",
              "      border-left-color: var(--fill-color);\n",
              "      border-top-color: var(--fill-color);\n",
              "      border-right-color: var(--fill-color);\n",
              "    }\n",
              "    40% {\n",
              "      border-color: transparent;\n",
              "      border-right-color: var(--fill-color);\n",
              "      border-top-color: var(--fill-color);\n",
              "    }\n",
              "    60% {\n",
              "      border-color: transparent;\n",
              "      border-right-color: var(--fill-color);\n",
              "    }\n",
              "    80% {\n",
              "      border-color: transparent;\n",
              "      border-right-color: var(--fill-color);\n",
              "      border-bottom-color: var(--fill-color);\n",
              "    }\n",
              "    90% {\n",
              "      border-color: transparent;\n",
              "      border-bottom-color: var(--fill-color);\n",
              "    }\n",
              "  }\n",
              "</style>\n",
              "\n",
              "  <script>\n",
              "    async function quickchart(key) {\n",
              "      const quickchartButtonEl =\n",
              "        document.querySelector('#' + key + ' button');\n",
              "      quickchartButtonEl.disabled = true;  // To prevent multiple clicks.\n",
              "      quickchartButtonEl.classList.add('colab-df-spinner');\n",
              "      try {\n",
              "        const charts = await google.colab.kernel.invokeFunction(\n",
              "            'suggestCharts', [key], {});\n",
              "      } catch (error) {\n",
              "        console.error('Error during call to suggestCharts:', error);\n",
              "      }\n",
              "      quickchartButtonEl.classList.remove('colab-df-spinner');\n",
              "      quickchartButtonEl.classList.add('colab-df-quickchart-complete');\n",
              "    }\n",
              "    (() => {\n",
              "      let quickchartButtonEl =\n",
              "        document.querySelector('#df-c6c76542-03a9-49d6-acb0-27a54766e39a button');\n",
              "      quickchartButtonEl.style.display =\n",
              "        google.colab.kernel.accessAllowed ? 'block' : 'none';\n",
              "    })();\n",
              "  </script>\n",
              "</div>\n",
              "    </div>\n",
              "  </div>\n"
            ]
          },
          "metadata": {},
          "execution_count": 13
        }
      ],
      "source": [
        "cities_data.head() ### it show 5 records of cities_data"
      ]
    },
    {
      "cell_type": "code",
      "execution_count": null,
      "id": "36fd4ec4",
      "metadata": {
        "id": "36fd4ec4"
      },
      "outputs": [],
      "source": [
        "Tier1=college_data[\"Tier1\"].tolist()    #### creating list from college_data columns\n",
        "Tier2=college_data[\"Tier2\"].tolist()\n",
        "Tier3=college_data[\"Tier3\"].tolist()"
      ]
    },
    {
      "cell_type": "code",
      "execution_count": null,
      "id": "874c7ac2",
      "metadata": {
        "id": "874c7ac2"
      },
      "outputs": [],
      "source": [
        "metro=cities_data[\"metro\"].tolist()      #### creating list from cities_data columns\n",
        "non_metro=cities_data[\"nonmetro\"].tolist()\n",
        "\n",
        "\n",
        "\n"
      ]
    },
    {
      "cell_type": "code",
      "execution_count": null,
      "id": "7d35dc77",
      "metadata": {
        "colab": {
          "base_uri": "https://localhost:8080/"
        },
        "id": "7d35dc77",
        "outputId": "319ff3e8-ee7d-48b7-b924-ab507a8d9630"
      },
      "outputs": [
        {
          "output_type": "execute_result",
          "data": {
            "text/plain": [
              "['IIT Bombay',\n",
              " 'IIT Delhi',\n",
              " 'IIT Kharagpur',\n",
              " 'IIT Madras',\n",
              " 'IIT Kanpur',\n",
              " 'IIT Roorkee',\n",
              " 'IIT Guwahati',\n",
              " 'IIIT Hyderabad',\n",
              " 'BITS Pilani (Pilani Campus)',\n",
              " 'IIT Indore',\n",
              " 'IIT Ropar',\n",
              " 'IIT BHU (Varanasi)',\n",
              " 'IIT ISM Dhanbad',\n",
              " 'DTU',\n",
              " 'NSUT Delhi (NSIT)',\n",
              " 'NIT Tiruchipally (Trichy)',\n",
              " 'NIT Warangal',\n",
              " 'NIT Surathkal (Karnataka)',\n",
              " 'Jadavpur University',\n",
              " 'BITS Pilani (Hyderabad Campus)',\n",
              " 'BITS Pilani (Goa Campus)',\n",
              " 'IIIT Allahabad',\n",
              " nan,\n",
              " nan,\n",
              " nan,\n",
              " nan,\n",
              " nan,\n",
              " nan]"
            ]
          },
          "metadata": {},
          "execution_count": 16
        }
      ],
      "source": [
        "Tier1 ### it shows tier1 college list"
      ]
    },
    {
      "cell_type": "code",
      "execution_count": null,
      "id": "9b7c43b5",
      "metadata": {
        "colab": {
          "base_uri": "https://localhost:8080/"
        },
        "id": "9b7c43b5",
        "outputId": "83fb5495-a395-4815-cc5a-862a9db7b5fd"
      },
      "outputs": [
        {
          "output_type": "execute_result",
          "data": {
            "text/plain": [
              "['IIIT Bangalore',\n",
              " 'IIIT Delhi',\n",
              " 'IGDTUW',\n",
              " 'NIT Calicut',\n",
              " 'IIITM Gwalior',\n",
              " 'IIIT Lucknow',\n",
              " 'MNNIT Allahabad',\n",
              " 'Punjab Engineering College',\n",
              " 'DAIICT',\n",
              " 'MNIT Jaipur',\n",
              " 'NIT Durgapur',\n",
              " 'VNIT Nagpur',\n",
              " 'LNMIIT',\n",
              " 'BIT Mesra',\n",
              " 'SVNIT Surat',\n",
              " 'NIT Jalandhar',\n",
              " 'NIT Jamshedpur',\n",
              " 'NIT Kurukshetra',\n",
              " 'NIT Patna',\n",
              " 'NIT Raipur',\n",
              " 'NIT Bhopal',\n",
              " 'NIT Rourkela',\n",
              " 'NIT Silchar',\n",
              " 'NIT Sikkim',\n",
              " 'IIIT Jabalpur',\n",
              " 'Jalpaiguri Government Engineering College',\n",
              " 'IIEST/BESU Shibpur',\n",
              " 'R.V. College of Engineering']"
            ]
          },
          "metadata": {},
          "execution_count": 17
        }
      ],
      "source": [
        "Tier2 ### it shows tier2 college list"
      ]
    },
    {
      "cell_type": "code",
      "execution_count": null,
      "id": "4386c14b",
      "metadata": {
        "colab": {
          "base_uri": "https://localhost:8080/"
        },
        "id": "4386c14b",
        "outputId": "c7ab8d33-a611-4609-fef1-ca235f0931f3"
      },
      "outputs": [
        {
          "output_type": "execute_result",
          "data": {
            "text/plain": [
              "['Ramaiah Institute of Technology, Bengaluru',\n",
              " 'TIET/Thapar University',\n",
              " 'Manipal Main Campus',\n",
              " 'VIT Vellore',\n",
              " 'SRM Main Campus',\n",
              " 'KIIT, Bhubaneswar',\n",
              " 'Amity University',\n",
              " 'BMS College, Bangalore',\n",
              " 'PES University, Bangalore',\n",
              " 'USIT, Delhi',\n",
              " 'MAIT, Delhi',\n",
              " 'MSIT, Delhi',\n",
              " 'Dayanand College of Engineering, Bangalore',\n",
              " 'Heritage Institute of Technology, Kolkata',\n",
              " 'IEM, Kolkata',\n",
              " 'Techno India, Kolkata',\n",
              " 'Jaypee, Noida',\n",
              " 'Amrita University, Coimbatore',\n",
              " 'Cummins College of Engineering for Women, Pune',\n",
              " nan,\n",
              " nan,\n",
              " nan,\n",
              " nan,\n",
              " nan,\n",
              " nan,\n",
              " nan,\n",
              " nan,\n",
              " nan]"
            ]
          },
          "metadata": {},
          "execution_count": 18
        }
      ],
      "source": [
        "Tier3   ### it shows Tier3 college list"
      ]
    },
    {
      "cell_type": "code",
      "execution_count": null,
      "id": "803eeaff",
      "metadata": {
        "colab": {
          "base_uri": "https://localhost:8080/"
        },
        "id": "803eeaff",
        "outputId": "9a6f1286-eb9a-4232-a69d-0eb354adeef5"
      },
      "outputs": [
        {
          "output_type": "execute_result",
          "data": {
            "text/plain": [
              "['Mumbai',\n",
              " 'Delhi',\n",
              " 'Kolkata',\n",
              " 'Chennai',\n",
              " 'Bangalore',\n",
              " 'Hyderabad',\n",
              " 'Ahmedabad',\n",
              " 'Pune',\n",
              " 'Surat']"
            ]
          },
          "metadata": {},
          "execution_count": 19
        }
      ],
      "source": [
        "metro  #### it shows metro cities list"
      ]
    },
    {
      "cell_type": "code",
      "execution_count": null,
      "id": "00516f7c",
      "metadata": {
        "colab": {
          "base_uri": "https://localhost:8080/"
        },
        "id": "00516f7c",
        "outputId": "3ab07d0f-1345-4918-d0a1-b55b861f1078"
      },
      "outputs": [
        {
          "output_type": "execute_result",
          "data": {
            "text/plain": [
              "['Dehradun',\n",
              " 'Durgapur',\n",
              " 'Asansol',\n",
              " 'Rourkela',\n",
              " 'Kozhikode',\n",
              " 'Rajpur Sonarpur',\n",
              " 'Kolhapur',\n",
              " 'Ajmer',\n",
              " nan]"
            ]
          },
          "metadata": {},
          "execution_count": 20
        }
      ],
      "source": [
        "non_metro  ### it shows non_metro cities list"
      ]
    },
    {
      "cell_type": "code",
      "execution_count": null,
      "id": "7f5a55ac",
      "metadata": {
        "colab": {
          "base_uri": "https://localhost:8080/"
        },
        "id": "7f5a55ac",
        "outputId": "eeaeb4fe-a4bc-4e20-eef0-b9391f3e9220"
      },
      "outputs": [
        {
          "output_type": "stream",
          "name": "stdout",
          "text": [
            "9 9\n"
          ]
        }
      ],
      "source": [
        "print(len(metro), len(non_metro))  ### shows number of records in list"
      ]
    },
    {
      "cell_type": "code",
      "execution_count": null,
      "id": "26d90e06",
      "metadata": {
        "colab": {
          "base_uri": "https://localhost:8080/"
        },
        "id": "26d90e06",
        "outputId": "eadd63b2-768d-44eb-c410-ca8ecca4a955"
      },
      "outputs": [
        {
          "output_type": "stream",
          "name": "stdout",
          "text": [
            "28 28 28\n"
          ]
        }
      ],
      "source": [
        "print(len(Tier1), len(Tier2), len(Tier3)) ### shows number of records in list"
      ]
    },
    {
      "cell_type": "code",
      "execution_count": null,
      "id": "8364237b",
      "metadata": {
        "id": "8364237b"
      },
      "outputs": [],
      "source": [
        "for item in df.College:    ### assigns category to the names of record\n",
        "    if item in Tier1:\n",
        "        df[\"College\"].replace(item,\"Tier1\", inplace=True)\n",
        "    elif item in Tier2:\n",
        "        df[\"College\"].replace(item,\"Tier2\", inplace=True)\n",
        "    elif item in Tier3:\n",
        "        df[\"College\"].replace(item,\"Tier3\", inplace=True)\n"
      ]
    },
    {
      "cell_type": "code",
      "execution_count": null,
      "id": "f37c6eb6",
      "metadata": {
        "colab": {
          "base_uri": "https://localhost:8080/"
        },
        "id": "f37c6eb6",
        "outputId": "47742860-fff3-4f3e-ba6c-096ffff2ec27"
      },
      "outputs": [
        {
          "output_type": "execute_result",
          "data": {
            "text/plain": [
              "(1589, 8)"
            ]
          },
          "metadata": {},
          "execution_count": 24
        }
      ],
      "source": [
        "df.shape ### it shows diamensions"
      ]
    },
    {
      "cell_type": "code",
      "execution_count": null,
      "id": "db51f780",
      "metadata": {
        "colab": {
          "base_uri": "https://localhost:8080/",
          "height": 206
        },
        "id": "db51f780",
        "outputId": "a968201d-1707-4369-822f-43c28bae49a6"
      },
      "outputs": [
        {
          "output_type": "execute_result",
          "data": {
            "text/plain": [
              "  College             City       Role  Previous CTC  Previous job change  \\\n",
              "0   Tier2          Asansol    Manager       55523.0                    3   \n",
              "1   Tier2            Ajmer  Executive       57081.0                    1   \n",
              "2   Tier3  Rajpur Sonarpur  Executive       60347.0                    2   \n",
              "3   Tier3            Ajmer  Executive       49010.0                    2   \n",
              "4   Tier1         Durgapur  Executive       57879.0                    4   \n",
              "\n",
              "   Graduation Marks  EXP (Month)       CTC  \n",
              "0                66           19  71406.58  \n",
              "1                84           18  68005.87  \n",
              "2                52           28  76764.02  \n",
              "3                81           33  82092.39  \n",
              "4                74           32  73878.10  "
            ],
            "text/html": [
              "\n",
              "  <div id=\"df-1201a8d5-18a3-4998-b548-97fb69d21434\" class=\"colab-df-container\">\n",
              "    <div>\n",
              "<style scoped>\n",
              "    .dataframe tbody tr th:only-of-type {\n",
              "        vertical-align: middle;\n",
              "    }\n",
              "\n",
              "    .dataframe tbody tr th {\n",
              "        vertical-align: top;\n",
              "    }\n",
              "\n",
              "    .dataframe thead th {\n",
              "        text-align: right;\n",
              "    }\n",
              "</style>\n",
              "<table border=\"1\" class=\"dataframe\">\n",
              "  <thead>\n",
              "    <tr style=\"text-align: right;\">\n",
              "      <th></th>\n",
              "      <th>College</th>\n",
              "      <th>City</th>\n",
              "      <th>Role</th>\n",
              "      <th>Previous CTC</th>\n",
              "      <th>Previous job change</th>\n",
              "      <th>Graduation Marks</th>\n",
              "      <th>EXP (Month)</th>\n",
              "      <th>CTC</th>\n",
              "    </tr>\n",
              "  </thead>\n",
              "  <tbody>\n",
              "    <tr>\n",
              "      <th>0</th>\n",
              "      <td>Tier2</td>\n",
              "      <td>Asansol</td>\n",
              "      <td>Manager</td>\n",
              "      <td>55523.0</td>\n",
              "      <td>3</td>\n",
              "      <td>66</td>\n",
              "      <td>19</td>\n",
              "      <td>71406.58</td>\n",
              "    </tr>\n",
              "    <tr>\n",
              "      <th>1</th>\n",
              "      <td>Tier2</td>\n",
              "      <td>Ajmer</td>\n",
              "      <td>Executive</td>\n",
              "      <td>57081.0</td>\n",
              "      <td>1</td>\n",
              "      <td>84</td>\n",
              "      <td>18</td>\n",
              "      <td>68005.87</td>\n",
              "    </tr>\n",
              "    <tr>\n",
              "      <th>2</th>\n",
              "      <td>Tier3</td>\n",
              "      <td>Rajpur Sonarpur</td>\n",
              "      <td>Executive</td>\n",
              "      <td>60347.0</td>\n",
              "      <td>2</td>\n",
              "      <td>52</td>\n",
              "      <td>28</td>\n",
              "      <td>76764.02</td>\n",
              "    </tr>\n",
              "    <tr>\n",
              "      <th>3</th>\n",
              "      <td>Tier3</td>\n",
              "      <td>Ajmer</td>\n",
              "      <td>Executive</td>\n",
              "      <td>49010.0</td>\n",
              "      <td>2</td>\n",
              "      <td>81</td>\n",
              "      <td>33</td>\n",
              "      <td>82092.39</td>\n",
              "    </tr>\n",
              "    <tr>\n",
              "      <th>4</th>\n",
              "      <td>Tier1</td>\n",
              "      <td>Durgapur</td>\n",
              "      <td>Executive</td>\n",
              "      <td>57879.0</td>\n",
              "      <td>4</td>\n",
              "      <td>74</td>\n",
              "      <td>32</td>\n",
              "      <td>73878.10</td>\n",
              "    </tr>\n",
              "  </tbody>\n",
              "</table>\n",
              "</div>\n",
              "    <div class=\"colab-df-buttons\">\n",
              "\n",
              "  <div class=\"colab-df-container\">\n",
              "    <button class=\"colab-df-convert\" onclick=\"convertToInteractive('df-1201a8d5-18a3-4998-b548-97fb69d21434')\"\n",
              "            title=\"Convert this dataframe to an interactive table.\"\n",
              "            style=\"display:none;\">\n",
              "\n",
              "  <svg xmlns=\"http://www.w3.org/2000/svg\" height=\"24px\" viewBox=\"0 -960 960 960\">\n",
              "    <path d=\"M120-120v-720h720v720H120Zm60-500h600v-160H180v160Zm220 220h160v-160H400v160Zm0 220h160v-160H400v160ZM180-400h160v-160H180v160Zm440 0h160v-160H620v160ZM180-180h160v-160H180v160Zm440 0h160v-160H620v160Z\"/>\n",
              "  </svg>\n",
              "    </button>\n",
              "\n",
              "  <style>\n",
              "    .colab-df-container {\n",
              "      display:flex;\n",
              "      gap: 12px;\n",
              "    }\n",
              "\n",
              "    .colab-df-convert {\n",
              "      background-color: #E8F0FE;\n",
              "      border: none;\n",
              "      border-radius: 50%;\n",
              "      cursor: pointer;\n",
              "      display: none;\n",
              "      fill: #1967D2;\n",
              "      height: 32px;\n",
              "      padding: 0 0 0 0;\n",
              "      width: 32px;\n",
              "    }\n",
              "\n",
              "    .colab-df-convert:hover {\n",
              "      background-color: #E2EBFA;\n",
              "      box-shadow: 0px 1px 2px rgba(60, 64, 67, 0.3), 0px 1px 3px 1px rgba(60, 64, 67, 0.15);\n",
              "      fill: #174EA6;\n",
              "    }\n",
              "\n",
              "    .colab-df-buttons div {\n",
              "      margin-bottom: 4px;\n",
              "    }\n",
              "\n",
              "    [theme=dark] .colab-df-convert {\n",
              "      background-color: #3B4455;\n",
              "      fill: #D2E3FC;\n",
              "    }\n",
              "\n",
              "    [theme=dark] .colab-df-convert:hover {\n",
              "      background-color: #434B5C;\n",
              "      box-shadow: 0px 1px 3px 1px rgba(0, 0, 0, 0.15);\n",
              "      filter: drop-shadow(0px 1px 2px rgba(0, 0, 0, 0.3));\n",
              "      fill: #FFFFFF;\n",
              "    }\n",
              "  </style>\n",
              "\n",
              "    <script>\n",
              "      const buttonEl =\n",
              "        document.querySelector('#df-1201a8d5-18a3-4998-b548-97fb69d21434 button.colab-df-convert');\n",
              "      buttonEl.style.display =\n",
              "        google.colab.kernel.accessAllowed ? 'block' : 'none';\n",
              "\n",
              "      async function convertToInteractive(key) {\n",
              "        const element = document.querySelector('#df-1201a8d5-18a3-4998-b548-97fb69d21434');\n",
              "        const dataTable =\n",
              "          await google.colab.kernel.invokeFunction('convertToInteractive',\n",
              "                                                    [key], {});\n",
              "        if (!dataTable) return;\n",
              "\n",
              "        const docLinkHtml = 'Like what you see? Visit the ' +\n",
              "          '<a target=\"_blank\" href=https://colab.research.google.com/notebooks/data_table.ipynb>data table notebook</a>'\n",
              "          + ' to learn more about interactive tables.';\n",
              "        element.innerHTML = '';\n",
              "        dataTable['output_type'] = 'display_data';\n",
              "        await google.colab.output.renderOutput(dataTable, element);\n",
              "        const docLink = document.createElement('div');\n",
              "        docLink.innerHTML = docLinkHtml;\n",
              "        element.appendChild(docLink);\n",
              "      }\n",
              "    </script>\n",
              "  </div>\n",
              "\n",
              "\n",
              "<div id=\"df-7f8c3248-52ce-4d15-9803-66b3aa2e8072\">\n",
              "  <button class=\"colab-df-quickchart\" onclick=\"quickchart('df-7f8c3248-52ce-4d15-9803-66b3aa2e8072')\"\n",
              "            title=\"Suggest charts.\"\n",
              "            style=\"display:none;\">\n",
              "\n",
              "<svg xmlns=\"http://www.w3.org/2000/svg\" height=\"24px\"viewBox=\"0 0 24 24\"\n",
              "     width=\"24px\">\n",
              "    <g>\n",
              "        <path d=\"M19 3H5c-1.1 0-2 .9-2 2v14c0 1.1.9 2 2 2h14c1.1 0 2-.9 2-2V5c0-1.1-.9-2-2-2zM9 17H7v-7h2v7zm4 0h-2V7h2v10zm4 0h-2v-4h2v4z\"/>\n",
              "    </g>\n",
              "</svg>\n",
              "  </button>\n",
              "\n",
              "<style>\n",
              "  .colab-df-quickchart {\n",
              "      --bg-color: #E8F0FE;\n",
              "      --fill-color: #1967D2;\n",
              "      --hover-bg-color: #E2EBFA;\n",
              "      --hover-fill-color: #174EA6;\n",
              "      --disabled-fill-color: #AAA;\n",
              "      --disabled-bg-color: #DDD;\n",
              "  }\n",
              "\n",
              "  [theme=dark] .colab-df-quickchart {\n",
              "      --bg-color: #3B4455;\n",
              "      --fill-color: #D2E3FC;\n",
              "      --hover-bg-color: #434B5C;\n",
              "      --hover-fill-color: #FFFFFF;\n",
              "      --disabled-bg-color: #3B4455;\n",
              "      --disabled-fill-color: #666;\n",
              "  }\n",
              "\n",
              "  .colab-df-quickchart {\n",
              "    background-color: var(--bg-color);\n",
              "    border: none;\n",
              "    border-radius: 50%;\n",
              "    cursor: pointer;\n",
              "    display: none;\n",
              "    fill: var(--fill-color);\n",
              "    height: 32px;\n",
              "    padding: 0;\n",
              "    width: 32px;\n",
              "  }\n",
              "\n",
              "  .colab-df-quickchart:hover {\n",
              "    background-color: var(--hover-bg-color);\n",
              "    box-shadow: 0 1px 2px rgba(60, 64, 67, 0.3), 0 1px 3px 1px rgba(60, 64, 67, 0.15);\n",
              "    fill: var(--button-hover-fill-color);\n",
              "  }\n",
              "\n",
              "  .colab-df-quickchart-complete:disabled,\n",
              "  .colab-df-quickchart-complete:disabled:hover {\n",
              "    background-color: var(--disabled-bg-color);\n",
              "    fill: var(--disabled-fill-color);\n",
              "    box-shadow: none;\n",
              "  }\n",
              "\n",
              "  .colab-df-spinner {\n",
              "    border: 2px solid var(--fill-color);\n",
              "    border-color: transparent;\n",
              "    border-bottom-color: var(--fill-color);\n",
              "    animation:\n",
              "      spin 1s steps(1) infinite;\n",
              "  }\n",
              "\n",
              "  @keyframes spin {\n",
              "    0% {\n",
              "      border-color: transparent;\n",
              "      border-bottom-color: var(--fill-color);\n",
              "      border-left-color: var(--fill-color);\n",
              "    }\n",
              "    20% {\n",
              "      border-color: transparent;\n",
              "      border-left-color: var(--fill-color);\n",
              "      border-top-color: var(--fill-color);\n",
              "    }\n",
              "    30% {\n",
              "      border-color: transparent;\n",
              "      border-left-color: var(--fill-color);\n",
              "      border-top-color: var(--fill-color);\n",
              "      border-right-color: var(--fill-color);\n",
              "    }\n",
              "    40% {\n",
              "      border-color: transparent;\n",
              "      border-right-color: var(--fill-color);\n",
              "      border-top-color: var(--fill-color);\n",
              "    }\n",
              "    60% {\n",
              "      border-color: transparent;\n",
              "      border-right-color: var(--fill-color);\n",
              "    }\n",
              "    80% {\n",
              "      border-color: transparent;\n",
              "      border-right-color: var(--fill-color);\n",
              "      border-bottom-color: var(--fill-color);\n",
              "    }\n",
              "    90% {\n",
              "      border-color: transparent;\n",
              "      border-bottom-color: var(--fill-color);\n",
              "    }\n",
              "  }\n",
              "</style>\n",
              "\n",
              "  <script>\n",
              "    async function quickchart(key) {\n",
              "      const quickchartButtonEl =\n",
              "        document.querySelector('#' + key + ' button');\n",
              "      quickchartButtonEl.disabled = true;  // To prevent multiple clicks.\n",
              "      quickchartButtonEl.classList.add('colab-df-spinner');\n",
              "      try {\n",
              "        const charts = await google.colab.kernel.invokeFunction(\n",
              "            'suggestCharts', [key], {});\n",
              "      } catch (error) {\n",
              "        console.error('Error during call to suggestCharts:', error);\n",
              "      }\n",
              "      quickchartButtonEl.classList.remove('colab-df-spinner');\n",
              "      quickchartButtonEl.classList.add('colab-df-quickchart-complete');\n",
              "    }\n",
              "    (() => {\n",
              "      let quickchartButtonEl =\n",
              "        document.querySelector('#df-7f8c3248-52ce-4d15-9803-66b3aa2e8072 button');\n",
              "      quickchartButtonEl.style.display =\n",
              "        google.colab.kernel.accessAllowed ? 'block' : 'none';\n",
              "    })();\n",
              "  </script>\n",
              "</div>\n",
              "    </div>\n",
              "  </div>\n"
            ]
          },
          "metadata": {},
          "execution_count": 25
        }
      ],
      "source": [
        "df.head() ### it shows first five records"
      ]
    },
    {
      "cell_type": "code",
      "execution_count": null,
      "id": "02c326aa",
      "metadata": {
        "id": "02c326aa"
      },
      "outputs": [],
      "source": [
        "for item in df.City: ### assigns the category to the names of records\n",
        "    if item in metro:\n",
        "        df[\"City\"].replace(item,\"metro\", inplace=True)\n",
        "    elif item in non_metro:\n",
        "        df[\"City\"].replace(item,\"nonmetro\", inplace=True)\n",
        "\n"
      ]
    },
    {
      "cell_type": "code",
      "execution_count": null,
      "id": "c30d71c3",
      "metadata": {
        "colab": {
          "base_uri": "https://localhost:8080/",
          "height": 206
        },
        "id": "c30d71c3",
        "outputId": "fb1482c5-6d88-4c3e-a23e-942059087391"
      },
      "outputs": [
        {
          "output_type": "execute_result",
          "data": {
            "text/plain": [
              "  College      City       Role  Previous CTC  Previous job change  \\\n",
              "0   Tier2  nonmetro    Manager       55523.0                    3   \n",
              "1   Tier2  nonmetro  Executive       57081.0                    1   \n",
              "2   Tier3  nonmetro  Executive       60347.0                    2   \n",
              "3   Tier3  nonmetro  Executive       49010.0                    2   \n",
              "4   Tier1  nonmetro  Executive       57879.0                    4   \n",
              "\n",
              "   Graduation Marks  EXP (Month)       CTC  \n",
              "0                66           19  71406.58  \n",
              "1                84           18  68005.87  \n",
              "2                52           28  76764.02  \n",
              "3                81           33  82092.39  \n",
              "4                74           32  73878.10  "
            ],
            "text/html": [
              "\n",
              "  <div id=\"df-64616133-b5e6-44f6-9cd0-117ff5ed3bf8\" class=\"colab-df-container\">\n",
              "    <div>\n",
              "<style scoped>\n",
              "    .dataframe tbody tr th:only-of-type {\n",
              "        vertical-align: middle;\n",
              "    }\n",
              "\n",
              "    .dataframe tbody tr th {\n",
              "        vertical-align: top;\n",
              "    }\n",
              "\n",
              "    .dataframe thead th {\n",
              "        text-align: right;\n",
              "    }\n",
              "</style>\n",
              "<table border=\"1\" class=\"dataframe\">\n",
              "  <thead>\n",
              "    <tr style=\"text-align: right;\">\n",
              "      <th></th>\n",
              "      <th>College</th>\n",
              "      <th>City</th>\n",
              "      <th>Role</th>\n",
              "      <th>Previous CTC</th>\n",
              "      <th>Previous job change</th>\n",
              "      <th>Graduation Marks</th>\n",
              "      <th>EXP (Month)</th>\n",
              "      <th>CTC</th>\n",
              "    </tr>\n",
              "  </thead>\n",
              "  <tbody>\n",
              "    <tr>\n",
              "      <th>0</th>\n",
              "      <td>Tier2</td>\n",
              "      <td>nonmetro</td>\n",
              "      <td>Manager</td>\n",
              "      <td>55523.0</td>\n",
              "      <td>3</td>\n",
              "      <td>66</td>\n",
              "      <td>19</td>\n",
              "      <td>71406.58</td>\n",
              "    </tr>\n",
              "    <tr>\n",
              "      <th>1</th>\n",
              "      <td>Tier2</td>\n",
              "      <td>nonmetro</td>\n",
              "      <td>Executive</td>\n",
              "      <td>57081.0</td>\n",
              "      <td>1</td>\n",
              "      <td>84</td>\n",
              "      <td>18</td>\n",
              "      <td>68005.87</td>\n",
              "    </tr>\n",
              "    <tr>\n",
              "      <th>2</th>\n",
              "      <td>Tier3</td>\n",
              "      <td>nonmetro</td>\n",
              "      <td>Executive</td>\n",
              "      <td>60347.0</td>\n",
              "      <td>2</td>\n",
              "      <td>52</td>\n",
              "      <td>28</td>\n",
              "      <td>76764.02</td>\n",
              "    </tr>\n",
              "    <tr>\n",
              "      <th>3</th>\n",
              "      <td>Tier3</td>\n",
              "      <td>nonmetro</td>\n",
              "      <td>Executive</td>\n",
              "      <td>49010.0</td>\n",
              "      <td>2</td>\n",
              "      <td>81</td>\n",
              "      <td>33</td>\n",
              "      <td>82092.39</td>\n",
              "    </tr>\n",
              "    <tr>\n",
              "      <th>4</th>\n",
              "      <td>Tier1</td>\n",
              "      <td>nonmetro</td>\n",
              "      <td>Executive</td>\n",
              "      <td>57879.0</td>\n",
              "      <td>4</td>\n",
              "      <td>74</td>\n",
              "      <td>32</td>\n",
              "      <td>73878.10</td>\n",
              "    </tr>\n",
              "  </tbody>\n",
              "</table>\n",
              "</div>\n",
              "    <div class=\"colab-df-buttons\">\n",
              "\n",
              "  <div class=\"colab-df-container\">\n",
              "    <button class=\"colab-df-convert\" onclick=\"convertToInteractive('df-64616133-b5e6-44f6-9cd0-117ff5ed3bf8')\"\n",
              "            title=\"Convert this dataframe to an interactive table.\"\n",
              "            style=\"display:none;\">\n",
              "\n",
              "  <svg xmlns=\"http://www.w3.org/2000/svg\" height=\"24px\" viewBox=\"0 -960 960 960\">\n",
              "    <path d=\"M120-120v-720h720v720H120Zm60-500h600v-160H180v160Zm220 220h160v-160H400v160Zm0 220h160v-160H400v160ZM180-400h160v-160H180v160Zm440 0h160v-160H620v160ZM180-180h160v-160H180v160Zm440 0h160v-160H620v160Z\"/>\n",
              "  </svg>\n",
              "    </button>\n",
              "\n",
              "  <style>\n",
              "    .colab-df-container {\n",
              "      display:flex;\n",
              "      gap: 12px;\n",
              "    }\n",
              "\n",
              "    .colab-df-convert {\n",
              "      background-color: #E8F0FE;\n",
              "      border: none;\n",
              "      border-radius: 50%;\n",
              "      cursor: pointer;\n",
              "      display: none;\n",
              "      fill: #1967D2;\n",
              "      height: 32px;\n",
              "      padding: 0 0 0 0;\n",
              "      width: 32px;\n",
              "    }\n",
              "\n",
              "    .colab-df-convert:hover {\n",
              "      background-color: #E2EBFA;\n",
              "      box-shadow: 0px 1px 2px rgba(60, 64, 67, 0.3), 0px 1px 3px 1px rgba(60, 64, 67, 0.15);\n",
              "      fill: #174EA6;\n",
              "    }\n",
              "\n",
              "    .colab-df-buttons div {\n",
              "      margin-bottom: 4px;\n",
              "    }\n",
              "\n",
              "    [theme=dark] .colab-df-convert {\n",
              "      background-color: #3B4455;\n",
              "      fill: #D2E3FC;\n",
              "    }\n",
              "\n",
              "    [theme=dark] .colab-df-convert:hover {\n",
              "      background-color: #434B5C;\n",
              "      box-shadow: 0px 1px 3px 1px rgba(0, 0, 0, 0.15);\n",
              "      filter: drop-shadow(0px 1px 2px rgba(0, 0, 0, 0.3));\n",
              "      fill: #FFFFFF;\n",
              "    }\n",
              "  </style>\n",
              "\n",
              "    <script>\n",
              "      const buttonEl =\n",
              "        document.querySelector('#df-64616133-b5e6-44f6-9cd0-117ff5ed3bf8 button.colab-df-convert');\n",
              "      buttonEl.style.display =\n",
              "        google.colab.kernel.accessAllowed ? 'block' : 'none';\n",
              "\n",
              "      async function convertToInteractive(key) {\n",
              "        const element = document.querySelector('#df-64616133-b5e6-44f6-9cd0-117ff5ed3bf8');\n",
              "        const dataTable =\n",
              "          await google.colab.kernel.invokeFunction('convertToInteractive',\n",
              "                                                    [key], {});\n",
              "        if (!dataTable) return;\n",
              "\n",
              "        const docLinkHtml = 'Like what you see? Visit the ' +\n",
              "          '<a target=\"_blank\" href=https://colab.research.google.com/notebooks/data_table.ipynb>data table notebook</a>'\n",
              "          + ' to learn more about interactive tables.';\n",
              "        element.innerHTML = '';\n",
              "        dataTable['output_type'] = 'display_data';\n",
              "        await google.colab.output.renderOutput(dataTable, element);\n",
              "        const docLink = document.createElement('div');\n",
              "        docLink.innerHTML = docLinkHtml;\n",
              "        element.appendChild(docLink);\n",
              "      }\n",
              "    </script>\n",
              "  </div>\n",
              "\n",
              "\n",
              "<div id=\"df-13a7f66b-1d54-4164-b459-b9078d4104e6\">\n",
              "  <button class=\"colab-df-quickchart\" onclick=\"quickchart('df-13a7f66b-1d54-4164-b459-b9078d4104e6')\"\n",
              "            title=\"Suggest charts.\"\n",
              "            style=\"display:none;\">\n",
              "\n",
              "<svg xmlns=\"http://www.w3.org/2000/svg\" height=\"24px\"viewBox=\"0 0 24 24\"\n",
              "     width=\"24px\">\n",
              "    <g>\n",
              "        <path d=\"M19 3H5c-1.1 0-2 .9-2 2v14c0 1.1.9 2 2 2h14c1.1 0 2-.9 2-2V5c0-1.1-.9-2-2-2zM9 17H7v-7h2v7zm4 0h-2V7h2v10zm4 0h-2v-4h2v4z\"/>\n",
              "    </g>\n",
              "</svg>\n",
              "  </button>\n",
              "\n",
              "<style>\n",
              "  .colab-df-quickchart {\n",
              "      --bg-color: #E8F0FE;\n",
              "      --fill-color: #1967D2;\n",
              "      --hover-bg-color: #E2EBFA;\n",
              "      --hover-fill-color: #174EA6;\n",
              "      --disabled-fill-color: #AAA;\n",
              "      --disabled-bg-color: #DDD;\n",
              "  }\n",
              "\n",
              "  [theme=dark] .colab-df-quickchart {\n",
              "      --bg-color: #3B4455;\n",
              "      --fill-color: #D2E3FC;\n",
              "      --hover-bg-color: #434B5C;\n",
              "      --hover-fill-color: #FFFFFF;\n",
              "      --disabled-bg-color: #3B4455;\n",
              "      --disabled-fill-color: #666;\n",
              "  }\n",
              "\n",
              "  .colab-df-quickchart {\n",
              "    background-color: var(--bg-color);\n",
              "    border: none;\n",
              "    border-radius: 50%;\n",
              "    cursor: pointer;\n",
              "    display: none;\n",
              "    fill: var(--fill-color);\n",
              "    height: 32px;\n",
              "    padding: 0;\n",
              "    width: 32px;\n",
              "  }\n",
              "\n",
              "  .colab-df-quickchart:hover {\n",
              "    background-color: var(--hover-bg-color);\n",
              "    box-shadow: 0 1px 2px rgba(60, 64, 67, 0.3), 0 1px 3px 1px rgba(60, 64, 67, 0.15);\n",
              "    fill: var(--button-hover-fill-color);\n",
              "  }\n",
              "\n",
              "  .colab-df-quickchart-complete:disabled,\n",
              "  .colab-df-quickchart-complete:disabled:hover {\n",
              "    background-color: var(--disabled-bg-color);\n",
              "    fill: var(--disabled-fill-color);\n",
              "    box-shadow: none;\n",
              "  }\n",
              "\n",
              "  .colab-df-spinner {\n",
              "    border: 2px solid var(--fill-color);\n",
              "    border-color: transparent;\n",
              "    border-bottom-color: var(--fill-color);\n",
              "    animation:\n",
              "      spin 1s steps(1) infinite;\n",
              "  }\n",
              "\n",
              "  @keyframes spin {\n",
              "    0% {\n",
              "      border-color: transparent;\n",
              "      border-bottom-color: var(--fill-color);\n",
              "      border-left-color: var(--fill-color);\n",
              "    }\n",
              "    20% {\n",
              "      border-color: transparent;\n",
              "      border-left-color: var(--fill-color);\n",
              "      border-top-color: var(--fill-color);\n",
              "    }\n",
              "    30% {\n",
              "      border-color: transparent;\n",
              "      border-left-color: var(--fill-color);\n",
              "      border-top-color: var(--fill-color);\n",
              "      border-right-color: var(--fill-color);\n",
              "    }\n",
              "    40% {\n",
              "      border-color: transparent;\n",
              "      border-right-color: var(--fill-color);\n",
              "      border-top-color: var(--fill-color);\n",
              "    }\n",
              "    60% {\n",
              "      border-color: transparent;\n",
              "      border-right-color: var(--fill-color);\n",
              "    }\n",
              "    80% {\n",
              "      border-color: transparent;\n",
              "      border-right-color: var(--fill-color);\n",
              "      border-bottom-color: var(--fill-color);\n",
              "    }\n",
              "    90% {\n",
              "      border-color: transparent;\n",
              "      border-bottom-color: var(--fill-color);\n",
              "    }\n",
              "  }\n",
              "</style>\n",
              "\n",
              "  <script>\n",
              "    async function quickchart(key) {\n",
              "      const quickchartButtonEl =\n",
              "        document.querySelector('#' + key + ' button');\n",
              "      quickchartButtonEl.disabled = true;  // To prevent multiple clicks.\n",
              "      quickchartButtonEl.classList.add('colab-df-spinner');\n",
              "      try {\n",
              "        const charts = await google.colab.kernel.invokeFunction(\n",
              "            'suggestCharts', [key], {});\n",
              "      } catch (error) {\n",
              "        console.error('Error during call to suggestCharts:', error);\n",
              "      }\n",
              "      quickchartButtonEl.classList.remove('colab-df-spinner');\n",
              "      quickchartButtonEl.classList.add('colab-df-quickchart-complete');\n",
              "    }\n",
              "    (() => {\n",
              "      let quickchartButtonEl =\n",
              "        document.querySelector('#df-13a7f66b-1d54-4164-b459-b9078d4104e6 button');\n",
              "      quickchartButtonEl.style.display =\n",
              "        google.colab.kernel.accessAllowed ? 'block' : 'none';\n",
              "    })();\n",
              "  </script>\n",
              "</div>\n",
              "    </div>\n",
              "  </div>\n"
            ]
          },
          "metadata": {},
          "execution_count": 27
        }
      ],
      "source": [
        "df.head() ### shows the first five records of list"
      ]
    },
    {
      "cell_type": "code",
      "execution_count": null,
      "id": "7cb4ed7a",
      "metadata": {
        "colab": {
          "base_uri": "https://localhost:8080/"
        },
        "id": "7cb4ed7a",
        "outputId": "c23beb99-002a-41c1-d0b9-0bfed423274b"
      },
      "outputs": [
        {
          "output_type": "stream",
          "name": "stdout",
          "text": [
            "46\n"
          ]
        }
      ],
      "source": [
        "df1 = df[df.duplicated()] #### finding duplicates\n",
        "print(len(df1))"
      ]
    },
    {
      "cell_type": "code",
      "execution_count": null,
      "id": "6a0ecebe",
      "metadata": {
        "id": "6a0ecebe"
      },
      "outputs": [],
      "source": [
        "df=pd.get_dummies(df)    ### creating numerical variable from categorical data using n_hot_encoding"
      ]
    },
    {
      "cell_type": "code",
      "execution_count": null,
      "id": "d4f15b04",
      "metadata": {
        "colab": {
          "base_uri": "https://localhost:8080/",
          "height": 129
        },
        "id": "d4f15b04",
        "outputId": "19d43e39-2251-4d68-a64b-aa26b89e1261"
      },
      "outputs": [
        {
          "output_type": "execute_result",
          "data": {
            "text/plain": [
              "   Previous CTC  Previous job change  Graduation Marks  EXP (Month)       CTC  \\\n",
              "0       55523.0                    3                66           19  71406.58   \n",
              "1       57081.0                    1                84           18  68005.87   \n",
              "\n",
              "   College_Tier1  College_Tier2  College_Tier3  City_metro  City_nonmetro  \\\n",
              "0              0              1              0           0              1   \n",
              "1              0              1              0           0              1   \n",
              "\n",
              "   Role_Executive  Role_Manager  \n",
              "0               0             1  \n",
              "1               1             0  "
            ],
            "text/html": [
              "\n",
              "  <div id=\"df-670cd6dc-c397-40e2-a052-02529bb7ac2b\" class=\"colab-df-container\">\n",
              "    <div>\n",
              "<style scoped>\n",
              "    .dataframe tbody tr th:only-of-type {\n",
              "        vertical-align: middle;\n",
              "    }\n",
              "\n",
              "    .dataframe tbody tr th {\n",
              "        vertical-align: top;\n",
              "    }\n",
              "\n",
              "    .dataframe thead th {\n",
              "        text-align: right;\n",
              "    }\n",
              "</style>\n",
              "<table border=\"1\" class=\"dataframe\">\n",
              "  <thead>\n",
              "    <tr style=\"text-align: right;\">\n",
              "      <th></th>\n",
              "      <th>Previous CTC</th>\n",
              "      <th>Previous job change</th>\n",
              "      <th>Graduation Marks</th>\n",
              "      <th>EXP (Month)</th>\n",
              "      <th>CTC</th>\n",
              "      <th>College_Tier1</th>\n",
              "      <th>College_Tier2</th>\n",
              "      <th>College_Tier3</th>\n",
              "      <th>City_metro</th>\n",
              "      <th>City_nonmetro</th>\n",
              "      <th>Role_Executive</th>\n",
              "      <th>Role_Manager</th>\n",
              "    </tr>\n",
              "  </thead>\n",
              "  <tbody>\n",
              "    <tr>\n",
              "      <th>0</th>\n",
              "      <td>55523.0</td>\n",
              "      <td>3</td>\n",
              "      <td>66</td>\n",
              "      <td>19</td>\n",
              "      <td>71406.58</td>\n",
              "      <td>0</td>\n",
              "      <td>1</td>\n",
              "      <td>0</td>\n",
              "      <td>0</td>\n",
              "      <td>1</td>\n",
              "      <td>0</td>\n",
              "      <td>1</td>\n",
              "    </tr>\n",
              "    <tr>\n",
              "      <th>1</th>\n",
              "      <td>57081.0</td>\n",
              "      <td>1</td>\n",
              "      <td>84</td>\n",
              "      <td>18</td>\n",
              "      <td>68005.87</td>\n",
              "      <td>0</td>\n",
              "      <td>1</td>\n",
              "      <td>0</td>\n",
              "      <td>0</td>\n",
              "      <td>1</td>\n",
              "      <td>1</td>\n",
              "      <td>0</td>\n",
              "    </tr>\n",
              "  </tbody>\n",
              "</table>\n",
              "</div>\n",
              "    <div class=\"colab-df-buttons\">\n",
              "\n",
              "  <div class=\"colab-df-container\">\n",
              "    <button class=\"colab-df-convert\" onclick=\"convertToInteractive('df-670cd6dc-c397-40e2-a052-02529bb7ac2b')\"\n",
              "            title=\"Convert this dataframe to an interactive table.\"\n",
              "            style=\"display:none;\">\n",
              "\n",
              "  <svg xmlns=\"http://www.w3.org/2000/svg\" height=\"24px\" viewBox=\"0 -960 960 960\">\n",
              "    <path d=\"M120-120v-720h720v720H120Zm60-500h600v-160H180v160Zm220 220h160v-160H400v160Zm0 220h160v-160H400v160ZM180-400h160v-160H180v160Zm440 0h160v-160H620v160ZM180-180h160v-160H180v160Zm440 0h160v-160H620v160Z\"/>\n",
              "  </svg>\n",
              "    </button>\n",
              "\n",
              "  <style>\n",
              "    .colab-df-container {\n",
              "      display:flex;\n",
              "      gap: 12px;\n",
              "    }\n",
              "\n",
              "    .colab-df-convert {\n",
              "      background-color: #E8F0FE;\n",
              "      border: none;\n",
              "      border-radius: 50%;\n",
              "      cursor: pointer;\n",
              "      display: none;\n",
              "      fill: #1967D2;\n",
              "      height: 32px;\n",
              "      padding: 0 0 0 0;\n",
              "      width: 32px;\n",
              "    }\n",
              "\n",
              "    .colab-df-convert:hover {\n",
              "      background-color: #E2EBFA;\n",
              "      box-shadow: 0px 1px 2px rgba(60, 64, 67, 0.3), 0px 1px 3px 1px rgba(60, 64, 67, 0.15);\n",
              "      fill: #174EA6;\n",
              "    }\n",
              "\n",
              "    .colab-df-buttons div {\n",
              "      margin-bottom: 4px;\n",
              "    }\n",
              "\n",
              "    [theme=dark] .colab-df-convert {\n",
              "      background-color: #3B4455;\n",
              "      fill: #D2E3FC;\n",
              "    }\n",
              "\n",
              "    [theme=dark] .colab-df-convert:hover {\n",
              "      background-color: #434B5C;\n",
              "      box-shadow: 0px 1px 3px 1px rgba(0, 0, 0, 0.15);\n",
              "      filter: drop-shadow(0px 1px 2px rgba(0, 0, 0, 0.3));\n",
              "      fill: #FFFFFF;\n",
              "    }\n",
              "  </style>\n",
              "\n",
              "    <script>\n",
              "      const buttonEl =\n",
              "        document.querySelector('#df-670cd6dc-c397-40e2-a052-02529bb7ac2b button.colab-df-convert');\n",
              "      buttonEl.style.display =\n",
              "        google.colab.kernel.accessAllowed ? 'block' : 'none';\n",
              "\n",
              "      async function convertToInteractive(key) {\n",
              "        const element = document.querySelector('#df-670cd6dc-c397-40e2-a052-02529bb7ac2b');\n",
              "        const dataTable =\n",
              "          await google.colab.kernel.invokeFunction('convertToInteractive',\n",
              "                                                    [key], {});\n",
              "        if (!dataTable) return;\n",
              "\n",
              "        const docLinkHtml = 'Like what you see? Visit the ' +\n",
              "          '<a target=\"_blank\" href=https://colab.research.google.com/notebooks/data_table.ipynb>data table notebook</a>'\n",
              "          + ' to learn more about interactive tables.';\n",
              "        element.innerHTML = '';\n",
              "        dataTable['output_type'] = 'display_data';\n",
              "        await google.colab.output.renderOutput(dataTable, element);\n",
              "        const docLink = document.createElement('div');\n",
              "        docLink.innerHTML = docLinkHtml;\n",
              "        element.appendChild(docLink);\n",
              "      }\n",
              "    </script>\n",
              "  </div>\n",
              "\n",
              "\n",
              "<div id=\"df-d819df7e-c6e3-42ac-86bb-499b76d0fbe5\">\n",
              "  <button class=\"colab-df-quickchart\" onclick=\"quickchart('df-d819df7e-c6e3-42ac-86bb-499b76d0fbe5')\"\n",
              "            title=\"Suggest charts.\"\n",
              "            style=\"display:none;\">\n",
              "\n",
              "<svg xmlns=\"http://www.w3.org/2000/svg\" height=\"24px\"viewBox=\"0 0 24 24\"\n",
              "     width=\"24px\">\n",
              "    <g>\n",
              "        <path d=\"M19 3H5c-1.1 0-2 .9-2 2v14c0 1.1.9 2 2 2h14c1.1 0 2-.9 2-2V5c0-1.1-.9-2-2-2zM9 17H7v-7h2v7zm4 0h-2V7h2v10zm4 0h-2v-4h2v4z\"/>\n",
              "    </g>\n",
              "</svg>\n",
              "  </button>\n",
              "\n",
              "<style>\n",
              "  .colab-df-quickchart {\n",
              "      --bg-color: #E8F0FE;\n",
              "      --fill-color: #1967D2;\n",
              "      --hover-bg-color: #E2EBFA;\n",
              "      --hover-fill-color: #174EA6;\n",
              "      --disabled-fill-color: #AAA;\n",
              "      --disabled-bg-color: #DDD;\n",
              "  }\n",
              "\n",
              "  [theme=dark] .colab-df-quickchart {\n",
              "      --bg-color: #3B4455;\n",
              "      --fill-color: #D2E3FC;\n",
              "      --hover-bg-color: #434B5C;\n",
              "      --hover-fill-color: #FFFFFF;\n",
              "      --disabled-bg-color: #3B4455;\n",
              "      --disabled-fill-color: #666;\n",
              "  }\n",
              "\n",
              "  .colab-df-quickchart {\n",
              "    background-color: var(--bg-color);\n",
              "    border: none;\n",
              "    border-radius: 50%;\n",
              "    cursor: pointer;\n",
              "    display: none;\n",
              "    fill: var(--fill-color);\n",
              "    height: 32px;\n",
              "    padding: 0;\n",
              "    width: 32px;\n",
              "  }\n",
              "\n",
              "  .colab-df-quickchart:hover {\n",
              "    background-color: var(--hover-bg-color);\n",
              "    box-shadow: 0 1px 2px rgba(60, 64, 67, 0.3), 0 1px 3px 1px rgba(60, 64, 67, 0.15);\n",
              "    fill: var(--button-hover-fill-color);\n",
              "  }\n",
              "\n",
              "  .colab-df-quickchart-complete:disabled,\n",
              "  .colab-df-quickchart-complete:disabled:hover {\n",
              "    background-color: var(--disabled-bg-color);\n",
              "    fill: var(--disabled-fill-color);\n",
              "    box-shadow: none;\n",
              "  }\n",
              "\n",
              "  .colab-df-spinner {\n",
              "    border: 2px solid var(--fill-color);\n",
              "    border-color: transparent;\n",
              "    border-bottom-color: var(--fill-color);\n",
              "    animation:\n",
              "      spin 1s steps(1) infinite;\n",
              "  }\n",
              "\n",
              "  @keyframes spin {\n",
              "    0% {\n",
              "      border-color: transparent;\n",
              "      border-bottom-color: var(--fill-color);\n",
              "      border-left-color: var(--fill-color);\n",
              "    }\n",
              "    20% {\n",
              "      border-color: transparent;\n",
              "      border-left-color: var(--fill-color);\n",
              "      border-top-color: var(--fill-color);\n",
              "    }\n",
              "    30% {\n",
              "      border-color: transparent;\n",
              "      border-left-color: var(--fill-color);\n",
              "      border-top-color: var(--fill-color);\n",
              "      border-right-color: var(--fill-color);\n",
              "    }\n",
              "    40% {\n",
              "      border-color: transparent;\n",
              "      border-right-color: var(--fill-color);\n",
              "      border-top-color: var(--fill-color);\n",
              "    }\n",
              "    60% {\n",
              "      border-color: transparent;\n",
              "      border-right-color: var(--fill-color);\n",
              "    }\n",
              "    80% {\n",
              "      border-color: transparent;\n",
              "      border-right-color: var(--fill-color);\n",
              "      border-bottom-color: var(--fill-color);\n",
              "    }\n",
              "    90% {\n",
              "      border-color: transparent;\n",
              "      border-bottom-color: var(--fill-color);\n",
              "    }\n",
              "  }\n",
              "</style>\n",
              "\n",
              "  <script>\n",
              "    async function quickchart(key) {\n",
              "      const quickchartButtonEl =\n",
              "        document.querySelector('#' + key + ' button');\n",
              "      quickchartButtonEl.disabled = true;  // To prevent multiple clicks.\n",
              "      quickchartButtonEl.classList.add('colab-df-spinner');\n",
              "      try {\n",
              "        const charts = await google.colab.kernel.invokeFunction(\n",
              "            'suggestCharts', [key], {});\n",
              "      } catch (error) {\n",
              "        console.error('Error during call to suggestCharts:', error);\n",
              "      }\n",
              "      quickchartButtonEl.classList.remove('colab-df-spinner');\n",
              "      quickchartButtonEl.classList.add('colab-df-quickchart-complete');\n",
              "    }\n",
              "    (() => {\n",
              "      let quickchartButtonEl =\n",
              "        document.querySelector('#df-d819df7e-c6e3-42ac-86bb-499b76d0fbe5 button');\n",
              "      quickchartButtonEl.style.display =\n",
              "        google.colab.kernel.accessAllowed ? 'block' : 'none';\n",
              "    })();\n",
              "  </script>\n",
              "</div>\n",
              "    </div>\n",
              "  </div>\n"
            ]
          },
          "metadata": {},
          "execution_count": 30
        }
      ],
      "source": [
        "df.head(2)  ### first two records of df data frame to look dummies"
      ]
    },
    {
      "cell_type": "code",
      "execution_count": null,
      "id": "e7372045",
      "metadata": {
        "id": "e7372045"
      },
      "outputs": [],
      "source": [
        "del df[\"College_Tier3\"]   ### deleting  unrequired elements to implement (n-1) rule\n",
        "del df[\"City_nonmetro\"]\n",
        "del df[\"Role_Executive\"]\n",
        "\n"
      ]
    },
    {
      "cell_type": "code",
      "execution_count": null,
      "id": "e5e51205",
      "metadata": {
        "colab": {
          "base_uri": "https://localhost:8080/",
          "height": 112
        },
        "id": "e5e51205",
        "outputId": "7ecbbb92-4649-4c92-8575-9684acc6fb92"
      },
      "outputs": [
        {
          "output_type": "execute_result",
          "data": {
            "text/plain": [
              "   Previous CTC  Previous job change  Graduation Marks  EXP (Month)       CTC  \\\n",
              "0       55523.0                    3                66           19  71406.58   \n",
              "1       57081.0                    1                84           18  68005.87   \n",
              "\n",
              "   College_Tier1  College_Tier2  City_metro  Role_Manager  \n",
              "0              0              1           0             1  \n",
              "1              0              1           0             0  "
            ],
            "text/html": [
              "\n",
              "  <div id=\"df-32dad31c-147a-4d1b-a37e-b46868f12db0\" class=\"colab-df-container\">\n",
              "    <div>\n",
              "<style scoped>\n",
              "    .dataframe tbody tr th:only-of-type {\n",
              "        vertical-align: middle;\n",
              "    }\n",
              "\n",
              "    .dataframe tbody tr th {\n",
              "        vertical-align: top;\n",
              "    }\n",
              "\n",
              "    .dataframe thead th {\n",
              "        text-align: right;\n",
              "    }\n",
              "</style>\n",
              "<table border=\"1\" class=\"dataframe\">\n",
              "  <thead>\n",
              "    <tr style=\"text-align: right;\">\n",
              "      <th></th>\n",
              "      <th>Previous CTC</th>\n",
              "      <th>Previous job change</th>\n",
              "      <th>Graduation Marks</th>\n",
              "      <th>EXP (Month)</th>\n",
              "      <th>CTC</th>\n",
              "      <th>College_Tier1</th>\n",
              "      <th>College_Tier2</th>\n",
              "      <th>City_metro</th>\n",
              "      <th>Role_Manager</th>\n",
              "    </tr>\n",
              "  </thead>\n",
              "  <tbody>\n",
              "    <tr>\n",
              "      <th>0</th>\n",
              "      <td>55523.0</td>\n",
              "      <td>3</td>\n",
              "      <td>66</td>\n",
              "      <td>19</td>\n",
              "      <td>71406.58</td>\n",
              "      <td>0</td>\n",
              "      <td>1</td>\n",
              "      <td>0</td>\n",
              "      <td>1</td>\n",
              "    </tr>\n",
              "    <tr>\n",
              "      <th>1</th>\n",
              "      <td>57081.0</td>\n",
              "      <td>1</td>\n",
              "      <td>84</td>\n",
              "      <td>18</td>\n",
              "      <td>68005.87</td>\n",
              "      <td>0</td>\n",
              "      <td>1</td>\n",
              "      <td>0</td>\n",
              "      <td>0</td>\n",
              "    </tr>\n",
              "  </tbody>\n",
              "</table>\n",
              "</div>\n",
              "    <div class=\"colab-df-buttons\">\n",
              "\n",
              "  <div class=\"colab-df-container\">\n",
              "    <button class=\"colab-df-convert\" onclick=\"convertToInteractive('df-32dad31c-147a-4d1b-a37e-b46868f12db0')\"\n",
              "            title=\"Convert this dataframe to an interactive table.\"\n",
              "            style=\"display:none;\">\n",
              "\n",
              "  <svg xmlns=\"http://www.w3.org/2000/svg\" height=\"24px\" viewBox=\"0 -960 960 960\">\n",
              "    <path d=\"M120-120v-720h720v720H120Zm60-500h600v-160H180v160Zm220 220h160v-160H400v160Zm0 220h160v-160H400v160ZM180-400h160v-160H180v160Zm440 0h160v-160H620v160ZM180-180h160v-160H180v160Zm440 0h160v-160H620v160Z\"/>\n",
              "  </svg>\n",
              "    </button>\n",
              "\n",
              "  <style>\n",
              "    .colab-df-container {\n",
              "      display:flex;\n",
              "      gap: 12px;\n",
              "    }\n",
              "\n",
              "    .colab-df-convert {\n",
              "      background-color: #E8F0FE;\n",
              "      border: none;\n",
              "      border-radius: 50%;\n",
              "      cursor: pointer;\n",
              "      display: none;\n",
              "      fill: #1967D2;\n",
              "      height: 32px;\n",
              "      padding: 0 0 0 0;\n",
              "      width: 32px;\n",
              "    }\n",
              "\n",
              "    .colab-df-convert:hover {\n",
              "      background-color: #E2EBFA;\n",
              "      box-shadow: 0px 1px 2px rgba(60, 64, 67, 0.3), 0px 1px 3px 1px rgba(60, 64, 67, 0.15);\n",
              "      fill: #174EA6;\n",
              "    }\n",
              "\n",
              "    .colab-df-buttons div {\n",
              "      margin-bottom: 4px;\n",
              "    }\n",
              "\n",
              "    [theme=dark] .colab-df-convert {\n",
              "      background-color: #3B4455;\n",
              "      fill: #D2E3FC;\n",
              "    }\n",
              "\n",
              "    [theme=dark] .colab-df-convert:hover {\n",
              "      background-color: #434B5C;\n",
              "      box-shadow: 0px 1px 3px 1px rgba(0, 0, 0, 0.15);\n",
              "      filter: drop-shadow(0px 1px 2px rgba(0, 0, 0, 0.3));\n",
              "      fill: #FFFFFF;\n",
              "    }\n",
              "  </style>\n",
              "\n",
              "    <script>\n",
              "      const buttonEl =\n",
              "        document.querySelector('#df-32dad31c-147a-4d1b-a37e-b46868f12db0 button.colab-df-convert');\n",
              "      buttonEl.style.display =\n",
              "        google.colab.kernel.accessAllowed ? 'block' : 'none';\n",
              "\n",
              "      async function convertToInteractive(key) {\n",
              "        const element = document.querySelector('#df-32dad31c-147a-4d1b-a37e-b46868f12db0');\n",
              "        const dataTable =\n",
              "          await google.colab.kernel.invokeFunction('convertToInteractive',\n",
              "                                                    [key], {});\n",
              "        if (!dataTable) return;\n",
              "\n",
              "        const docLinkHtml = 'Like what you see? Visit the ' +\n",
              "          '<a target=\"_blank\" href=https://colab.research.google.com/notebooks/data_table.ipynb>data table notebook</a>'\n",
              "          + ' to learn more about interactive tables.';\n",
              "        element.innerHTML = '';\n",
              "        dataTable['output_type'] = 'display_data';\n",
              "        await google.colab.output.renderOutput(dataTable, element);\n",
              "        const docLink = document.createElement('div');\n",
              "        docLink.innerHTML = docLinkHtml;\n",
              "        element.appendChild(docLink);\n",
              "      }\n",
              "    </script>\n",
              "  </div>\n",
              "\n",
              "\n",
              "<div id=\"df-165ea826-ac9d-427d-84fa-108f01332392\">\n",
              "  <button class=\"colab-df-quickchart\" onclick=\"quickchart('df-165ea826-ac9d-427d-84fa-108f01332392')\"\n",
              "            title=\"Suggest charts.\"\n",
              "            style=\"display:none;\">\n",
              "\n",
              "<svg xmlns=\"http://www.w3.org/2000/svg\" height=\"24px\"viewBox=\"0 0 24 24\"\n",
              "     width=\"24px\">\n",
              "    <g>\n",
              "        <path d=\"M19 3H5c-1.1 0-2 .9-2 2v14c0 1.1.9 2 2 2h14c1.1 0 2-.9 2-2V5c0-1.1-.9-2-2-2zM9 17H7v-7h2v7zm4 0h-2V7h2v10zm4 0h-2v-4h2v4z\"/>\n",
              "    </g>\n",
              "</svg>\n",
              "  </button>\n",
              "\n",
              "<style>\n",
              "  .colab-df-quickchart {\n",
              "      --bg-color: #E8F0FE;\n",
              "      --fill-color: #1967D2;\n",
              "      --hover-bg-color: #E2EBFA;\n",
              "      --hover-fill-color: #174EA6;\n",
              "      --disabled-fill-color: #AAA;\n",
              "      --disabled-bg-color: #DDD;\n",
              "  }\n",
              "\n",
              "  [theme=dark] .colab-df-quickchart {\n",
              "      --bg-color: #3B4455;\n",
              "      --fill-color: #D2E3FC;\n",
              "      --hover-bg-color: #434B5C;\n",
              "      --hover-fill-color: #FFFFFF;\n",
              "      --disabled-bg-color: #3B4455;\n",
              "      --disabled-fill-color: #666;\n",
              "  }\n",
              "\n",
              "  .colab-df-quickchart {\n",
              "    background-color: var(--bg-color);\n",
              "    border: none;\n",
              "    border-radius: 50%;\n",
              "    cursor: pointer;\n",
              "    display: none;\n",
              "    fill: var(--fill-color);\n",
              "    height: 32px;\n",
              "    padding: 0;\n",
              "    width: 32px;\n",
              "  }\n",
              "\n",
              "  .colab-df-quickchart:hover {\n",
              "    background-color: var(--hover-bg-color);\n",
              "    box-shadow: 0 1px 2px rgba(60, 64, 67, 0.3), 0 1px 3px 1px rgba(60, 64, 67, 0.15);\n",
              "    fill: var(--button-hover-fill-color);\n",
              "  }\n",
              "\n",
              "  .colab-df-quickchart-complete:disabled,\n",
              "  .colab-df-quickchart-complete:disabled:hover {\n",
              "    background-color: var(--disabled-bg-color);\n",
              "    fill: var(--disabled-fill-color);\n",
              "    box-shadow: none;\n",
              "  }\n",
              "\n",
              "  .colab-df-spinner {\n",
              "    border: 2px solid var(--fill-color);\n",
              "    border-color: transparent;\n",
              "    border-bottom-color: var(--fill-color);\n",
              "    animation:\n",
              "      spin 1s steps(1) infinite;\n",
              "  }\n",
              "\n",
              "  @keyframes spin {\n",
              "    0% {\n",
              "      border-color: transparent;\n",
              "      border-bottom-color: var(--fill-color);\n",
              "      border-left-color: var(--fill-color);\n",
              "    }\n",
              "    20% {\n",
              "      border-color: transparent;\n",
              "      border-left-color: var(--fill-color);\n",
              "      border-top-color: var(--fill-color);\n",
              "    }\n",
              "    30% {\n",
              "      border-color: transparent;\n",
              "      border-left-color: var(--fill-color);\n",
              "      border-top-color: var(--fill-color);\n",
              "      border-right-color: var(--fill-color);\n",
              "    }\n",
              "    40% {\n",
              "      border-color: transparent;\n",
              "      border-right-color: var(--fill-color);\n",
              "      border-top-color: var(--fill-color);\n",
              "    }\n",
              "    60% {\n",
              "      border-color: transparent;\n",
              "      border-right-color: var(--fill-color);\n",
              "    }\n",
              "    80% {\n",
              "      border-color: transparent;\n",
              "      border-right-color: var(--fill-color);\n",
              "      border-bottom-color: var(--fill-color);\n",
              "    }\n",
              "    90% {\n",
              "      border-color: transparent;\n",
              "      border-bottom-color: var(--fill-color);\n",
              "    }\n",
              "  }\n",
              "</style>\n",
              "\n",
              "  <script>\n",
              "    async function quickchart(key) {\n",
              "      const quickchartButtonEl =\n",
              "        document.querySelector('#' + key + ' button');\n",
              "      quickchartButtonEl.disabled = true;  // To prevent multiple clicks.\n",
              "      quickchartButtonEl.classList.add('colab-df-spinner');\n",
              "      try {\n",
              "        const charts = await google.colab.kernel.invokeFunction(\n",
              "            'suggestCharts', [key], {});\n",
              "      } catch (error) {\n",
              "        console.error('Error during call to suggestCharts:', error);\n",
              "      }\n",
              "      quickchartButtonEl.classList.remove('colab-df-spinner');\n",
              "      quickchartButtonEl.classList.add('colab-df-quickchart-complete');\n",
              "    }\n",
              "    (() => {\n",
              "      let quickchartButtonEl =\n",
              "        document.querySelector('#df-165ea826-ac9d-427d-84fa-108f01332392 button');\n",
              "      quickchartButtonEl.style.display =\n",
              "        google.colab.kernel.accessAllowed ? 'block' : 'none';\n",
              "    })();\n",
              "  </script>\n",
              "</div>\n",
              "    </div>\n",
              "  </div>\n"
            ]
          },
          "metadata": {},
          "execution_count": 32
        }
      ],
      "source": [
        "df.head(2) ### it shows first two records of df data frame"
      ]
    },
    {
      "cell_type": "markdown",
      "source": [
        "###Result\n",
        "1.Loaded data in df variable\n",
        "2.college,Role and City columns converted into required numeric field"
      ],
      "metadata": {
        "id": "iXlwO4MSRVFO"
      },
      "id": "iXlwO4MSRVFO"
    },
    {
      "cell_type": "code",
      "execution_count": null,
      "id": "371e4895",
      "metadata": {
        "id": "371e4895"
      },
      "outputs": [],
      "source": [
        "### Creating dependent and independent variable\n",
        "x=df.loc[:,df.columns!='CTC']\n",
        "y=df[\"CTC\"]"
      ]
    },
    {
      "cell_type": "code",
      "execution_count": null,
      "id": "d9cd598b",
      "metadata": {
        "colab": {
          "base_uri": "https://localhost:8080/",
          "height": 206
        },
        "id": "d9cd598b",
        "outputId": "bbbb9d2d-dfb1-4210-8577-aeb2c7b48336"
      },
      "outputs": [
        {
          "output_type": "execute_result",
          "data": {
            "text/plain": [
              "   Previous CTC  Previous job change  Graduation Marks  EXP (Month)  \\\n",
              "0       55523.0                    3                66           19   \n",
              "1       57081.0                    1                84           18   \n",
              "2       60347.0                    2                52           28   \n",
              "3       49010.0                    2                81           33   \n",
              "4       57879.0                    4                74           32   \n",
              "\n",
              "   College_Tier1  College_Tier2  City_metro  Role_Manager  \n",
              "0              0              1           0             1  \n",
              "1              0              1           0             0  \n",
              "2              0              0           0             0  \n",
              "3              0              0           0             0  \n",
              "4              1              0           0             0  "
            ],
            "text/html": [
              "\n",
              "  <div id=\"df-a6eaade1-b785-440c-b3d6-183b78b82559\" class=\"colab-df-container\">\n",
              "    <div>\n",
              "<style scoped>\n",
              "    .dataframe tbody tr th:only-of-type {\n",
              "        vertical-align: middle;\n",
              "    }\n",
              "\n",
              "    .dataframe tbody tr th {\n",
              "        vertical-align: top;\n",
              "    }\n",
              "\n",
              "    .dataframe thead th {\n",
              "        text-align: right;\n",
              "    }\n",
              "</style>\n",
              "<table border=\"1\" class=\"dataframe\">\n",
              "  <thead>\n",
              "    <tr style=\"text-align: right;\">\n",
              "      <th></th>\n",
              "      <th>Previous CTC</th>\n",
              "      <th>Previous job change</th>\n",
              "      <th>Graduation Marks</th>\n",
              "      <th>EXP (Month)</th>\n",
              "      <th>College_Tier1</th>\n",
              "      <th>College_Tier2</th>\n",
              "      <th>City_metro</th>\n",
              "      <th>Role_Manager</th>\n",
              "    </tr>\n",
              "  </thead>\n",
              "  <tbody>\n",
              "    <tr>\n",
              "      <th>0</th>\n",
              "      <td>55523.0</td>\n",
              "      <td>3</td>\n",
              "      <td>66</td>\n",
              "      <td>19</td>\n",
              "      <td>0</td>\n",
              "      <td>1</td>\n",
              "      <td>0</td>\n",
              "      <td>1</td>\n",
              "    </tr>\n",
              "    <tr>\n",
              "      <th>1</th>\n",
              "      <td>57081.0</td>\n",
              "      <td>1</td>\n",
              "      <td>84</td>\n",
              "      <td>18</td>\n",
              "      <td>0</td>\n",
              "      <td>1</td>\n",
              "      <td>0</td>\n",
              "      <td>0</td>\n",
              "    </tr>\n",
              "    <tr>\n",
              "      <th>2</th>\n",
              "      <td>60347.0</td>\n",
              "      <td>2</td>\n",
              "      <td>52</td>\n",
              "      <td>28</td>\n",
              "      <td>0</td>\n",
              "      <td>0</td>\n",
              "      <td>0</td>\n",
              "      <td>0</td>\n",
              "    </tr>\n",
              "    <tr>\n",
              "      <th>3</th>\n",
              "      <td>49010.0</td>\n",
              "      <td>2</td>\n",
              "      <td>81</td>\n",
              "      <td>33</td>\n",
              "      <td>0</td>\n",
              "      <td>0</td>\n",
              "      <td>0</td>\n",
              "      <td>0</td>\n",
              "    </tr>\n",
              "    <tr>\n",
              "      <th>4</th>\n",
              "      <td>57879.0</td>\n",
              "      <td>4</td>\n",
              "      <td>74</td>\n",
              "      <td>32</td>\n",
              "      <td>1</td>\n",
              "      <td>0</td>\n",
              "      <td>0</td>\n",
              "      <td>0</td>\n",
              "    </tr>\n",
              "  </tbody>\n",
              "</table>\n",
              "</div>\n",
              "    <div class=\"colab-df-buttons\">\n",
              "\n",
              "  <div class=\"colab-df-container\">\n",
              "    <button class=\"colab-df-convert\" onclick=\"convertToInteractive('df-a6eaade1-b785-440c-b3d6-183b78b82559')\"\n",
              "            title=\"Convert this dataframe to an interactive table.\"\n",
              "            style=\"display:none;\">\n",
              "\n",
              "  <svg xmlns=\"http://www.w3.org/2000/svg\" height=\"24px\" viewBox=\"0 -960 960 960\">\n",
              "    <path d=\"M120-120v-720h720v720H120Zm60-500h600v-160H180v160Zm220 220h160v-160H400v160Zm0 220h160v-160H400v160ZM180-400h160v-160H180v160Zm440 0h160v-160H620v160ZM180-180h160v-160H180v160Zm440 0h160v-160H620v160Z\"/>\n",
              "  </svg>\n",
              "    </button>\n",
              "\n",
              "  <style>\n",
              "    .colab-df-container {\n",
              "      display:flex;\n",
              "      gap: 12px;\n",
              "    }\n",
              "\n",
              "    .colab-df-convert {\n",
              "      background-color: #E8F0FE;\n",
              "      border: none;\n",
              "      border-radius: 50%;\n",
              "      cursor: pointer;\n",
              "      display: none;\n",
              "      fill: #1967D2;\n",
              "      height: 32px;\n",
              "      padding: 0 0 0 0;\n",
              "      width: 32px;\n",
              "    }\n",
              "\n",
              "    .colab-df-convert:hover {\n",
              "      background-color: #E2EBFA;\n",
              "      box-shadow: 0px 1px 2px rgba(60, 64, 67, 0.3), 0px 1px 3px 1px rgba(60, 64, 67, 0.15);\n",
              "      fill: #174EA6;\n",
              "    }\n",
              "\n",
              "    .colab-df-buttons div {\n",
              "      margin-bottom: 4px;\n",
              "    }\n",
              "\n",
              "    [theme=dark] .colab-df-convert {\n",
              "      background-color: #3B4455;\n",
              "      fill: #D2E3FC;\n",
              "    }\n",
              "\n",
              "    [theme=dark] .colab-df-convert:hover {\n",
              "      background-color: #434B5C;\n",
              "      box-shadow: 0px 1px 3px 1px rgba(0, 0, 0, 0.15);\n",
              "      filter: drop-shadow(0px 1px 2px rgba(0, 0, 0, 0.3));\n",
              "      fill: #FFFFFF;\n",
              "    }\n",
              "  </style>\n",
              "\n",
              "    <script>\n",
              "      const buttonEl =\n",
              "        document.querySelector('#df-a6eaade1-b785-440c-b3d6-183b78b82559 button.colab-df-convert');\n",
              "      buttonEl.style.display =\n",
              "        google.colab.kernel.accessAllowed ? 'block' : 'none';\n",
              "\n",
              "      async function convertToInteractive(key) {\n",
              "        const element = document.querySelector('#df-a6eaade1-b785-440c-b3d6-183b78b82559');\n",
              "        const dataTable =\n",
              "          await google.colab.kernel.invokeFunction('convertToInteractive',\n",
              "                                                    [key], {});\n",
              "        if (!dataTable) return;\n",
              "\n",
              "        const docLinkHtml = 'Like what you see? Visit the ' +\n",
              "          '<a target=\"_blank\" href=https://colab.research.google.com/notebooks/data_table.ipynb>data table notebook</a>'\n",
              "          + ' to learn more about interactive tables.';\n",
              "        element.innerHTML = '';\n",
              "        dataTable['output_type'] = 'display_data';\n",
              "        await google.colab.output.renderOutput(dataTable, element);\n",
              "        const docLink = document.createElement('div');\n",
              "        docLink.innerHTML = docLinkHtml;\n",
              "        element.appendChild(docLink);\n",
              "      }\n",
              "    </script>\n",
              "  </div>\n",
              "\n",
              "\n",
              "<div id=\"df-388723f9-8010-4d6d-b76d-05133d43b6b5\">\n",
              "  <button class=\"colab-df-quickchart\" onclick=\"quickchart('df-388723f9-8010-4d6d-b76d-05133d43b6b5')\"\n",
              "            title=\"Suggest charts.\"\n",
              "            style=\"display:none;\">\n",
              "\n",
              "<svg xmlns=\"http://www.w3.org/2000/svg\" height=\"24px\"viewBox=\"0 0 24 24\"\n",
              "     width=\"24px\">\n",
              "    <g>\n",
              "        <path d=\"M19 3H5c-1.1 0-2 .9-2 2v14c0 1.1.9 2 2 2h14c1.1 0 2-.9 2-2V5c0-1.1-.9-2-2-2zM9 17H7v-7h2v7zm4 0h-2V7h2v10zm4 0h-2v-4h2v4z\"/>\n",
              "    </g>\n",
              "</svg>\n",
              "  </button>\n",
              "\n",
              "<style>\n",
              "  .colab-df-quickchart {\n",
              "      --bg-color: #E8F0FE;\n",
              "      --fill-color: #1967D2;\n",
              "      --hover-bg-color: #E2EBFA;\n",
              "      --hover-fill-color: #174EA6;\n",
              "      --disabled-fill-color: #AAA;\n",
              "      --disabled-bg-color: #DDD;\n",
              "  }\n",
              "\n",
              "  [theme=dark] .colab-df-quickchart {\n",
              "      --bg-color: #3B4455;\n",
              "      --fill-color: #D2E3FC;\n",
              "      --hover-bg-color: #434B5C;\n",
              "      --hover-fill-color: #FFFFFF;\n",
              "      --disabled-bg-color: #3B4455;\n",
              "      --disabled-fill-color: #666;\n",
              "  }\n",
              "\n",
              "  .colab-df-quickchart {\n",
              "    background-color: var(--bg-color);\n",
              "    border: none;\n",
              "    border-radius: 50%;\n",
              "    cursor: pointer;\n",
              "    display: none;\n",
              "    fill: var(--fill-color);\n",
              "    height: 32px;\n",
              "    padding: 0;\n",
              "    width: 32px;\n",
              "  }\n",
              "\n",
              "  .colab-df-quickchart:hover {\n",
              "    background-color: var(--hover-bg-color);\n",
              "    box-shadow: 0 1px 2px rgba(60, 64, 67, 0.3), 0 1px 3px 1px rgba(60, 64, 67, 0.15);\n",
              "    fill: var(--button-hover-fill-color);\n",
              "  }\n",
              "\n",
              "  .colab-df-quickchart-complete:disabled,\n",
              "  .colab-df-quickchart-complete:disabled:hover {\n",
              "    background-color: var(--disabled-bg-color);\n",
              "    fill: var(--disabled-fill-color);\n",
              "    box-shadow: none;\n",
              "  }\n",
              "\n",
              "  .colab-df-spinner {\n",
              "    border: 2px solid var(--fill-color);\n",
              "    border-color: transparent;\n",
              "    border-bottom-color: var(--fill-color);\n",
              "    animation:\n",
              "      spin 1s steps(1) infinite;\n",
              "  }\n",
              "\n",
              "  @keyframes spin {\n",
              "    0% {\n",
              "      border-color: transparent;\n",
              "      border-bottom-color: var(--fill-color);\n",
              "      border-left-color: var(--fill-color);\n",
              "    }\n",
              "    20% {\n",
              "      border-color: transparent;\n",
              "      border-left-color: var(--fill-color);\n",
              "      border-top-color: var(--fill-color);\n",
              "    }\n",
              "    30% {\n",
              "      border-color: transparent;\n",
              "      border-left-color: var(--fill-color);\n",
              "      border-top-color: var(--fill-color);\n",
              "      border-right-color: var(--fill-color);\n",
              "    }\n",
              "    40% {\n",
              "      border-color: transparent;\n",
              "      border-right-color: var(--fill-color);\n",
              "      border-top-color: var(--fill-color);\n",
              "    }\n",
              "    60% {\n",
              "      border-color: transparent;\n",
              "      border-right-color: var(--fill-color);\n",
              "    }\n",
              "    80% {\n",
              "      border-color: transparent;\n",
              "      border-right-color: var(--fill-color);\n",
              "      border-bottom-color: var(--fill-color);\n",
              "    }\n",
              "    90% {\n",
              "      border-color: transparent;\n",
              "      border-bottom-color: var(--fill-color);\n",
              "    }\n",
              "  }\n",
              "</style>\n",
              "\n",
              "  <script>\n",
              "    async function quickchart(key) {\n",
              "      const quickchartButtonEl =\n",
              "        document.querySelector('#' + key + ' button');\n",
              "      quickchartButtonEl.disabled = true;  // To prevent multiple clicks.\n",
              "      quickchartButtonEl.classList.add('colab-df-spinner');\n",
              "      try {\n",
              "        const charts = await google.colab.kernel.invokeFunction(\n",
              "            'suggestCharts', [key], {});\n",
              "      } catch (error) {\n",
              "        console.error('Error during call to suggestCharts:', error);\n",
              "      }\n",
              "      quickchartButtonEl.classList.remove('colab-df-spinner');\n",
              "      quickchartButtonEl.classList.add('colab-df-quickchart-complete');\n",
              "    }\n",
              "    (() => {\n",
              "      let quickchartButtonEl =\n",
              "        document.querySelector('#df-388723f9-8010-4d6d-b76d-05133d43b6b5 button');\n",
              "      quickchartButtonEl.style.display =\n",
              "        google.colab.kernel.accessAllowed ? 'block' : 'none';\n",
              "    })();\n",
              "  </script>\n",
              "</div>\n",
              "    </div>\n",
              "  </div>\n"
            ]
          },
          "metadata": {},
          "execution_count": 34
        }
      ],
      "source": [
        "### it shows first five records of x variable\n",
        "x.head()"
      ]
    },
    {
      "cell_type": "code",
      "execution_count": null,
      "id": "4fd39750",
      "metadata": {
        "colab": {
          "base_uri": "https://localhost:8080/"
        },
        "id": "4fd39750",
        "outputId": "e558d1c0-5947-4517-b67e-8dafcc919966"
      },
      "outputs": [
        {
          "output_type": "execute_result",
          "data": {
            "text/plain": [
              "0    71406.58\n",
              "1    68005.87\n",
              "2    76764.02\n",
              "3    82092.39\n",
              "4    73878.10\n",
              "Name: CTC, dtype: float64"
            ]
          },
          "metadata": {},
          "execution_count": 35
        }
      ],
      "source": [
        "### Shows first five record of y variable\n",
        "y.head()"
      ]
    },
    {
      "cell_type": "code",
      "execution_count": null,
      "id": "2c9546be",
      "metadata": {
        "colab": {
          "base_uri": "https://localhost:8080/"
        },
        "id": "2c9546be",
        "outputId": "8f13b8a5-d36d-42ed-aaf9-f3636fb60904"
      },
      "outputs": [
        {
          "output_type": "stream",
          "name": "stdout",
          "text": [
            "<class 'pandas.core.frame.DataFrame'>\n",
            "RangeIndex: 1589 entries, 0 to 1588\n",
            "Data columns (total 9 columns):\n",
            " #   Column               Non-Null Count  Dtype  \n",
            "---  ------               --------------  -----  \n",
            " 0   Previous CTC         1589 non-null   float64\n",
            " 1   Previous job change  1589 non-null   int64  \n",
            " 2   Graduation Marks     1589 non-null   int64  \n",
            " 3   EXP (Month)          1589 non-null   int64  \n",
            " 4   CTC                  1589 non-null   float64\n",
            " 5   College_Tier1        1589 non-null   uint8  \n",
            " 6   College_Tier2        1589 non-null   uint8  \n",
            " 7   City_metro           1589 non-null   uint8  \n",
            " 8   Role_Manager         1589 non-null   uint8  \n",
            "dtypes: float64(2), int64(3), uint8(4)\n",
            "memory usage: 68.4 KB\n"
          ]
        }
      ],
      "source": [
        "### NO missing values\n",
        "df.info()"
      ]
    },
    {
      "cell_type": "code",
      "execution_count": null,
      "id": "244e1072",
      "metadata": {
        "colab": {
          "base_uri": "https://localhost:8080/",
          "height": 300
        },
        "id": "244e1072",
        "outputId": "8fd5e809-4945-481a-d843-5cf876e4a7f1"
      },
      "outputs": [
        {
          "output_type": "execute_result",
          "data": {
            "text/plain": [
              "       Previous CTC  Previous job change  Graduation Marks  EXP (Month)  \\\n",
              "count   1589.000000          1589.000000       1589.000000  1589.000000   \n",
              "mean   55518.453744             2.528634         59.855255    39.044682   \n",
              "std     6655.218445             1.123918         14.935139    14.108875   \n",
              "min    36990.000000             1.000000         35.000000    18.000000   \n",
              "25%    50518.000000             2.000000         46.000000    26.000000   \n",
              "50%    55291.000000             3.000000         60.000000    39.000000   \n",
              "75%    60109.000000             4.000000         73.000000    51.000000   \n",
              "max    77911.000000             4.000000         85.000000    64.000000   \n",
              "\n",
              "                 CTC  College_Tier1  College_Tier2   City_metro  Role_Manager  \n",
              "count    1589.000000    1589.000000    1589.000000  1589.000000   1589.000000  \n",
              "mean    75353.278798       0.363751       0.297042     0.514160      0.206419  \n",
              "std     12587.288237       0.481230       0.457099     0.499957      0.404862  \n",
              "min     53020.320000       0.000000       0.000000     0.000000      0.000000  \n",
              "25%     66902.350000       0.000000       0.000000     0.000000      0.000000  \n",
              "50%     73028.670000       0.000000       0.000000     1.000000      0.000000  \n",
              "75%     80588.670000       1.000000       1.000000     1.000000      0.000000  \n",
              "max    123416.990000       1.000000       1.000000     1.000000      1.000000  "
            ],
            "text/html": [
              "\n",
              "  <div id=\"df-f4dfe887-9783-43a0-9cbb-83f5e5c16269\" class=\"colab-df-container\">\n",
              "    <div>\n",
              "<style scoped>\n",
              "    .dataframe tbody tr th:only-of-type {\n",
              "        vertical-align: middle;\n",
              "    }\n",
              "\n",
              "    .dataframe tbody tr th {\n",
              "        vertical-align: top;\n",
              "    }\n",
              "\n",
              "    .dataframe thead th {\n",
              "        text-align: right;\n",
              "    }\n",
              "</style>\n",
              "<table border=\"1\" class=\"dataframe\">\n",
              "  <thead>\n",
              "    <tr style=\"text-align: right;\">\n",
              "      <th></th>\n",
              "      <th>Previous CTC</th>\n",
              "      <th>Previous job change</th>\n",
              "      <th>Graduation Marks</th>\n",
              "      <th>EXP (Month)</th>\n",
              "      <th>CTC</th>\n",
              "      <th>College_Tier1</th>\n",
              "      <th>College_Tier2</th>\n",
              "      <th>City_metro</th>\n",
              "      <th>Role_Manager</th>\n",
              "    </tr>\n",
              "  </thead>\n",
              "  <tbody>\n",
              "    <tr>\n",
              "      <th>count</th>\n",
              "      <td>1589.000000</td>\n",
              "      <td>1589.000000</td>\n",
              "      <td>1589.000000</td>\n",
              "      <td>1589.000000</td>\n",
              "      <td>1589.000000</td>\n",
              "      <td>1589.000000</td>\n",
              "      <td>1589.000000</td>\n",
              "      <td>1589.000000</td>\n",
              "      <td>1589.000000</td>\n",
              "    </tr>\n",
              "    <tr>\n",
              "      <th>mean</th>\n",
              "      <td>55518.453744</td>\n",
              "      <td>2.528634</td>\n",
              "      <td>59.855255</td>\n",
              "      <td>39.044682</td>\n",
              "      <td>75353.278798</td>\n",
              "      <td>0.363751</td>\n",
              "      <td>0.297042</td>\n",
              "      <td>0.514160</td>\n",
              "      <td>0.206419</td>\n",
              "    </tr>\n",
              "    <tr>\n",
              "      <th>std</th>\n",
              "      <td>6655.218445</td>\n",
              "      <td>1.123918</td>\n",
              "      <td>14.935139</td>\n",
              "      <td>14.108875</td>\n",
              "      <td>12587.288237</td>\n",
              "      <td>0.481230</td>\n",
              "      <td>0.457099</td>\n",
              "      <td>0.499957</td>\n",
              "      <td>0.404862</td>\n",
              "    </tr>\n",
              "    <tr>\n",
              "      <th>min</th>\n",
              "      <td>36990.000000</td>\n",
              "      <td>1.000000</td>\n",
              "      <td>35.000000</td>\n",
              "      <td>18.000000</td>\n",
              "      <td>53020.320000</td>\n",
              "      <td>0.000000</td>\n",
              "      <td>0.000000</td>\n",
              "      <td>0.000000</td>\n",
              "      <td>0.000000</td>\n",
              "    </tr>\n",
              "    <tr>\n",
              "      <th>25%</th>\n",
              "      <td>50518.000000</td>\n",
              "      <td>2.000000</td>\n",
              "      <td>46.000000</td>\n",
              "      <td>26.000000</td>\n",
              "      <td>66902.350000</td>\n",
              "      <td>0.000000</td>\n",
              "      <td>0.000000</td>\n",
              "      <td>0.000000</td>\n",
              "      <td>0.000000</td>\n",
              "    </tr>\n",
              "    <tr>\n",
              "      <th>50%</th>\n",
              "      <td>55291.000000</td>\n",
              "      <td>3.000000</td>\n",
              "      <td>60.000000</td>\n",
              "      <td>39.000000</td>\n",
              "      <td>73028.670000</td>\n",
              "      <td>0.000000</td>\n",
              "      <td>0.000000</td>\n",
              "      <td>1.000000</td>\n",
              "      <td>0.000000</td>\n",
              "    </tr>\n",
              "    <tr>\n",
              "      <th>75%</th>\n",
              "      <td>60109.000000</td>\n",
              "      <td>4.000000</td>\n",
              "      <td>73.000000</td>\n",
              "      <td>51.000000</td>\n",
              "      <td>80588.670000</td>\n",
              "      <td>1.000000</td>\n",
              "      <td>1.000000</td>\n",
              "      <td>1.000000</td>\n",
              "      <td>0.000000</td>\n",
              "    </tr>\n",
              "    <tr>\n",
              "      <th>max</th>\n",
              "      <td>77911.000000</td>\n",
              "      <td>4.000000</td>\n",
              "      <td>85.000000</td>\n",
              "      <td>64.000000</td>\n",
              "      <td>123416.990000</td>\n",
              "      <td>1.000000</td>\n",
              "      <td>1.000000</td>\n",
              "      <td>1.000000</td>\n",
              "      <td>1.000000</td>\n",
              "    </tr>\n",
              "  </tbody>\n",
              "</table>\n",
              "</div>\n",
              "    <div class=\"colab-df-buttons\">\n",
              "\n",
              "  <div class=\"colab-df-container\">\n",
              "    <button class=\"colab-df-convert\" onclick=\"convertToInteractive('df-f4dfe887-9783-43a0-9cbb-83f5e5c16269')\"\n",
              "            title=\"Convert this dataframe to an interactive table.\"\n",
              "            style=\"display:none;\">\n",
              "\n",
              "  <svg xmlns=\"http://www.w3.org/2000/svg\" height=\"24px\" viewBox=\"0 -960 960 960\">\n",
              "    <path d=\"M120-120v-720h720v720H120Zm60-500h600v-160H180v160Zm220 220h160v-160H400v160Zm0 220h160v-160H400v160ZM180-400h160v-160H180v160Zm440 0h160v-160H620v160ZM180-180h160v-160H180v160Zm440 0h160v-160H620v160Z\"/>\n",
              "  </svg>\n",
              "    </button>\n",
              "\n",
              "  <style>\n",
              "    .colab-df-container {\n",
              "      display:flex;\n",
              "      gap: 12px;\n",
              "    }\n",
              "\n",
              "    .colab-df-convert {\n",
              "      background-color: #E8F0FE;\n",
              "      border: none;\n",
              "      border-radius: 50%;\n",
              "      cursor: pointer;\n",
              "      display: none;\n",
              "      fill: #1967D2;\n",
              "      height: 32px;\n",
              "      padding: 0 0 0 0;\n",
              "      width: 32px;\n",
              "    }\n",
              "\n",
              "    .colab-df-convert:hover {\n",
              "      background-color: #E2EBFA;\n",
              "      box-shadow: 0px 1px 2px rgba(60, 64, 67, 0.3), 0px 1px 3px 1px rgba(60, 64, 67, 0.15);\n",
              "      fill: #174EA6;\n",
              "    }\n",
              "\n",
              "    .colab-df-buttons div {\n",
              "      margin-bottom: 4px;\n",
              "    }\n",
              "\n",
              "    [theme=dark] .colab-df-convert {\n",
              "      background-color: #3B4455;\n",
              "      fill: #D2E3FC;\n",
              "    }\n",
              "\n",
              "    [theme=dark] .colab-df-convert:hover {\n",
              "      background-color: #434B5C;\n",
              "      box-shadow: 0px 1px 3px 1px rgba(0, 0, 0, 0.15);\n",
              "      filter: drop-shadow(0px 1px 2px rgba(0, 0, 0, 0.3));\n",
              "      fill: #FFFFFF;\n",
              "    }\n",
              "  </style>\n",
              "\n",
              "    <script>\n",
              "      const buttonEl =\n",
              "        document.querySelector('#df-f4dfe887-9783-43a0-9cbb-83f5e5c16269 button.colab-df-convert');\n",
              "      buttonEl.style.display =\n",
              "        google.colab.kernel.accessAllowed ? 'block' : 'none';\n",
              "\n",
              "      async function convertToInteractive(key) {\n",
              "        const element = document.querySelector('#df-f4dfe887-9783-43a0-9cbb-83f5e5c16269');\n",
              "        const dataTable =\n",
              "          await google.colab.kernel.invokeFunction('convertToInteractive',\n",
              "                                                    [key], {});\n",
              "        if (!dataTable) return;\n",
              "\n",
              "        const docLinkHtml = 'Like what you see? Visit the ' +\n",
              "          '<a target=\"_blank\" href=https://colab.research.google.com/notebooks/data_table.ipynb>data table notebook</a>'\n",
              "          + ' to learn more about interactive tables.';\n",
              "        element.innerHTML = '';\n",
              "        dataTable['output_type'] = 'display_data';\n",
              "        await google.colab.output.renderOutput(dataTable, element);\n",
              "        const docLink = document.createElement('div');\n",
              "        docLink.innerHTML = docLinkHtml;\n",
              "        element.appendChild(docLink);\n",
              "      }\n",
              "    </script>\n",
              "  </div>\n",
              "\n",
              "\n",
              "<div id=\"df-6eec3acf-3b18-4f6c-ab28-fb6016f64f55\">\n",
              "  <button class=\"colab-df-quickchart\" onclick=\"quickchart('df-6eec3acf-3b18-4f6c-ab28-fb6016f64f55')\"\n",
              "            title=\"Suggest charts.\"\n",
              "            style=\"display:none;\">\n",
              "\n",
              "<svg xmlns=\"http://www.w3.org/2000/svg\" height=\"24px\"viewBox=\"0 0 24 24\"\n",
              "     width=\"24px\">\n",
              "    <g>\n",
              "        <path d=\"M19 3H5c-1.1 0-2 .9-2 2v14c0 1.1.9 2 2 2h14c1.1 0 2-.9 2-2V5c0-1.1-.9-2-2-2zM9 17H7v-7h2v7zm4 0h-2V7h2v10zm4 0h-2v-4h2v4z\"/>\n",
              "    </g>\n",
              "</svg>\n",
              "  </button>\n",
              "\n",
              "<style>\n",
              "  .colab-df-quickchart {\n",
              "      --bg-color: #E8F0FE;\n",
              "      --fill-color: #1967D2;\n",
              "      --hover-bg-color: #E2EBFA;\n",
              "      --hover-fill-color: #174EA6;\n",
              "      --disabled-fill-color: #AAA;\n",
              "      --disabled-bg-color: #DDD;\n",
              "  }\n",
              "\n",
              "  [theme=dark] .colab-df-quickchart {\n",
              "      --bg-color: #3B4455;\n",
              "      --fill-color: #D2E3FC;\n",
              "      --hover-bg-color: #434B5C;\n",
              "      --hover-fill-color: #FFFFFF;\n",
              "      --disabled-bg-color: #3B4455;\n",
              "      --disabled-fill-color: #666;\n",
              "  }\n",
              "\n",
              "  .colab-df-quickchart {\n",
              "    background-color: var(--bg-color);\n",
              "    border: none;\n",
              "    border-radius: 50%;\n",
              "    cursor: pointer;\n",
              "    display: none;\n",
              "    fill: var(--fill-color);\n",
              "    height: 32px;\n",
              "    padding: 0;\n",
              "    width: 32px;\n",
              "  }\n",
              "\n",
              "  .colab-df-quickchart:hover {\n",
              "    background-color: var(--hover-bg-color);\n",
              "    box-shadow: 0 1px 2px rgba(60, 64, 67, 0.3), 0 1px 3px 1px rgba(60, 64, 67, 0.15);\n",
              "    fill: var(--button-hover-fill-color);\n",
              "  }\n",
              "\n",
              "  .colab-df-quickchart-complete:disabled,\n",
              "  .colab-df-quickchart-complete:disabled:hover {\n",
              "    background-color: var(--disabled-bg-color);\n",
              "    fill: var(--disabled-fill-color);\n",
              "    box-shadow: none;\n",
              "  }\n",
              "\n",
              "  .colab-df-spinner {\n",
              "    border: 2px solid var(--fill-color);\n",
              "    border-color: transparent;\n",
              "    border-bottom-color: var(--fill-color);\n",
              "    animation:\n",
              "      spin 1s steps(1) infinite;\n",
              "  }\n",
              "\n",
              "  @keyframes spin {\n",
              "    0% {\n",
              "      border-color: transparent;\n",
              "      border-bottom-color: var(--fill-color);\n",
              "      border-left-color: var(--fill-color);\n",
              "    }\n",
              "    20% {\n",
              "      border-color: transparent;\n",
              "      border-left-color: var(--fill-color);\n",
              "      border-top-color: var(--fill-color);\n",
              "    }\n",
              "    30% {\n",
              "      border-color: transparent;\n",
              "      border-left-color: var(--fill-color);\n",
              "      border-top-color: var(--fill-color);\n",
              "      border-right-color: var(--fill-color);\n",
              "    }\n",
              "    40% {\n",
              "      border-color: transparent;\n",
              "      border-right-color: var(--fill-color);\n",
              "      border-top-color: var(--fill-color);\n",
              "    }\n",
              "    60% {\n",
              "      border-color: transparent;\n",
              "      border-right-color: var(--fill-color);\n",
              "    }\n",
              "    80% {\n",
              "      border-color: transparent;\n",
              "      border-right-color: var(--fill-color);\n",
              "      border-bottom-color: var(--fill-color);\n",
              "    }\n",
              "    90% {\n",
              "      border-color: transparent;\n",
              "      border-bottom-color: var(--fill-color);\n",
              "    }\n",
              "  }\n",
              "</style>\n",
              "\n",
              "  <script>\n",
              "    async function quickchart(key) {\n",
              "      const quickchartButtonEl =\n",
              "        document.querySelector('#' + key + ' button');\n",
              "      quickchartButtonEl.disabled = true;  // To prevent multiple clicks.\n",
              "      quickchartButtonEl.classList.add('colab-df-spinner');\n",
              "      try {\n",
              "        const charts = await google.colab.kernel.invokeFunction(\n",
              "            'suggestCharts', [key], {});\n",
              "      } catch (error) {\n",
              "        console.error('Error during call to suggestCharts:', error);\n",
              "      }\n",
              "      quickchartButtonEl.classList.remove('colab-df-spinner');\n",
              "      quickchartButtonEl.classList.add('colab-df-quickchart-complete');\n",
              "    }\n",
              "    (() => {\n",
              "      let quickchartButtonEl =\n",
              "        document.querySelector('#df-6eec3acf-3b18-4f6c-ab28-fb6016f64f55 button');\n",
              "      quickchartButtonEl.style.display =\n",
              "        google.colab.kernel.accessAllowed ? 'block' : 'none';\n",
              "    })();\n",
              "  </script>\n",
              "</div>\n",
              "    </div>\n",
              "  </div>\n"
            ]
          },
          "metadata": {},
          "execution_count": 37
        }
      ],
      "source": [
        "#### univariate values of variables\n",
        "df.describe()"
      ]
    },
    {
      "cell_type": "code",
      "execution_count": null,
      "id": "4bbefc28",
      "metadata": {
        "colab": {
          "base_uri": "https://localhost:8080/",
          "height": 624
        },
        "id": "4bbefc28",
        "outputId": "3ee6d0b4-a920-405f-8adc-4ad231c15a44"
      },
      "outputs": [
        {
          "output_type": "execute_result",
          "data": {
            "text/plain": [
              "<seaborn.axisgrid.JointGrid at 0x7f462d2bcb80>"
            ]
          },
          "metadata": {},
          "execution_count": 38
        },
        {
          "output_type": "display_data",
          "data": {
            "text/plain": [
              "<Figure size 600x600 with 3 Axes>"
            ],
            "image/png": "[encoded data removed]"
          },
          "metadata": {}
        }
      ],
      "source": [
        "### creating jointplot of 'Previous CTC' vs 'CTC'\n",
        "sns.jointplot(x='Previous CTC', y='CTC', data=df)"
      ]
    },
    {
      "cell_type": "code",
      "execution_count": null,
      "id": "355a8434",
      "metadata": {
        "colab": {
          "base_uri": "https://localhost:8080/",
          "height": 624
        },
        "id": "355a8434",
        "outputId": "440f53f5-b081-45e8-a5ea-2ffd5abc9669"
      },
      "outputs": [
        {
          "output_type": "execute_result",
          "data": {
            "text/plain": [
              "<seaborn.axisgrid.JointGrid at 0x7f462adbf4c0>"
            ]
          },
          "metadata": {},
          "execution_count": 39
        },
        {
          "output_type": "display_data",
          "data": {
            "text/plain": [
              "<Figure size 600x600 with 3 Axes>"
            ],
            "image/png": "[encoded data removed]"
          },
          "metadata": {}
        }
      ],
      "source": [
        "### creating jointplot between 'Graduation Marks' and 'CTC'\n",
        "sns.jointplot(x='Graduation Marks', y='CTC', data=df)"
      ]
    },
    {
      "cell_type": "code",
      "execution_count": null,
      "id": "3d9f0bc0",
      "metadata": {
        "colab": {
          "base_uri": "https://localhost:8080/",
          "height": 624
        },
        "id": "3d9f0bc0",
        "outputId": "7d641d20-793d-47f8-fd27-19788cc009a5"
      },
      "outputs": [
        {
          "output_type": "execute_result",
          "data": {
            "text/plain": [
              "<seaborn.axisgrid.JointGrid at 0x7f462920e050>"
            ]
          },
          "metadata": {},
          "execution_count": 40
        },
        {
          "output_type": "display_data",
          "data": {
            "text/plain": [
              "<Figure size 600x600 with 3 Axes>"
            ],
            "image/png": "[encoded data removed]"
          },
          "metadata": {}
        }
      ],
      "source": [
        "### creating jointplot between 'EXP (Month)' and 'CTC'\n",
        "sns.jointplot(x='EXP (Month)', y='CTC', data=df)"
      ]
    },
    {
      "cell_type": "code",
      "execution_count": null,
      "id": "e08ff2a9",
      "metadata": {
        "colab": {
          "base_uri": "https://localhost:8080/",
          "height": 624
        },
        "id": "e08ff2a9",
        "outputId": "f8558c04-70ca-49b4-9a4b-3ae751be9432"
      },
      "outputs": [
        {
          "output_type": "execute_result",
          "data": {
            "text/plain": [
              "<seaborn.axisgrid.JointGrid at 0x7f462911d420>"
            ]
          },
          "metadata": {},
          "execution_count": 41
        },
        {
          "output_type": "display_data",
          "data": {
            "text/plain": [
              "<Figure size 600x600 with 3 Axes>"
            ],
            "image/png": "[encoded data removed]"
          },
          "metadata": {}
        }
      ],
      "source": [
        "#### Creating jointplot between 'Previous CTC' and 'CTC'\n",
        "sns.jointplot(x='Previous CTC', y='CTC', data=df)"
      ]
    },
    {
      "cell_type": "code",
      "source": [
        "#### Creating jointplot between 'College_Tier1' and 'CTC'\n",
        "sns.jointplot(x='College_Tier1', y='CTC', data=df)"
      ],
      "metadata": {
        "colab": {
          "base_uri": "https://localhost:8080/",
          "height": 624
        },
        "id": "pxjPe_wxJdNj",
        "outputId": "4cb960c3-827b-40bf-dfdb-2df4aa25464d"
      },
      "id": "pxjPe_wxJdNj",
      "execution_count": null,
      "outputs": [
        {
          "output_type": "execute_result",
          "data": {
            "text/plain": [
              "<seaborn.axisgrid.JointGrid at 0x7f46290ae440>"
            ]
          },
          "metadata": {},
          "execution_count": 42
        },
        {
          "output_type": "display_data",
          "data": {
            "text/plain": [
              "<Figure size 600x600 with 3 Axes>"
            ],
            "image/png": "[encoded data removed]"
          },
          "metadata": {}
        }
      ]
    },
    {
      "cell_type": "code",
      "source": [
        "#### Creating jointplot between 'College_Tier2' and 'CTC'\n",
        "sns.jointplot(x='College_Tier2', y='CTC', data=df)"
      ],
      "metadata": {
        "colab": {
          "base_uri": "https://localhost:8080/",
          "height": 624
        },
        "id": "_jazsXyoJm2a",
        "outputId": "9d196c44-7d94-4de4-a43c-ff3f675876a4"
      },
      "id": "_jazsXyoJm2a",
      "execution_count": null,
      "outputs": [
        {
          "output_type": "execute_result",
          "data": {
            "text/plain": [
              "<seaborn.axisgrid.JointGrid at 0x7f4628e4bfd0>"
            ]
          },
          "metadata": {},
          "execution_count": 43
        },
        {
          "output_type": "display_data",
          "data": {
            "text/plain": [
              "<Figure size 600x600 with 3 Axes>"
            ],
            "image/png": "[encoded data removed]"
          },
          "metadata": {}
        }
      ]
    },
    {
      "cell_type": "code",
      "source": [
        "#### Creating jointplot between 'City_metro' and 'CTC'\n",
        "sns.jointplot(x='City_metro', y='CTC', data=df)"
      ],
      "metadata": {
        "colab": {
          "base_uri": "https://localhost:8080/",
          "height": 624
        },
        "id": "DCEvu5wXJ_7g",
        "outputId": "8fcbdcd6-ebb8-4838-ed77-0e6ca4864b4c"
      },
      "id": "DCEvu5wXJ_7g",
      "execution_count": null,
      "outputs": [
        {
          "output_type": "execute_result",
          "data": {
            "text/plain": [
              "<seaborn.axisgrid.JointGrid at 0x7f4628c689d0>"
            ]
          },
          "metadata": {},
          "execution_count": 44
        },
        {
          "output_type": "display_data",
          "data": {
            "text/plain": [
              "<Figure size 600x600 with 3 Axes>"
            ],
            "image/png": "[encoded data removed]"
          },
          "metadata": {}
        }
      ]
    },
    {
      "cell_type": "code",
      "source": [
        "#### Creating jointplot between 'Role_Manager' and 'CTC'\n",
        "sns.jointplot(x='Role_Manager', y='CTC', data=df)"
      ],
      "metadata": {
        "colab": {
          "base_uri": "https://localhost:8080/",
          "height": 624
        },
        "id": "TuzrUgOCKLsF",
        "outputId": "dcc12e25-da4d-441b-cae5-886ee28c9d47"
      },
      "id": "TuzrUgOCKLsF",
      "execution_count": null,
      "outputs": [
        {
          "output_type": "execute_result",
          "data": {
            "text/plain": [
              "<seaborn.axisgrid.JointGrid at 0x7f4628dcab90>"
            ]
          },
          "metadata": {},
          "execution_count": 45
        },
        {
          "output_type": "display_data",
          "data": {
            "text/plain": [
              "<Figure size 600x600 with 3 Axes>"
            ],
            "image/png": "[encoded data removed]"
          },
          "metadata": {}
        }
      ]
    },
    {
      "cell_type": "code",
      "execution_count": null,
      "id": "011451c4",
      "metadata": {
        "colab": {
          "base_uri": "https://localhost:8080/",
          "height": 331
        },
        "id": "011451c4",
        "outputId": "72ed8c3e-5031-4ed6-cdbc-7b8186040843"
      },
      "outputs": [
        {
          "output_type": "execute_result",
          "data": {
            "text/plain": [
              "                     Previous CTC  Previous job change  Graduation Marks  \\\n",
              "Previous CTC             1.000000             0.005756         -0.032976   \n",
              "Previous job change      0.005756             1.000000          0.019267   \n",
              "Graduation Marks        -0.032976             0.019267          1.000000   \n",
              "EXP (Month)              0.119163             0.023488         -0.057061   \n",
              "CTC                      0.258000             0.011370         -0.005450   \n",
              "College_Tier1           -0.031366             0.045931          0.005666   \n",
              "College_Tier2           -0.010947             0.004271         -0.018419   \n",
              "City_metro               0.004644             0.051670         -0.018616   \n",
              "Role_Manager             0.012321            -0.017150          0.017858   \n",
              "\n",
              "                     EXP (Month)       CTC  College_Tier1  College_Tier2  \\\n",
              "Previous CTC            0.119163  0.258000      -0.031366      -0.010947   \n",
              "Previous job change     0.023488  0.011370       0.045931       0.004271   \n",
              "Graduation Marks       -0.057061 -0.005450       0.005666      -0.018419   \n",
              "EXP (Month)             1.000000  0.301115      -0.003323      -0.014558   \n",
              "CTC                     0.301115  1.000000       0.019912       0.012346   \n",
              "College_Tier1          -0.003323  0.019912       1.000000      -0.491510   \n",
              "College_Tier2          -0.014558  0.012346      -0.491510       1.000000   \n",
              "City_metro             -0.023613 -0.020365       0.002135       0.022917   \n",
              "Role_Manager           -0.026751  0.621311       0.015158      -0.004865   \n",
              "\n",
              "                     City_metro  Role_Manager  \n",
              "Previous CTC           0.004644      0.012321  \n",
              "Previous job change    0.051670     -0.017150  \n",
              "Graduation Marks      -0.018616      0.017858  \n",
              "EXP (Month)           -0.023613     -0.026751  \n",
              "CTC                   -0.020365      0.621311  \n",
              "College_Tier1          0.002135      0.015158  \n",
              "College_Tier2          0.022917     -0.004865  \n",
              "City_metro             1.000000     -0.048671  \n",
              "Role_Manager          -0.048671      1.000000  "
            ],
            "text/html": [
              "\n",
              "  <div id=\"df-a74be91e-7e76-4b95-bbc7-5aacb71a9d1d\" class=\"colab-df-container\">\n",
              "    <div>\n",
              "<style scoped>\n",
              "    .dataframe tbody tr th:only-of-type {\n",
              "        vertical-align: middle;\n",
              "    }\n",
              "\n",
              "    .dataframe tbody tr th {\n",
              "        vertical-align: top;\n",
              "    }\n",
              "\n",
              "    .dataframe thead th {\n",
              "        text-align: right;\n",
              "    }\n",
              "</style>\n",
              "<table border=\"1\" class=\"dataframe\">\n",
              "  <thead>\n",
              "    <tr style=\"text-align: right;\">\n",
              "      <th></th>\n",
              "      <th>Previous CTC</th>\n",
              "      <th>Previous job change</th>\n",
              "      <th>Graduation Marks</th>\n",
              "      <th>EXP (Month)</th>\n",
              "      <th>CTC</th>\n",
              "      <th>College_Tier1</th>\n",
              "      <th>College_Tier2</th>\n",
              "      <th>City_metro</th>\n",
              "      <th>Role_Manager</th>\n",
              "    </tr>\n",
              "  </thead>\n",
              "  <tbody>\n",
              "    <tr>\n",
              "      <th>Previous CTC</th>\n",
              "      <td>1.000000</td>\n",
              "      <td>0.005756</td>\n",
              "      <td>-0.032976</td>\n",
              "      <td>0.119163</td>\n",
              "      <td>0.258000</td>\n",
              "      <td>-0.031366</td>\n",
              "      <td>-0.010947</td>\n",
              "      <td>0.004644</td>\n",
              "      <td>0.012321</td>\n",
              "    </tr>\n",
              "    <tr>\n",
              "      <th>Previous job change</th>\n",
              "      <td>0.005756</td>\n",
              "      <td>1.000000</td>\n",
              "      <td>0.019267</td>\n",
              "      <td>0.023488</td>\n",
              "      <td>0.011370</td>\n",
              "      <td>0.045931</td>\n",
              "      <td>0.004271</td>\n",
              "      <td>0.051670</td>\n",
              "      <td>-0.017150</td>\n",
              "    </tr>\n",
              "    <tr>\n",
              "      <th>Graduation Marks</th>\n",
              "      <td>-0.032976</td>\n",
              "      <td>0.019267</td>\n",
              "      <td>1.000000</td>\n",
              "      <td>-0.057061</td>\n",
              "      <td>-0.005450</td>\n",
              "      <td>0.005666</td>\n",
              "      <td>-0.018419</td>\n",
              "      <td>-0.018616</td>\n",
              "      <td>0.017858</td>\n",
              "    </tr>\n",
              "    <tr>\n",
              "      <th>EXP (Month)</th>\n",
              "      <td>0.119163</td>\n",
              "      <td>0.023488</td>\n",
              "      <td>-0.057061</td>\n",
              "      <td>1.000000</td>\n",
              "      <td>0.301115</td>\n",
              "      <td>-0.003323</td>\n",
              "      <td>-0.014558</td>\n",
              "      <td>-0.023613</td>\n",
              "      <td>-0.026751</td>\n",
              "    </tr>\n",
              "    <tr>\n",
              "      <th>CTC</th>\n",
              "      <td>0.258000</td>\n",
              "      <td>0.011370</td>\n",
              "      <td>-0.005450</td>\n",
              "      <td>0.301115</td>\n",
              "      <td>1.000000</td>\n",
              "      <td>0.019912</td>\n",
              "      <td>0.012346</td>\n",
              "      <td>-0.020365</td>\n",
              "      <td>0.621311</td>\n",
              "    </tr>\n",
              "    <tr>\n",
              "      <th>College_Tier1</th>\n",
              "      <td>-0.031366</td>\n",
              "      <td>0.045931</td>\n",
              "      <td>0.005666</td>\n",
              "      <td>-0.003323</td>\n",
              "      <td>0.019912</td>\n",
              "      <td>1.000000</td>\n",
              "      <td>-0.491510</td>\n",
              "      <td>0.002135</td>\n",
              "      <td>0.015158</td>\n",
              "    </tr>\n",
              "    <tr>\n",
              "      <th>College_Tier2</th>\n",
              "      <td>-0.010947</td>\n",
              "      <td>0.004271</td>\n",
              "      <td>-0.018419</td>\n",
              "      <td>-0.014558</td>\n",
              "      <td>0.012346</td>\n",
              "      <td>-0.491510</td>\n",
              "      <td>1.000000</td>\n",
              "      <td>0.022917</td>\n",
              "      <td>-0.004865</td>\n",
              "    </tr>\n",
              "    <tr>\n",
              "      <th>City_metro</th>\n",
              "      <td>0.004644</td>\n",
              "      <td>0.051670</td>\n",
              "      <td>-0.018616</td>\n",
              "      <td>-0.023613</td>\n",
              "      <td>-0.020365</td>\n",
              "      <td>0.002135</td>\n",
              "      <td>0.022917</td>\n",
              "      <td>1.000000</td>\n",
              "      <td>-0.048671</td>\n",
              "    </tr>\n",
              "    <tr>\n",
              "      <th>Role_Manager</th>\n",
              "      <td>0.012321</td>\n",
              "      <td>-0.017150</td>\n",
              "      <td>0.017858</td>\n",
              "      <td>-0.026751</td>\n",
              "      <td>0.621311</td>\n",
              "      <td>0.015158</td>\n",
              "      <td>-0.004865</td>\n",
              "      <td>-0.048671</td>\n",
              "      <td>1.000000</td>\n",
              "    </tr>\n",
              "  </tbody>\n",
              "</table>\n",
              "</div>\n",
              "    <div class=\"colab-df-buttons\">\n",
              "\n",
              "  <div class=\"colab-df-container\">\n",
              "    <button class=\"colab-df-convert\" onclick=\"convertToInteractive('df-a74be91e-7e76-4b95-bbc7-5aacb71a9d1d')\"\n",
              "            title=\"Convert this dataframe to an interactive table.\"\n",
              "            style=\"display:none;\">\n",
              "\n",
              "  <svg xmlns=\"http://www.w3.org/2000/svg\" height=\"24px\" viewBox=\"0 -960 960 960\">\n",
              "    <path d=\"M120-120v-720h720v720H120Zm60-500h600v-160H180v160Zm220 220h160v-160H400v160Zm0 220h160v-160H400v160ZM180-400h160v-160H180v160Zm440 0h160v-160H620v160ZM180-180h160v-160H180v160Zm440 0h160v-160H620v160Z\"/>\n",
              "  </svg>\n",
              "    </button>\n",
              "\n",
              "  <style>\n",
              "    .colab-df-container {\n",
              "      display:flex;\n",
              "      gap: 12px;\n",
              "    }\n",
              "\n",
              "    .colab-df-convert {\n",
              "      background-color: #E8F0FE;\n",
              "      border: none;\n",
              "      border-radius: 50%;\n",
              "      cursor: pointer;\n",
              "      display: none;\n",
              "      fill: #1967D2;\n",
              "      height: 32px;\n",
              "      padding: 0 0 0 0;\n",
              "      width: 32px;\n",
              "    }\n",
              "\n",
              "    .colab-df-convert:hover {\n",
              "      background-color: #E2EBFA;\n",
              "      box-shadow: 0px 1px 2px rgba(60, 64, 67, 0.3), 0px 1px 3px 1px rgba(60, 64, 67, 0.15);\n",
              "      fill: #174EA6;\n",
              "    }\n",
              "\n",
              "    .colab-df-buttons div {\n",
              "      margin-bottom: 4px;\n",
              "    }\n",
              "\n",
              "    [theme=dark] .colab-df-convert {\n",
              "      background-color: #3B4455;\n",
              "      fill: #D2E3FC;\n",
              "    }\n",
              "\n",
              "    [theme=dark] .colab-df-convert:hover {\n",
              "      background-color: #434B5C;\n",
              "      box-shadow: 0px 1px 3px 1px rgba(0, 0, 0, 0.15);\n",
              "      filter: drop-shadow(0px 1px 2px rgba(0, 0, 0, 0.3));\n",
              "      fill: #FFFFFF;\n",
              "    }\n",
              "  </style>\n",
              "\n",
              "    <script>\n",
              "      const buttonEl =\n",
              "        document.querySelector('#df-a74be91e-7e76-4b95-bbc7-5aacb71a9d1d button.colab-df-convert');\n",
              "      buttonEl.style.display =\n",
              "        google.colab.kernel.accessAllowed ? 'block' : 'none';\n",
              "\n",
              "      async function convertToInteractive(key) {\n",
              "        const element = document.querySelector('#df-a74be91e-7e76-4b95-bbc7-5aacb71a9d1d');\n",
              "        const dataTable =\n",
              "          await google.colab.kernel.invokeFunction('convertToInteractive',\n",
              "                                                    [key], {});\n",
              "        if (!dataTable) return;\n",
              "\n",
              "        const docLinkHtml = 'Like what you see? Visit the ' +\n",
              "          '<a target=\"_blank\" href=https://colab.research.google.com/notebooks/data_table.ipynb>data table notebook</a>'\n",
              "          + ' to learn more about interactive tables.';\n",
              "        element.innerHTML = '';\n",
              "        dataTable['output_type'] = 'display_data';\n",
              "        await google.colab.output.renderOutput(dataTable, element);\n",
              "        const docLink = document.createElement('div');\n",
              "        docLink.innerHTML = docLinkHtml;\n",
              "        element.appendChild(docLink);\n",
              "      }\n",
              "    </script>\n",
              "  </div>\n",
              "\n",
              "\n",
              "<div id=\"df-85a224b5-83be-45c9-a71b-d556780ca46c\">\n",
              "  <button class=\"colab-df-quickchart\" onclick=\"quickchart('df-85a224b5-83be-45c9-a71b-d556780ca46c')\"\n",
              "            title=\"Suggest charts.\"\n",
              "            style=\"display:none;\">\n",
              "\n",
              "<svg xmlns=\"http://www.w3.org/2000/svg\" height=\"24px\"viewBox=\"0 0 24 24\"\n",
              "     width=\"24px\">\n",
              "    <g>\n",
              "        <path d=\"M19 3H5c-1.1 0-2 .9-2 2v14c0 1.1.9 2 2 2h14c1.1 0 2-.9 2-2V5c0-1.1-.9-2-2-2zM9 17H7v-7h2v7zm4 0h-2V7h2v10zm4 0h-2v-4h2v4z\"/>\n",
              "    </g>\n",
              "</svg>\n",
              "  </button>\n",
              "\n",
              "<style>\n",
              "  .colab-df-quickchart {\n",
              "      --bg-color: #E8F0FE;\n",
              "      --fill-color: #1967D2;\n",
              "      --hover-bg-color: #E2EBFA;\n",
              "      --hover-fill-color: #174EA6;\n",
              "      --disabled-fill-color: #AAA;\n",
              "      --disabled-bg-color: #DDD;\n",
              "  }\n",
              "\n",
              "  [theme=dark] .colab-df-quickchart {\n",
              "      --bg-color: #3B4455;\n",
              "      --fill-color: #D2E3FC;\n",
              "      --hover-bg-color: #434B5C;\n",
              "      --hover-fill-color: #FFFFFF;\n",
              "      --disabled-bg-color: #3B4455;\n",
              "      --disabled-fill-color: #666;\n",
              "  }\n",
              "\n",
              "  .colab-df-quickchart {\n",
              "    background-color: var(--bg-color);\n",
              "    border: none;\n",
              "    border-radius: 50%;\n",
              "    cursor: pointer;\n",
              "    display: none;\n",
              "    fill: var(--fill-color);\n",
              "    height: 32px;\n",
              "    padding: 0;\n",
              "    width: 32px;\n",
              "  }\n",
              "\n",
              "  .colab-df-quickchart:hover {\n",
              "    background-color: var(--hover-bg-color);\n",
              "    box-shadow: 0 1px 2px rgba(60, 64, 67, 0.3), 0 1px 3px 1px rgba(60, 64, 67, 0.15);\n",
              "    fill: var(--button-hover-fill-color);\n",
              "  }\n",
              "\n",
              "  .colab-df-quickchart-complete:disabled,\n",
              "  .colab-df-quickchart-complete:disabled:hover {\n",
              "    background-color: var(--disabled-bg-color);\n",
              "    fill: var(--disabled-fill-color);\n",
              "    box-shadow: none;\n",
              "  }\n",
              "\n",
              "  .colab-df-spinner {\n",
              "    border: 2px solid var(--fill-color);\n",
              "    border-color: transparent;\n",
              "    border-bottom-color: var(--fill-color);\n",
              "    animation:\n",
              "      spin 1s steps(1) infinite;\n",
              "  }\n",
              "\n",
              "  @keyframes spin {\n",
              "    0% {\n",
              "      border-color: transparent;\n",
              "      border-bottom-color: var(--fill-color);\n",
              "      border-left-color: var(--fill-color);\n",
              "    }\n",
              "    20% {\n",
              "      border-color: transparent;\n",
              "      border-left-color: var(--fill-color);\n",
              "      border-top-color: var(--fill-color);\n",
              "    }\n",
              "    30% {\n",
              "      border-color: transparent;\n",
              "      border-left-color: var(--fill-color);\n",
              "      border-top-color: var(--fill-color);\n",
              "      border-right-color: var(--fill-color);\n",
              "    }\n",
              "    40% {\n",
              "      border-color: transparent;\n",
              "      border-right-color: var(--fill-color);\n",
              "      border-top-color: var(--fill-color);\n",
              "    }\n",
              "    60% {\n",
              "      border-color: transparent;\n",
              "      border-right-color: var(--fill-color);\n",
              "    }\n",
              "    80% {\n",
              "      border-color: transparent;\n",
              "      border-right-color: var(--fill-color);\n",
              "      border-bottom-color: var(--fill-color);\n",
              "    }\n",
              "    90% {\n",
              "      border-color: transparent;\n",
              "      border-bottom-color: var(--fill-color);\n",
              "    }\n",
              "  }\n",
              "</style>\n",
              "\n",
              "  <script>\n",
              "    async function quickchart(key) {\n",
              "      const quickchartButtonEl =\n",
              "        document.querySelector('#' + key + ' button');\n",
              "      quickchartButtonEl.disabled = true;  // To prevent multiple clicks.\n",
              "      quickchartButtonEl.classList.add('colab-df-spinner');\n",
              "      try {\n",
              "        const charts = await google.colab.kernel.invokeFunction(\n",
              "            'suggestCharts', [key], {});\n",
              "      } catch (error) {\n",
              "        console.error('Error during call to suggestCharts:', error);\n",
              "      }\n",
              "      quickchartButtonEl.classList.remove('colab-df-spinner');\n",
              "      quickchartButtonEl.classList.add('colab-df-quickchart-complete');\n",
              "    }\n",
              "    (() => {\n",
              "      let quickchartButtonEl =\n",
              "        document.querySelector('#df-85a224b5-83be-45c9-a71b-d556780ca46c button');\n",
              "      quickchartButtonEl.style.display =\n",
              "        google.colab.kernel.accessAllowed ? 'block' : 'none';\n",
              "    })();\n",
              "  </script>\n",
              "</div>\n",
              "    </div>\n",
              "  </div>\n"
            ]
          },
          "metadata": {},
          "execution_count": 46
        }
      ],
      "source": [
        "### it shows correlation between variables\n",
        "df.corr()"
      ]
    },
    {
      "cell_type": "code",
      "execution_count": null,
      "id": "6bc5c69c",
      "metadata": {
        "colab": {
          "base_uri": "https://localhost:8080/",
          "height": 206
        },
        "id": "6bc5c69c",
        "outputId": "5cffcace-e6cf-4829-94d0-62f78fd33810"
      },
      "outputs": [
        {
          "output_type": "execute_result",
          "data": {
            "text/plain": [
              "   Previous CTC  Previous job change  Graduation Marks  EXP (Month)       CTC  \\\n",
              "0       55523.0                    3                66           19  71406.58   \n",
              "1       57081.0                    1                84           18  68005.87   \n",
              "2       60347.0                    2                52           28  76764.02   \n",
              "3       49010.0                    2                81           33  82092.39   \n",
              "4       57879.0                    4                74           32  73878.10   \n",
              "\n",
              "   College_Tier1  College_Tier2  City_metro  Role_Manager  \n",
              "0              0              1           0             1  \n",
              "1              0              1           0             0  \n",
              "2              0              0           0             0  \n",
              "3              0              0           0             0  \n",
              "4              1              0           0             0  "
            ],
            "text/html": [
              "\n",
              "  <div id=\"df-af7e6127-a2e4-460e-a173-2d6a6e0eab93\" class=\"colab-df-container\">\n",
              "    <div>\n",
              "<style scoped>\n",
              "    .dataframe tbody tr th:only-of-type {\n",
              "        vertical-align: middle;\n",
              "    }\n",
              "\n",
              "    .dataframe tbody tr th {\n",
              "        vertical-align: top;\n",
              "    }\n",
              "\n",
              "    .dataframe thead th {\n",
              "        text-align: right;\n",
              "    }\n",
              "</style>\n",
              "<table border=\"1\" class=\"dataframe\">\n",
              "  <thead>\n",
              "    <tr style=\"text-align: right;\">\n",
              "      <th></th>\n",
              "      <th>Previous CTC</th>\n",
              "      <th>Previous job change</th>\n",
              "      <th>Graduation Marks</th>\n",
              "      <th>EXP (Month)</th>\n",
              "      <th>CTC</th>\n",
              "      <th>College_Tier1</th>\n",
              "      <th>College_Tier2</th>\n",
              "      <th>City_metro</th>\n",
              "      <th>Role_Manager</th>\n",
              "    </tr>\n",
              "  </thead>\n",
              "  <tbody>\n",
              "    <tr>\n",
              "      <th>0</th>\n",
              "      <td>55523.0</td>\n",
              "      <td>3</td>\n",
              "      <td>66</td>\n",
              "      <td>19</td>\n",
              "      <td>71406.58</td>\n",
              "      <td>0</td>\n",
              "      <td>1</td>\n",
              "      <td>0</td>\n",
              "      <td>1</td>\n",
              "    </tr>\n",
              "    <tr>\n",
              "      <th>1</th>\n",
              "      <td>57081.0</td>\n",
              "      <td>1</td>\n",
              "      <td>84</td>\n",
              "      <td>18</td>\n",
              "      <td>68005.87</td>\n",
              "      <td>0</td>\n",
              "      <td>1</td>\n",
              "      <td>0</td>\n",
              "      <td>0</td>\n",
              "    </tr>\n",
              "    <tr>\n",
              "      <th>2</th>\n",
              "      <td>60347.0</td>\n",
              "      <td>2</td>\n",
              "      <td>52</td>\n",
              "      <td>28</td>\n",
              "      <td>76764.02</td>\n",
              "      <td>0</td>\n",
              "      <td>0</td>\n",
              "      <td>0</td>\n",
              "      <td>0</td>\n",
              "    </tr>\n",
              "    <tr>\n",
              "      <th>3</th>\n",
              "      <td>49010.0</td>\n",
              "      <td>2</td>\n",
              "      <td>81</td>\n",
              "      <td>33</td>\n",
              "      <td>82092.39</td>\n",
              "      <td>0</td>\n",
              "      <td>0</td>\n",
              "      <td>0</td>\n",
              "      <td>0</td>\n",
              "    </tr>\n",
              "    <tr>\n",
              "      <th>4</th>\n",
              "      <td>57879.0</td>\n",
              "      <td>4</td>\n",
              "      <td>74</td>\n",
              "      <td>32</td>\n",
              "      <td>73878.10</td>\n",
              "      <td>1</td>\n",
              "      <td>0</td>\n",
              "      <td>0</td>\n",
              "      <td>0</td>\n",
              "    </tr>\n",
              "  </tbody>\n",
              "</table>\n",
              "</div>\n",
              "    <div class=\"colab-df-buttons\">\n",
              "\n",
              "  <div class=\"colab-df-container\">\n",
              "    <button class=\"colab-df-convert\" onclick=\"convertToInteractive('df-af7e6127-a2e4-460e-a173-2d6a6e0eab93')\"\n",
              "            title=\"Convert this dataframe to an interactive table.\"\n",
              "            style=\"display:none;\">\n",
              "\n",
              "  <svg xmlns=\"http://www.w3.org/2000/svg\" height=\"24px\" viewBox=\"0 -960 960 960\">\n",
              "    <path d=\"M120-120v-720h720v720H120Zm60-500h600v-160H180v160Zm220 220h160v-160H400v160Zm0 220h160v-160H400v160ZM180-400h160v-160H180v160Zm440 0h160v-160H620v160ZM180-180h160v-160H180v160Zm440 0h160v-160H620v160Z\"/>\n",
              "  </svg>\n",
              "    </button>\n",
              "\n",
              "  <style>\n",
              "    .colab-df-container {\n",
              "      display:flex;\n",
              "      gap: 12px;\n",
              "    }\n",
              "\n",
              "    .colab-df-convert {\n",
              "      background-color: #E8F0FE;\n",
              "      border: none;\n",
              "      border-radius: 50%;\n",
              "      cursor: pointer;\n",
              "      display: none;\n",
              "      fill: #1967D2;\n",
              "      height: 32px;\n",
              "      padding: 0 0 0 0;\n",
              "      width: 32px;\n",
              "    }\n",
              "\n",
              "    .colab-df-convert:hover {\n",
              "      background-color: #E2EBFA;\n",
              "      box-shadow: 0px 1px 2px rgba(60, 64, 67, 0.3), 0px 1px 3px 1px rgba(60, 64, 67, 0.15);\n",
              "      fill: #174EA6;\n",
              "    }\n",
              "\n",
              "    .colab-df-buttons div {\n",
              "      margin-bottom: 4px;\n",
              "    }\n",
              "\n",
              "    [theme=dark] .colab-df-convert {\n",
              "      background-color: #3B4455;\n",
              "      fill: #D2E3FC;\n",
              "    }\n",
              "\n",
              "    [theme=dark] .colab-df-convert:hover {\n",
              "      background-color: #434B5C;\n",
              "      box-shadow: 0px 1px 3px 1px rgba(0, 0, 0, 0.15);\n",
              "      filter: drop-shadow(0px 1px 2px rgba(0, 0, 0, 0.3));\n",
              "      fill: #FFFFFF;\n",
              "    }\n",
              "  </style>\n",
              "\n",
              "    <script>\n",
              "      const buttonEl =\n",
              "        document.querySelector('#df-af7e6127-a2e4-460e-a173-2d6a6e0eab93 button.colab-df-convert');\n",
              "      buttonEl.style.display =\n",
              "        google.colab.kernel.accessAllowed ? 'block' : 'none';\n",
              "\n",
              "      async function convertToInteractive(key) {\n",
              "        const element = document.querySelector('#df-af7e6127-a2e4-460e-a173-2d6a6e0eab93');\n",
              "        const dataTable =\n",
              "          await google.colab.kernel.invokeFunction('convertToInteractive',\n",
              "                                                    [key], {});\n",
              "        if (!dataTable) return;\n",
              "\n",
              "        const docLinkHtml = 'Like what you see? Visit the ' +\n",
              "          '<a target=\"_blank\" href=https://colab.research.google.com/notebooks/data_table.ipynb>data table notebook</a>'\n",
              "          + ' to learn more about interactive tables.';\n",
              "        element.innerHTML = '';\n",
              "        dataTable['output_type'] = 'display_data';\n",
              "        await google.colab.output.renderOutput(dataTable, element);\n",
              "        const docLink = document.createElement('div');\n",
              "        docLink.innerHTML = docLinkHtml;\n",
              "        element.appendChild(docLink);\n",
              "      }\n",
              "    </script>\n",
              "  </div>\n",
              "\n",
              "\n",
              "<div id=\"df-fe7fbf8f-92a1-4556-ad48-a6198d001efd\">\n",
              "  <button class=\"colab-df-quickchart\" onclick=\"quickchart('df-fe7fbf8f-92a1-4556-ad48-a6198d001efd')\"\n",
              "            title=\"Suggest charts.\"\n",
              "            style=\"display:none;\">\n",
              "\n",
              "<svg xmlns=\"http://www.w3.org/2000/svg\" height=\"24px\"viewBox=\"0 0 24 24\"\n",
              "     width=\"24px\">\n",
              "    <g>\n",
              "        <path d=\"M19 3H5c-1.1 0-2 .9-2 2v14c0 1.1.9 2 2 2h14c1.1 0 2-.9 2-2V5c0-1.1-.9-2-2-2zM9 17H7v-7h2v7zm4 0h-2V7h2v10zm4 0h-2v-4h2v4z\"/>\n",
              "    </g>\n",
              "</svg>\n",
              "  </button>\n",
              "\n",
              "<style>\n",
              "  .colab-df-quickchart {\n",
              "      --bg-color: #E8F0FE;\n",
              "      --fill-color: #1967D2;\n",
              "      --hover-bg-color: #E2EBFA;\n",
              "      --hover-fill-color: #174EA6;\n",
              "      --disabled-fill-color: #AAA;\n",
              "      --disabled-bg-color: #DDD;\n",
              "  }\n",
              "\n",
              "  [theme=dark] .colab-df-quickchart {\n",
              "      --bg-color: #3B4455;\n",
              "      --fill-color: #D2E3FC;\n",
              "      --hover-bg-color: #434B5C;\n",
              "      --hover-fill-color: #FFFFFF;\n",
              "      --disabled-bg-color: #3B4455;\n",
              "      --disabled-fill-color: #666;\n",
              "  }\n",
              "\n",
              "  .colab-df-quickchart {\n",
              "    background-color: var(--bg-color);\n",
              "    border: none;\n",
              "    border-radius: 50%;\n",
              "    cursor: pointer;\n",
              "    display: none;\n",
              "    fill: var(--fill-color);\n",
              "    height: 32px;\n",
              "    padding: 0;\n",
              "    width: 32px;\n",
              "  }\n",
              "\n",
              "  .colab-df-quickchart:hover {\n",
              "    background-color: var(--hover-bg-color);\n",
              "    box-shadow: 0 1px 2px rgba(60, 64, 67, 0.3), 0 1px 3px 1px rgba(60, 64, 67, 0.15);\n",
              "    fill: var(--button-hover-fill-color);\n",
              "  }\n",
              "\n",
              "  .colab-df-quickchart-complete:disabled,\n",
              "  .colab-df-quickchart-complete:disabled:hover {\n",
              "    background-color: var(--disabled-bg-color);\n",
              "    fill: var(--disabled-fill-color);\n",
              "    box-shadow: none;\n",
              "  }\n",
              "\n",
              "  .colab-df-spinner {\n",
              "    border: 2px solid var(--fill-color);\n",
              "    border-color: transparent;\n",
              "    border-bottom-color: var(--fill-color);\n",
              "    animation:\n",
              "      spin 1s steps(1) infinite;\n",
              "  }\n",
              "\n",
              "  @keyframes spin {\n",
              "    0% {\n",
              "      border-color: transparent;\n",
              "      border-bottom-color: var(--fill-color);\n",
              "      border-left-color: var(--fill-color);\n",
              "    }\n",
              "    20% {\n",
              "      border-color: transparent;\n",
              "      border-left-color: var(--fill-color);\n",
              "      border-top-color: var(--fill-color);\n",
              "    }\n",
              "    30% {\n",
              "      border-color: transparent;\n",
              "      border-left-color: var(--fill-color);\n",
              "      border-top-color: var(--fill-color);\n",
              "      border-right-color: var(--fill-color);\n",
              "    }\n",
              "    40% {\n",
              "      border-color: transparent;\n",
              "      border-right-color: var(--fill-color);\n",
              "      border-top-color: var(--fill-color);\n",
              "    }\n",
              "    60% {\n",
              "      border-color: transparent;\n",
              "      border-right-color: var(--fill-color);\n",
              "    }\n",
              "    80% {\n",
              "      border-color: transparent;\n",
              "      border-right-color: var(--fill-color);\n",
              "      border-bottom-color: var(--fill-color);\n",
              "    }\n",
              "    90% {\n",
              "      border-color: transparent;\n",
              "      border-bottom-color: var(--fill-color);\n",
              "    }\n",
              "  }\n",
              "</style>\n",
              "\n",
              "  <script>\n",
              "    async function quickchart(key) {\n",
              "      const quickchartButtonEl =\n",
              "        document.querySelector('#' + key + ' button');\n",
              "      quickchartButtonEl.disabled = true;  // To prevent multiple clicks.\n",
              "      quickchartButtonEl.classList.add('colab-df-spinner');\n",
              "      try {\n",
              "        const charts = await google.colab.kernel.invokeFunction(\n",
              "            'suggestCharts', [key], {});\n",
              "      } catch (error) {\n",
              "        console.error('Error during call to suggestCharts:', error);\n",
              "      }\n",
              "      quickchartButtonEl.classList.remove('colab-df-spinner');\n",
              "      quickchartButtonEl.classList.add('colab-df-quickchart-complete');\n",
              "    }\n",
              "    (() => {\n",
              "      let quickchartButtonEl =\n",
              "        document.querySelector('#df-fe7fbf8f-92a1-4556-ad48-a6198d001efd button');\n",
              "      quickchartButtonEl.style.display =\n",
              "        google.colab.kernel.accessAllowed ? 'block' : 'none';\n",
              "    })();\n",
              "  </script>\n",
              "</div>\n",
              "    </div>\n",
              "  </div>\n"
            ]
          },
          "metadata": {},
          "execution_count": 47
        }
      ],
      "source": [
        "#### it shows first five records of college_data\n",
        "df.head()"
      ]
    },
    {
      "cell_type": "code",
      "execution_count": null,
      "id": "a220cd3e",
      "metadata": {
        "colab": {
          "base_uri": "https://localhost:8080/"
        },
        "id": "a220cd3e",
        "outputId": "0ee8a815-9b22-4bf6-fbc6-13f516a43e6f"
      },
      "outputs": [
        {
          "output_type": "execute_result",
          "data": {
            "text/plain": [
              "['Ramaiah Institute of Technology, Bengaluru',\n",
              " 'TIET/Thapar University',\n",
              " 'Manipal Main Campus',\n",
              " 'VIT Vellore',\n",
              " 'SRM Main Campus',\n",
              " 'KIIT, Bhubaneswar',\n",
              " 'Amity University',\n",
              " 'BMS College, Bangalore',\n",
              " 'PES University, Bangalore',\n",
              " 'USIT, Delhi',\n",
              " 'MAIT, Delhi',\n",
              " 'MSIT, Delhi',\n",
              " 'Dayanand College of Engineering, Bangalore',\n",
              " 'Heritage Institute of Technology, Kolkata',\n",
              " 'IEM, Kolkata',\n",
              " 'Techno India, Kolkata',\n",
              " 'Jaypee, Noida',\n",
              " 'Amrita University, Coimbatore',\n",
              " 'Cummins College of Engineering for Women, Pune',\n",
              " nan,\n",
              " nan,\n",
              " nan,\n",
              " nan,\n",
              " nan,\n",
              " nan,\n",
              " nan,\n",
              " nan,\n",
              " nan]"
            ]
          },
          "metadata": {},
          "execution_count": 48
        }
      ],
      "source": [
        "### shows the list of Tier3 colleges\n",
        "Tier3"
      ]
    },
    {
      "cell_type": "code",
      "execution_count": null,
      "id": "9b12db92",
      "metadata": {
        "colab": {
          "base_uri": "https://localhost:8080/"
        },
        "id": "9b12db92",
        "outputId": "c92244b7-5b3f-4376-b9d3-62882c6faf8d"
      },
      "outputs": [
        {
          "output_type": "execute_result",
          "data": {
            "text/plain": [
              "['Mumbai',\n",
              " 'Delhi',\n",
              " 'Kolkata',\n",
              " 'Chennai',\n",
              " 'Bangalore',\n",
              " 'Hyderabad',\n",
              " 'Ahmedabad',\n",
              " 'Pune',\n",
              " 'Surat']"
            ]
          },
          "metadata": {},
          "execution_count": 49
        }
      ],
      "source": [
        "### shows the list of metro cities\n",
        "metro"
      ]
    },
    {
      "cell_type": "code",
      "execution_count": null,
      "id": "49940c21",
      "metadata": {
        "colab": {
          "base_uri": "https://localhost:8080/"
        },
        "id": "49940c21",
        "outputId": "d6058c90-7359-4d06-ab2e-968ae3cf410d"
      },
      "outputs": [
        {
          "output_type": "execute_result",
          "data": {
            "text/plain": [
              "['Dehradun',\n",
              " 'Durgapur',\n",
              " 'Asansol',\n",
              " 'Rourkela',\n",
              " 'Kozhikode',\n",
              " 'Rajpur Sonarpur',\n",
              " 'Kolhapur',\n",
              " 'Ajmer',\n",
              " nan]"
            ]
          },
          "metadata": {},
          "execution_count": 50
        }
      ],
      "source": [
        "### shows the list of non_metro cities\n",
        "non_metro"
      ]
    },
    {
      "cell_type": "markdown",
      "source": [
        "###**Result**\n",
        "\n",
        "1.   No missing values found df.info()\n",
        "2.   No outliers in data as seen from graphs and df.describe()\n",
        "3.   Converted categorical into numeric field using n-hot encoding\n",
        "4.   No Duplicates found in data from df1.\n",
        "\n"
      ],
      "metadata": {
        "id": "sxUF_5iySovg"
      },
      "id": "sxUF_5iySovg"
    },
    {
      "cell_type": "markdown",
      "id": "63a0076d",
      "metadata": {
        "id": "63a0076d"
      },
      "source": [
        "#### Splitting Data into Train-Test sample"
      ]
    },
    {
      "cell_type": "code",
      "execution_count": null,
      "id": "aee193b3",
      "metadata": {
        "colab": {
          "base_uri": "https://localhost:8080/"
        },
        "id": "aee193b3",
        "outputId": "9a6aa1c4-f931-465c-98aa-12579f267951"
      },
      "outputs": [
        {
          "output_type": "stream",
          "name": "stdout",
          "text": [
            "(1271, 8) (318, 8) (1271,) (318,)\n"
          ]
        }
      ],
      "source": [
        "\n",
        "from sklearn.model_selection import train_test_split                                    ###importing modul/package of test_train_split\n",
        "x_train,x_test, y_train, y_test= train_test_split(x, y, test_size=0.2, random_state=0)  ###creating  test, train variables\n",
        "print(x_train.shape, x_test.shape, y_train.shape, y_test.shape)                         ### finding diamensions of variable"
      ]
    },
    {
      "cell_type": "markdown",
      "id": "44bea465",
      "metadata": {
        "id": "44bea465"
      },
      "source": [
        "##### statsmodels"
      ]
    },
    {
      "cell_type": "code",
      "execution_count": null,
      "id": "e3e4e097",
      "metadata": {
        "id": "e3e4e097"
      },
      "outputs": [],
      "source": [
        "import statsmodels.api as sn        ### importing statsmodel\n",
        "x_const=sn.add_constant(x_train)    ### creating constant variable x"
      ]
    },
    {
      "cell_type": "code",
      "execution_count": null,
      "id": "19312eb5",
      "metadata": {
        "colab": {
          "base_uri": "https://localhost:8080/",
          "height": 112
        },
        "id": "19312eb5",
        "outputId": "34f908e4-d54d-476b-eb22-bf9582031cc3"
      },
      "outputs": [
        {
          "output_type": "execute_result",
          "data": {
            "text/plain": [
              "      const  Previous CTC  Previous job change  Graduation Marks  EXP (Month)  \\\n",
              "1062    1.0       61410.0                    4                83           59   \n",
              "215     1.0       59781.0                    1                46           41   \n",
              "\n",
              "      College_Tier1  College_Tier2  City_metro  Role_Manager  \n",
              "1062              1              0           0             1  \n",
              "215               1              0           1             0  "
            ],
            "text/html": [
              "\n",
              "  <div id=\"df-d395c23c-f357-458e-aa81-e30648cf8bd0\" class=\"colab-df-container\">\n",
              "    <div>\n",
              "<style scoped>\n",
              "    .dataframe tbody tr th:only-of-type {\n",
              "        vertical-align: middle;\n",
              "    }\n",
              "\n",
              "    .dataframe tbody tr th {\n",
              "        vertical-align: top;\n",
              "    }\n",
              "\n",
              "    .dataframe thead th {\n",
              "        text-align: right;\n",
              "    }\n",
              "</style>\n",
              "<table border=\"1\" class=\"dataframe\">\n",
              "  <thead>\n",
              "    <tr style=\"text-align: right;\">\n",
              "      <th></th>\n",
              "      <th>const</th>\n",
              "      <th>Previous CTC</th>\n",
              "      <th>Previous job change</th>\n",
              "      <th>Graduation Marks</th>\n",
              "      <th>EXP (Month)</th>\n",
              "      <th>College_Tier1</th>\n",
              "      <th>College_Tier2</th>\n",
              "      <th>City_metro</th>\n",
              "      <th>Role_Manager</th>\n",
              "    </tr>\n",
              "  </thead>\n",
              "  <tbody>\n",
              "    <tr>\n",
              "      <th>1062</th>\n",
              "      <td>1.0</td>\n",
              "      <td>61410.0</td>\n",
              "      <td>4</td>\n",
              "      <td>83</td>\n",
              "      <td>59</td>\n",
              "      <td>1</td>\n",
              "      <td>0</td>\n",
              "      <td>0</td>\n",
              "      <td>1</td>\n",
              "    </tr>\n",
              "    <tr>\n",
              "      <th>215</th>\n",
              "      <td>1.0</td>\n",
              "      <td>59781.0</td>\n",
              "      <td>1</td>\n",
              "      <td>46</td>\n",
              "      <td>41</td>\n",
              "      <td>1</td>\n",
              "      <td>0</td>\n",
              "      <td>1</td>\n",
              "      <td>0</td>\n",
              "    </tr>\n",
              "  </tbody>\n",
              "</table>\n",
              "</div>\n",
              "    <div class=\"colab-df-buttons\">\n",
              "\n",
              "  <div class=\"colab-df-container\">\n",
              "    <button class=\"colab-df-convert\" onclick=\"convertToInteractive('df-d395c23c-f357-458e-aa81-e30648cf8bd0')\"\n",
              "            title=\"Convert this dataframe to an interactive table.\"\n",
              "            style=\"display:none;\">\n",
              "\n",
              "  <svg xmlns=\"http://www.w3.org/2000/svg\" height=\"24px\" viewBox=\"0 -960 960 960\">\n",
              "    <path d=\"M120-120v-720h720v720H120Zm60-500h600v-160H180v160Zm220 220h160v-160H400v160Zm0 220h160v-160H400v160ZM180-400h160v-160H180v160Zm440 0h160v-160H620v160ZM180-180h160v-160H180v160Zm440 0h160v-160H620v160Z\"/>\n",
              "  </svg>\n",
              "    </button>\n",
              "\n",
              "  <style>\n",
              "    .colab-df-container {\n",
              "      display:flex;\n",
              "      gap: 12px;\n",
              "    }\n",
              "\n",
              "    .colab-df-convert {\n",
              "      background-color: #E8F0FE;\n",
              "      border: none;\n",
              "      border-radius: 50%;\n",
              "      cursor: pointer;\n",
              "      display: none;\n",
              "      fill: #1967D2;\n",
              "      height: 32px;\n",
              "      padding: 0 0 0 0;\n",
              "      width: 32px;\n",
              "    }\n",
              "\n",
              "    .colab-df-convert:hover {\n",
              "      background-color: #E2EBFA;\n",
              "      box-shadow: 0px 1px 2px rgba(60, 64, 67, 0.3), 0px 1px 3px 1px rgba(60, 64, 67, 0.15);\n",
              "      fill: #174EA6;\n",
              "    }\n",
              "\n",
              "    .colab-df-buttons div {\n",
              "      margin-bottom: 4px;\n",
              "    }\n",
              "\n",
              "    [theme=dark] .colab-df-convert {\n",
              "      background-color: #3B4455;\n",
              "      fill: #D2E3FC;\n",
              "    }\n",
              "\n",
              "    [theme=dark] .colab-df-convert:hover {\n",
              "      background-color: #434B5C;\n",
              "      box-shadow: 0px 1px 3px 1px rgba(0, 0, 0, 0.15);\n",
              "      filter: drop-shadow(0px 1px 2px rgba(0, 0, 0, 0.3));\n",
              "      fill: #FFFFFF;\n",
              "    }\n",
              "  </style>\n",
              "\n",
              "    <script>\n",
              "      const buttonEl =\n",
              "        document.querySelector('#df-d395c23c-f357-458e-aa81-e30648cf8bd0 button.colab-df-convert');\n",
              "      buttonEl.style.display =\n",
              "        google.colab.kernel.accessAllowed ? 'block' : 'none';\n",
              "\n",
              "      async function convertToInteractive(key) {\n",
              "        const element = document.querySelector('#df-d395c23c-f357-458e-aa81-e30648cf8bd0');\n",
              "        const dataTable =\n",
              "          await google.colab.kernel.invokeFunction('convertToInteractive',\n",
              "                                                    [key], {});\n",
              "        if (!dataTable) return;\n",
              "\n",
              "        const docLinkHtml = 'Like what you see? Visit the ' +\n",
              "          '<a target=\"_blank\" href=https://colab.research.google.com/notebooks/data_table.ipynb>data table notebook</a>'\n",
              "          + ' to learn more about interactive tables.';\n",
              "        element.innerHTML = '';\n",
              "        dataTable['output_type'] = 'display_data';\n",
              "        await google.colab.output.renderOutput(dataTable, element);\n",
              "        const docLink = document.createElement('div');\n",
              "        docLink.innerHTML = docLinkHtml;\n",
              "        element.appendChild(docLink);\n",
              "      }\n",
              "    </script>\n",
              "  </div>\n",
              "\n",
              "\n",
              "<div id=\"df-ac526278-59fa-4c85-a53e-96e09efb894e\">\n",
              "  <button class=\"colab-df-quickchart\" onclick=\"quickchart('df-ac526278-59fa-4c85-a53e-96e09efb894e')\"\n",
              "            title=\"Suggest charts.\"\n",
              "            style=\"display:none;\">\n",
              "\n",
              "<svg xmlns=\"http://www.w3.org/2000/svg\" height=\"24px\"viewBox=\"0 0 24 24\"\n",
              "     width=\"24px\">\n",
              "    <g>\n",
              "        <path d=\"M19 3H5c-1.1 0-2 .9-2 2v14c0 1.1.9 2 2 2h14c1.1 0 2-.9 2-2V5c0-1.1-.9-2-2-2zM9 17H7v-7h2v7zm4 0h-2V7h2v10zm4 0h-2v-4h2v4z\"/>\n",
              "    </g>\n",
              "</svg>\n",
              "  </button>\n",
              "\n",
              "<style>\n",
              "  .colab-df-quickchart {\n",
              "      --bg-color: #E8F0FE;\n",
              "      --fill-color: #1967D2;\n",
              "      --hover-bg-color: #E2EBFA;\n",
              "      --hover-fill-color: #174EA6;\n",
              "      --disabled-fill-color: #AAA;\n",
              "      --disabled-bg-color: #DDD;\n",
              "  }\n",
              "\n",
              "  [theme=dark] .colab-df-quickchart {\n",
              "      --bg-color: #3B4455;\n",
              "      --fill-color: #D2E3FC;\n",
              "      --hover-bg-color: #434B5C;\n",
              "      --hover-fill-color: #FFFFFF;\n",
              "      --disabled-bg-color: #3B4455;\n",
              "      --disabled-fill-color: #666;\n",
              "  }\n",
              "\n",
              "  .colab-df-quickchart {\n",
              "    background-color: var(--bg-color);\n",
              "    border: none;\n",
              "    border-radius: 50%;\n",
              "    cursor: pointer;\n",
              "    display: none;\n",
              "    fill: var(--fill-color);\n",
              "    height: 32px;\n",
              "    padding: 0;\n",
              "    width: 32px;\n",
              "  }\n",
              "\n",
              "  .colab-df-quickchart:hover {\n",
              "    background-color: var(--hover-bg-color);\n",
              "    box-shadow: 0 1px 2px rgba(60, 64, 67, 0.3), 0 1px 3px 1px rgba(60, 64, 67, 0.15);\n",
              "    fill: var(--button-hover-fill-color);\n",
              "  }\n",
              "\n",
              "  .colab-df-quickchart-complete:disabled,\n",
              "  .colab-df-quickchart-complete:disabled:hover {\n",
              "    background-color: var(--disabled-bg-color);\n",
              "    fill: var(--disabled-fill-color);\n",
              "    box-shadow: none;\n",
              "  }\n",
              "\n",
              "  .colab-df-spinner {\n",
              "    border: 2px solid var(--fill-color);\n",
              "    border-color: transparent;\n",
              "    border-bottom-color: var(--fill-color);\n",
              "    animation:\n",
              "      spin 1s steps(1) infinite;\n",
              "  }\n",
              "\n",
              "  @keyframes spin {\n",
              "    0% {\n",
              "      border-color: transparent;\n",
              "      border-bottom-color: var(--fill-color);\n",
              "      border-left-color: var(--fill-color);\n",
              "    }\n",
              "    20% {\n",
              "      border-color: transparent;\n",
              "      border-left-color: var(--fill-color);\n",
              "      border-top-color: var(--fill-color);\n",
              "    }\n",
              "    30% {\n",
              "      border-color: transparent;\n",
              "      border-left-color: var(--fill-color);\n",
              "      border-top-color: var(--fill-color);\n",
              "      border-right-color: var(--fill-color);\n",
              "    }\n",
              "    40% {\n",
              "      border-color: transparent;\n",
              "      border-right-color: var(--fill-color);\n",
              "      border-top-color: var(--fill-color);\n",
              "    }\n",
              "    60% {\n",
              "      border-color: transparent;\n",
              "      border-right-color: var(--fill-color);\n",
              "    }\n",
              "    80% {\n",
              "      border-color: transparent;\n",
              "      border-right-color: var(--fill-color);\n",
              "      border-bottom-color: var(--fill-color);\n",
              "    }\n",
              "    90% {\n",
              "      border-color: transparent;\n",
              "      border-bottom-color: var(--fill-color);\n",
              "    }\n",
              "  }\n",
              "</style>\n",
              "\n",
              "  <script>\n",
              "    async function quickchart(key) {\n",
              "      const quickchartButtonEl =\n",
              "        document.querySelector('#' + key + ' button');\n",
              "      quickchartButtonEl.disabled = true;  // To prevent multiple clicks.\n",
              "      quickchartButtonEl.classList.add('colab-df-spinner');\n",
              "      try {\n",
              "        const charts = await google.colab.kernel.invokeFunction(\n",
              "            'suggestCharts', [key], {});\n",
              "      } catch (error) {\n",
              "        console.error('Error during call to suggestCharts:', error);\n",
              "      }\n",
              "      quickchartButtonEl.classList.remove('colab-df-spinner');\n",
              "      quickchartButtonEl.classList.add('colab-df-quickchart-complete');\n",
              "    }\n",
              "    (() => {\n",
              "      let quickchartButtonEl =\n",
              "        document.querySelector('#df-ac526278-59fa-4c85-a53e-96e09efb894e button');\n",
              "      quickchartButtonEl.style.display =\n",
              "        google.colab.kernel.accessAllowed ? 'block' : 'none';\n",
              "    })();\n",
              "  </script>\n",
              "</div>\n",
              "    </div>\n",
              "  </div>\n"
            ]
          },
          "metadata": {},
          "execution_count": 53
        }
      ],
      "source": [
        "x_const.head(2) ### shoing first two records\n",
        "\n"
      ]
    },
    {
      "cell_type": "code",
      "execution_count": null,
      "id": "6d80ccd8",
      "metadata": {
        "id": "6d80ccd8"
      },
      "outputs": [],
      "source": [
        "lm=sn.OLS(y_train,x_const).fit() ## creating model object"
      ]
    },
    {
      "cell_type": "code",
      "execution_count": null,
      "id": "3696051e",
      "metadata": {
        "colab": {
          "base_uri": "https://localhost:8080/",
          "height": 625
        },
        "id": "3696051e",
        "outputId": "5b88c90b-7a26-4de6-f3ae-6dfd484b0ba7"
      },
      "outputs": [
        {
          "output_type": "execute_result",
          "data": {
            "text/plain": [
              "<class 'statsmodels.iolib.summary.Summary'>\n",
              "\"\"\"\n",
              "                            OLS Regression Results                            \n",
              "==============================================================================\n",
              "Dep. Variable:                    CTC   R-squared:                       0.534\n",
              "Model:                            OLS   Adj. R-squared:                  0.531\n",
              "Method:                 Least Squares   F-statistic:                     180.4\n",
              "Date:                Wed, 06 Sep 2023   Prob (F-statistic):          7.12e-203\n",
              "Time:                        12:37:17   Log-Likelihood:                -13327.\n",
              "No. Observations:                1271   AIC:                         2.667e+04\n",
              "Df Residuals:                    1262   BIC:                         2.672e+04\n",
              "Df Model:                           8                                         \n",
              "Covariance Type:            nonrobust                                         \n",
              "=======================================================================================\n",
              "                          coef    std err          t      P>|t|      [0.025      0.975]\n",
              "---------------------------------------------------------------------------------------\n",
              "const                 3.56e+04   2434.719     14.621      0.000    3.08e+04    4.04e+04\n",
              "Previous CTC            0.4296      0.037     11.632      0.000       0.357       0.502\n",
              "Previous job change    91.6241    218.632      0.419      0.675    -337.299     520.547\n",
              "Graduation Marks       10.1810     16.392      0.621      0.535     -21.978      42.340\n",
              "EXP (Month)           257.8025     17.473     14.754      0.000     223.523     292.082\n",
              "College_Tier1         800.7768    583.187      1.373      0.170    -343.347    1944.900\n",
              "College_Tier2         939.0438    612.572      1.533      0.126    -262.727    2140.815\n",
              "City_metro            914.5279    489.631      1.868      0.062     -46.053    1875.109\n",
              "Role_Manager         1.925e+04    602.340     31.963      0.000    1.81e+04    2.04e+04\n",
              "==============================================================================\n",
              "Omnibus:                       42.715   Durbin-Watson:                   2.058\n",
              "Prob(Omnibus):                  0.000   Jarque-Bera (JB):               47.545\n",
              "Skew:                           0.424   Prob(JB):                     4.74e-11\n",
              "Kurtosis:                       3.424   Cond. No.                     5.58e+05\n",
              "==============================================================================\n",
              "\n",
              "Notes:\n",
              "[1] Standard Errors assume that the covariance matrix of the errors is correctly specified.\n",
              "[2] The condition number is large, 5.58e+05. This might indicate that there are\n",
              "strong multicollinearity or other numerical problems.\n",
              "\"\"\""
            ],
            "text/html": [
              "<table class=\"simpletable\">\n",
              "<caption>OLS Regression Results</caption>\n",
              "<tr>\n",
              "  <th>Dep. Variable:</th>           <td>CTC</td>       <th>  R-squared:         </th> <td>   0.534</td> \n",
              "</tr>\n",
              "<tr>\n",
              "  <th>Model:</th>                   <td>OLS</td>       <th>  Adj. R-squared:    </th> <td>   0.531</td> \n",
              "</tr>\n",
              "<tr>\n",
              "  <th>Method:</th>             <td>Least Squares</td>  <th>  F-statistic:       </th> <td>   180.4</td> \n",
              "</tr>\n",
              "<tr>\n",
              "  <th>Date:</th>             <td>Wed, 06 Sep 2023</td> <th>  Prob (F-statistic):</th> <td>7.12e-203</td>\n",
              "</tr>\n",
              "<tr>\n",
              "  <th>Time:</th>                 <td>12:37:17</td>     <th>  Log-Likelihood:    </th> <td> -13327.</td> \n",
              "</tr>\n",
              "<tr>\n",
              "  <th>No. Observations:</th>      <td>  1271</td>      <th>  AIC:               </th> <td>2.667e+04</td>\n",
              "</tr>\n",
              "<tr>\n",
              "  <th>Df Residuals:</th>          <td>  1262</td>      <th>  BIC:               </th> <td>2.672e+04</td>\n",
              "</tr>\n",
              "<tr>\n",
              "  <th>Df Model:</th>              <td>     8</td>      <th>                     </th>     <td> </td>    \n",
              "</tr>\n",
              "<tr>\n",
              "  <th>Covariance Type:</th>      <td>nonrobust</td>    <th>                     </th>     <td> </td>    \n",
              "</tr>\n",
              "</table>\n",
              "<table class=\"simpletable\">\n",
              "<tr>\n",
              "           <td></td>              <th>coef</th>     <th>std err</th>      <th>t</th>      <th>P>|t|</th>  <th>[0.025</th>    <th>0.975]</th>  \n",
              "</tr>\n",
              "<tr>\n",
              "  <th>const</th>               <td>  3.56e+04</td> <td> 2434.719</td> <td>   14.621</td> <td> 0.000</td> <td> 3.08e+04</td> <td> 4.04e+04</td>\n",
              "</tr>\n",
              "<tr>\n",
              "  <th>Previous CTC</th>        <td>    0.4296</td> <td>    0.037</td> <td>   11.632</td> <td> 0.000</td> <td>    0.357</td> <td>    0.502</td>\n",
              "</tr>\n",
              "<tr>\n",
              "  <th>Previous job change</th> <td>   91.6241</td> <td>  218.632</td> <td>    0.419</td> <td> 0.675</td> <td> -337.299</td> <td>  520.547</td>\n",
              "</tr>\n",
              "<tr>\n",
              "  <th>Graduation Marks</th>    <td>   10.1810</td> <td>   16.392</td> <td>    0.621</td> <td> 0.535</td> <td>  -21.978</td> <td>   42.340</td>\n",
              "</tr>\n",
              "<tr>\n",
              "  <th>EXP (Month)</th>         <td>  257.8025</td> <td>   17.473</td> <td>   14.754</td> <td> 0.000</td> <td>  223.523</td> <td>  292.082</td>\n",
              "</tr>\n",
              "<tr>\n",
              "  <th>College_Tier1</th>       <td>  800.7768</td> <td>  583.187</td> <td>    1.373</td> <td> 0.170</td> <td> -343.347</td> <td> 1944.900</td>\n",
              "</tr>\n",
              "<tr>\n",
              "  <th>College_Tier2</th>       <td>  939.0438</td> <td>  612.572</td> <td>    1.533</td> <td> 0.126</td> <td> -262.727</td> <td> 2140.815</td>\n",
              "</tr>\n",
              "<tr>\n",
              "  <th>City_metro</th>          <td>  914.5279</td> <td>  489.631</td> <td>    1.868</td> <td> 0.062</td> <td>  -46.053</td> <td> 1875.109</td>\n",
              "</tr>\n",
              "<tr>\n",
              "  <th>Role_Manager</th>        <td> 1.925e+04</td> <td>  602.340</td> <td>   31.963</td> <td> 0.000</td> <td> 1.81e+04</td> <td> 2.04e+04</td>\n",
              "</tr>\n",
              "</table>\n",
              "<table class=\"simpletable\">\n",
              "<tr>\n",
              "  <th>Omnibus:</th>       <td>42.715</td> <th>  Durbin-Watson:     </th> <td>   2.058</td>\n",
              "</tr>\n",
              "<tr>\n",
              "  <th>Prob(Omnibus):</th> <td> 0.000</td> <th>  Jarque-Bera (JB):  </th> <td>  47.545</td>\n",
              "</tr>\n",
              "<tr>\n",
              "  <th>Skew:</th>          <td> 0.424</td> <th>  Prob(JB):          </th> <td>4.74e-11</td>\n",
              "</tr>\n",
              "<tr>\n",
              "  <th>Kurtosis:</th>      <td> 3.424</td> <th>  Cond. No.          </th> <td>5.58e+05</td>\n",
              "</tr>\n",
              "</table><br/><br/>Notes:<br/>[1] Standard Errors assume that the covariance matrix of the errors is correctly specified.<br/>[2] The condition number is large, 5.58e+05. This might indicate that there are<br/>strong multicollinearity or other numerical problems."
            ],
            "text/latex": "\\begin{center}\n\\begin{tabular}{lclc}\n\\toprule\n\\textbf{Dep. Variable:}      &       CTC        & \\textbf{  R-squared:         } &     0.534   \\\\\n\\textbf{Model:}              &       OLS        & \\textbf{  Adj. R-squared:    } &     0.531   \\\\\n\\textbf{Method:}             &  Least Squares   & \\textbf{  F-statistic:       } &     180.4   \\\\\n\\textbf{Date:}               & Wed, 06 Sep 2023 & \\textbf{  Prob (F-statistic):} & 7.12e-203   \\\\\n\\textbf{Time:}               &     12:37:17     & \\textbf{  Log-Likelihood:    } &   -13327.   \\\\\n\\textbf{No. Observations:}   &        1271      & \\textbf{  AIC:               } & 2.667e+04   \\\\\n\\textbf{Df Residuals:}       &        1262      & \\textbf{  BIC:               } & 2.672e+04   \\\\\n\\textbf{Df Model:}           &           8      & \\textbf{                     } &             \\\\\n\\textbf{Covariance Type:}    &    nonrobust     & \\textbf{                     } &             \\\\\n\\bottomrule\n\\end{tabular}\n\\begin{tabular}{lcccccc}\n                             & \\textbf{coef} & \\textbf{std err} & \\textbf{t} & \\textbf{P$> |$t$|$} & \\textbf{[0.025} & \\textbf{0.975]}  \\\\\n\\midrule\n\\textbf{const}               &     3.56e+04  &     2434.719     &    14.621  &         0.000        &     3.08e+04    &     4.04e+04     \\\\\n\\textbf{Previous CTC}        &       0.4296  &        0.037     &    11.632  &         0.000        &        0.357    &        0.502     \\\\\n\\textbf{Previous job change} &      91.6241  &      218.632     &     0.419  &         0.675        &     -337.299    &      520.547     \\\\\n\\textbf{Graduation Marks}    &      10.1810  &       16.392     &     0.621  &         0.535        &      -21.978    &       42.340     \\\\\n\\textbf{EXP (Month)}         &     257.8025  &       17.473     &    14.754  &         0.000        &      223.523    &      292.082     \\\\\n\\textbf{College\\_Tier1}      &     800.7768  &      583.187     &     1.373  &         0.170        &     -343.347    &     1944.900     \\\\\n\\textbf{College\\_Tier2}      &     939.0438  &      612.572     &     1.533  &         0.126        &     -262.727    &     2140.815     \\\\\n\\textbf{City\\_metro}         &     914.5279  &      489.631     &     1.868  &         0.062        &      -46.053    &     1875.109     \\\\\n\\textbf{Role\\_Manager}       &    1.925e+04  &      602.340     &    31.963  &         0.000        &     1.81e+04    &     2.04e+04     \\\\\n\\bottomrule\n\\end{tabular}\n\\begin{tabular}{lclc}\n\\textbf{Omnibus:}       & 42.715 & \\textbf{  Durbin-Watson:     } &    2.058  \\\\\n\\textbf{Prob(Omnibus):} &  0.000 & \\textbf{  Jarque-Bera (JB):  } &   47.545  \\\\\n\\textbf{Skew:}          &  0.424 & \\textbf{  Prob(JB):          } & 4.74e-11  \\\\\n\\textbf{Kurtosis:}      &  3.424 & \\textbf{  Cond. No.          } & 5.58e+05  \\\\\n\\bottomrule\n\\end{tabular}\n%\\caption{OLS Regression Results}\n\\end{center}\n\nNotes: \\newline\n [1] Standard Errors assume that the covariance matrix of the errors is correctly specified. \\newline\n [2] The condition number is large, 5.58e+05. This might indicate that there are \\newline\n strong multicollinearity or other numerical problems."
          },
          "metadata": {},
          "execution_count": 55
        }
      ],
      "source": [
        "lm.summary() #### getting summary of linear_regression model"
      ]
    },
    {
      "cell_type": "code",
      "execution_count": null,
      "id": "65cfa2f8",
      "metadata": {
        "id": "65cfa2f8"
      },
      "outputs": [],
      "source": [
        "from sklearn.linear_model import LinearRegression ### importing linear regression object\n",
        "lm=LinearRegression()                  ### creating linear regression object"
      ]
    },
    {
      "cell_type": "code",
      "execution_count": null,
      "id": "56a78b21",
      "metadata": {
        "colab": {
          "base_uri": "https://localhost:8080/",
          "height": 74
        },
        "id": "56a78b21",
        "outputId": "b01947f9-0b98-42ef-d22d-130300638954"
      },
      "outputs": [
        {
          "output_type": "execute_result",
          "data": {
            "text/plain": [
              "LinearRegression()"
            ],
            "text/html": [
              "<style>#sk-container-id-1 {color: black;background-color: white;}#sk-container-id-1 pre{padding: 0;}#sk-container-id-1 div.sk-toggleable {background-color: white;}#sk-container-id-1 label.sk-toggleable__label {cursor: pointer;display: block;width: 100%;margin-bottom: 0;padding: 0.3em;box-sizing: border-box;text-align: center;}#sk-container-id-1 label.sk-toggleable__label-arrow:before {content: \"▸\";float: left;margin-right: 0.25em;color: #696969;}#sk-container-id-1 label.sk-toggleable__label-arrow:hover:before {color: black;}#sk-container-id-1 div.sk-estimator:hover label.sk-toggleable__label-arrow:before {color: black;}#sk-container-id-1 div.sk-toggleable__content {max-height: 0;max-width: 0;overflow: hidden;text-align: left;background-color: #f0f8ff;}#sk-container-id-1 div.sk-toggleable__content pre {margin: 0.2em;color: black;border-radius: 0.25em;background-color: #f0f8ff;}#sk-container-id-1 input.sk-toggleable__control:checked~div.sk-toggleable__content {max-height: 200px;max-width: 100%;overflow: auto;}#sk-container-id-1 input.sk-toggleable__control:checked~label.sk-toggleable__label-arrow:before {content: \"▾\";}#sk-container-id-1 div.sk-estimator input.sk-toggleable__control:checked~label.sk-toggleable__label {background-color: #d4ebff;}#sk-container-id-1 div.sk-label input.sk-toggleable__control:checked~label.sk-toggleable__label {background-color: #d4ebff;}#sk-container-id-1 input.sk-hidden--visually {border: 0;clip: rect(1px 1px 1px 1px);clip: rect(1px, 1px, 1px, 1px);height: 1px;margin: -1px;overflow: hidden;padding: 0;position: absolute;width: 1px;}#sk-container-id-1 div.sk-estimator {font-family: monospace;background-color: #f0f8ff;border: 1px dotted black;border-radius: 0.25em;box-sizing: border-box;margin-bottom: 0.5em;}#sk-container-id-1 div.sk-estimator:hover {background-color: #d4ebff;}#sk-container-id-1 div.sk-parallel-item::after {content: \"\";width: 100%;border-bottom: 1px solid gray;flex-grow: 1;}#sk-container-id-1 div.sk-label:hover label.sk-toggleable__label {background-color: #d4ebff;}#sk-container-id-1 div.sk-serial::before {content: \"\";position: absolute;border-left: 1px solid gray;box-sizing: border-box;top: 0;bottom: 0;left: 50%;z-index: 0;}#sk-container-id-1 div.sk-serial {display: flex;flex-direction: column;align-items: center;background-color: white;padding-right: 0.2em;padding-left: 0.2em;position: relative;}#sk-container-id-1 div.sk-item {position: relative;z-index: 1;}#sk-container-id-1 div.sk-parallel {display: flex;align-items: stretch;justify-content: center;background-color: white;position: relative;}#sk-container-id-1 div.sk-item::before, #sk-container-id-1 div.sk-parallel-item::before {content: \"\";position: absolute;border-left: 1px solid gray;box-sizing: border-box;top: 0;bottom: 0;left: 50%;z-index: -1;}#sk-container-id-1 div.sk-parallel-item {display: flex;flex-direction: column;z-index: 1;position: relative;background-color: white;}#sk-container-id-1 div.sk-parallel-item:first-child::after {align-self: flex-end;width: 50%;}#sk-container-id-1 div.sk-parallel-item:last-child::after {align-self: flex-start;width: 50%;}#sk-container-id-1 div.sk-parallel-item:only-child::after {width: 0;}#sk-container-id-1 div.sk-dashed-wrapped {border: 1px dashed gray;margin: 0 0.4em 0.5em 0.4em;box-sizing: border-box;padding-bottom: 0.4em;background-color: white;}#sk-container-id-1 div.sk-label label {font-family: monospace;font-weight: bold;display: inline-block;line-height: 1.2em;}#sk-container-id-1 div.sk-label-container {text-align: center;}#sk-container-id-1 div.sk-container {/* jupyter's `normalize.less` sets `[hidden] { display: none; }` but bootstrap.min.css set `[hidden] { display: none !important; }` so we also need the `!important` here to be able to override the default hidden behavior on the sphinx rendered scikit-learn.org. See: https://github.com/scikit-learn/scikit-learn/issues/21755 */display: inline-block !important;position: relative;}#sk-container-id-1 div.sk-text-repr-fallback {display: none;}</style><div id=\"sk-container-id-1\" class=\"sk-top-container\"><div class=\"sk-text-repr-fallback\"><pre>LinearRegression()</pre><b>In a Jupyter environment, please rerun this cell to show the HTML representation or trust the notebook. <br />On GitHub, the HTML representation is unable to render, please try loading this page with nbviewer.org.</b></div><div class=\"sk-container\" hidden><div class=\"sk-item\"><div class=\"sk-estimator sk-toggleable\"><input class=\"sk-toggleable__control sk-hidden--visually\" id=\"sk-estimator-id-1\" type=\"checkbox\" checked><label for=\"sk-estimator-id-1\" class=\"sk-toggleable__label sk-toggleable__label-arrow\">LinearRegression</label><div class=\"sk-toggleable__content\"><pre>LinearRegression()</pre></div></div></div></div></div>"
            ]
          },
          "metadata": {},
          "execution_count": 57
        }
      ],
      "source": [
        "### fitting x_train and y_train on linear regression data\n",
        "lm.fit(x_train,y_train)"
      ]
    },
    {
      "cell_type": "code",
      "execution_count": null,
      "id": "2d365ad0",
      "metadata": {
        "colab": {
          "base_uri": "https://localhost:8080/"
        },
        "id": "2d365ad0",
        "outputId": "0bb8b44d-3cc7-4c82-d25b-8be9f18defd7"
      },
      "outputs": [
        {
          "output_type": "stream",
          "name": "stdout",
          "text": [
            "35598.39462827076 [4.29560583e-01 9.16241174e+01 1.01809891e+01 2.57802465e+02\n",
            " 8.00776831e+02 9.39043793e+02 9.14527889e+02 1.92527381e+04]\n"
          ]
        }
      ],
      "source": [
        "print(lm.intercept_, lm.coef_) ### finding intercept and coefficient of linear regreesion model"
      ]
    },
    {
      "cell_type": "code",
      "execution_count": null,
      "id": "259f20d6",
      "metadata": {
        "id": "259f20d6"
      },
      "outputs": [],
      "source": [
        "from sklearn.metrics import r2_score, mean_squared_error ### importing r2_score from sklearn"
      ]
    },
    {
      "cell_type": "code",
      "execution_count": null,
      "id": "4f5f06cd",
      "metadata": {
        "id": "4f5f06cd"
      },
      "outputs": [],
      "source": [
        "###predictin x and y variables\n",
        "y_test_a= lm.predict(x_test)\n",
        "y_train_a= lm.predict(x_train)"
      ]
    },
    {
      "cell_type": "code",
      "execution_count": null,
      "id": "f1f6758f",
      "metadata": {
        "colab": {
          "base_uri": "https://localhost:8080/"
        },
        "id": "f1f6758f",
        "outputId": "f076bdf0-1f4d-404f-faae-1f9f74a71009"
      },
      "outputs": [
        {
          "output_type": "execute_result",
          "data": {
            "text/plain": [
              "0.5366674761765405"
            ]
          },
          "metadata": {},
          "execution_count": 61
        }
      ],
      "source": [
        "r2_score(y_test, y_test_a) ###R2 of test"
      ]
    },
    {
      "cell_type": "code",
      "execution_count": null,
      "id": "b9f0c7c4",
      "metadata": {
        "colab": {
          "base_uri": "https://localhost:8080/"
        },
        "id": "b9f0c7c4",
        "outputId": "fcbc45ce-f2b4-48db-976c-2fbf9201d6bf"
      },
      "outputs": [
        {
          "output_type": "execute_result",
          "data": {
            "text/plain": [
              "0.5335038205027318"
            ]
          },
          "metadata": {},
          "execution_count": 62
        }
      ],
      "source": [
        "r2_score(y_train, y_train_a) ####R2 of train"
      ]
    },
    {
      "cell_type": "code",
      "source": [
        "### Finding MSE value for linear regression\n",
        "mean_squared_error(y_test, y_test_a, squared=False)"
      ],
      "metadata": {
        "colab": {
          "base_uri": "https://localhost:8080/"
        },
        "id": "sbKbGhG5XE8P",
        "outputId": "5e94a787-849b-46e2-8494-f9a016faf12c"
      },
      "id": "sbKbGhG5XE8P",
      "execution_count": null,
      "outputs": [
        {
          "output_type": "execute_result",
          "data": {
            "text/plain": [
              "8291.641811462556"
            ]
          },
          "metadata": {},
          "execution_count": 63
        }
      ]
    },
    {
      "cell_type": "markdown",
      "source": [
        "###Key values of linear Regression Model:\n",
        "\n",
        "1.   r2_score for test data is 0.537\n",
        "2.   r2_score for train data is 0.533\n",
        "3.   Root mean squared error is 8291.64\n",
        "\n"
      ],
      "metadata": {
        "id": "HqE4oRJyX4X0"
      },
      "id": "HqE4oRJyX4X0"
    },
    {
      "cell_type": "markdown",
      "id": "a788ff79",
      "metadata": {
        "id": "a788ff79"
      },
      "source": [
        "#### Simple_Tree_Regression with only one pruining method"
      ]
    },
    {
      "cell_type": "code",
      "execution_count": null,
      "id": "0a1699d0",
      "metadata": {
        "id": "0a1699d0"
      },
      "outputs": [],
      "source": [
        "from sklearn import tree   #### importing tree from sklearn"
      ]
    },
    {
      "cell_type": "code",
      "execution_count": null,
      "id": "6492f385",
      "metadata": {
        "id": "6492f385"
      },
      "outputs": [],
      "source": [
        "regtree= tree.DecisionTreeRegressor(max_depth=4)  #### creating decisiontreeregressor object"
      ]
    },
    {
      "cell_type": "code",
      "execution_count": null,
      "id": "d38280be",
      "metadata": {
        "colab": {
          "base_uri": "https://localhost:8080/",
          "height": 74
        },
        "id": "d38280be",
        "outputId": "acffb30d-ef26-4a45-f790-9232284abc9c"
      },
      "outputs": [
        {
          "output_type": "execute_result",
          "data": {
            "text/plain": [
              "DecisionTreeRegressor(max_depth=4)"
            ],
            "text/html": [
              "<style>#sk-container-id-2 {color: black;background-color: white;}#sk-container-id-2 pre{padding: 0;}#sk-container-id-2 div.sk-toggleable {background-color: white;}#sk-container-id-2 label.sk-toggleable__label {cursor: pointer;display: block;width: 100%;margin-bottom: 0;padding: 0.3em;box-sizing: border-box;text-align: center;}#sk-container-id-2 label.sk-toggleable__label-arrow:before {content: \"▸\";float: left;margin-right: 0.25em;color: #696969;}#sk-container-id-2 label.sk-toggleable__label-arrow:hover:before {color: black;}#sk-container-id-2 div.sk-estimator:hover label.sk-toggleable__label-arrow:before {color: black;}#sk-container-id-2 div.sk-toggleable__content {max-height: 0;max-width: 0;overflow: hidden;text-align: left;background-color: #f0f8ff;}#sk-container-id-2 div.sk-toggleable__content pre {margin: 0.2em;color: black;border-radius: 0.25em;background-color: #f0f8ff;}#sk-container-id-2 input.sk-toggleable__control:checked~div.sk-toggleable__content {max-height: 200px;max-width: 100%;overflow: auto;}#sk-container-id-2 input.sk-toggleable__control:checked~label.sk-toggleable__label-arrow:before {content: \"▾\";}#sk-container-id-2 div.sk-estimator input.sk-toggleable__control:checked~label.sk-toggleable__label {background-color: #d4ebff;}#sk-container-id-2 div.sk-label input.sk-toggleable__control:checked~label.sk-toggleable__label {background-color: #d4ebff;}#sk-container-id-2 input.sk-hidden--visually {border: 0;clip: rect(1px 1px 1px 1px);clip: rect(1px, 1px, 1px, 1px);height: 1px;margin: -1px;overflow: hidden;padding: 0;position: absolute;width: 1px;}#sk-container-id-2 div.sk-estimator {font-family: monospace;background-color: #f0f8ff;border: 1px dotted black;border-radius: 0.25em;box-sizing: border-box;margin-bottom: 0.5em;}#sk-container-id-2 div.sk-estimator:hover {background-color: #d4ebff;}#sk-container-id-2 div.sk-parallel-item::after {content: \"\";width: 100%;border-bottom: 1px solid gray;flex-grow: 1;}#sk-container-id-2 div.sk-label:hover label.sk-toggleable__label {background-color: #d4ebff;}#sk-container-id-2 div.sk-serial::before {content: \"\";position: absolute;border-left: 1px solid gray;box-sizing: border-box;top: 0;bottom: 0;left: 50%;z-index: 0;}#sk-container-id-2 div.sk-serial {display: flex;flex-direction: column;align-items: center;background-color: white;padding-right: 0.2em;padding-left: 0.2em;position: relative;}#sk-container-id-2 div.sk-item {position: relative;z-index: 1;}#sk-container-id-2 div.sk-parallel {display: flex;align-items: stretch;justify-content: center;background-color: white;position: relative;}#sk-container-id-2 div.sk-item::before, #sk-container-id-2 div.sk-parallel-item::before {content: \"\";position: absolute;border-left: 1px solid gray;box-sizing: border-box;top: 0;bottom: 0;left: 50%;z-index: -1;}#sk-container-id-2 div.sk-parallel-item {display: flex;flex-direction: column;z-index: 1;position: relative;background-color: white;}#sk-container-id-2 div.sk-parallel-item:first-child::after {align-self: flex-end;width: 50%;}#sk-container-id-2 div.sk-parallel-item:last-child::after {align-self: flex-start;width: 50%;}#sk-container-id-2 div.sk-parallel-item:only-child::after {width: 0;}#sk-container-id-2 div.sk-dashed-wrapped {border: 1px dashed gray;margin: 0 0.4em 0.5em 0.4em;box-sizing: border-box;padding-bottom: 0.4em;background-color: white;}#sk-container-id-2 div.sk-label label {font-family: monospace;font-weight: bold;display: inline-block;line-height: 1.2em;}#sk-container-id-2 div.sk-label-container {text-align: center;}#sk-container-id-2 div.sk-container {/* jupyter's `normalize.less` sets `[hidden] { display: none; }` but bootstrap.min.css set `[hidden] { display: none !important; }` so we also need the `!important` here to be able to override the default hidden behavior on the sphinx rendered scikit-learn.org. See: https://github.com/scikit-learn/scikit-learn/issues/21755 */display: inline-block !important;position: relative;}#sk-container-id-2 div.sk-text-repr-fallback {display: none;}</style><div id=\"sk-container-id-2\" class=\"sk-top-container\"><div class=\"sk-text-repr-fallback\"><pre>DecisionTreeRegressor(max_depth=4)</pre><b>In a Jupyter environment, please rerun this cell to show the HTML representation or trust the notebook. <br />On GitHub, the HTML representation is unable to render, please try loading this page with nbviewer.org.</b></div><div class=\"sk-container\" hidden><div class=\"sk-item\"><div class=\"sk-estimator sk-toggleable\"><input class=\"sk-toggleable__control sk-hidden--visually\" id=\"sk-estimator-id-2\" type=\"checkbox\" checked><label for=\"sk-estimator-id-2\" class=\"sk-toggleable__label sk-toggleable__label-arrow\">DecisionTreeRegressor</label><div class=\"sk-toggleable__content\"><pre>DecisionTreeRegressor(max_depth=4)</pre></div></div></div></div></div>"
            ]
          },
          "metadata": {},
          "execution_count": 66
        }
      ],
      "source": [
        "regtree.fit(x_train, y_train) ### fitting x_train and y_train on regressiontree"
      ]
    },
    {
      "cell_type": "code",
      "execution_count": null,
      "id": "ecb55f91",
      "metadata": {
        "id": "ecb55f91"
      },
      "outputs": [],
      "source": [
        "y_test_pred= regtree.predict(x_test)  ### predicting y value from decision tree regression model"
      ]
    },
    {
      "cell_type": "code",
      "source": [
        "y_train_pred= regtree.predict(x_train)  ### predicting y value from decision tree regression model"
      ],
      "metadata": {
        "id": "P-3okC9pkz4f"
      },
      "id": "P-3okC9pkz4f",
      "execution_count": null,
      "outputs": []
    },
    {
      "cell_type": "code",
      "execution_count": null,
      "id": "344c23f6",
      "metadata": {
        "id": "344c23f6"
      },
      "outputs": [],
      "source": [
        "from sklearn.metrics import mean_squared_error, r2_score #### importing mean_squared_error from sklearn"
      ]
    },
    {
      "cell_type": "code",
      "execution_count": null,
      "id": "51a8c0aa",
      "metadata": {
        "colab": {
          "base_uri": "https://localhost:8080/"
        },
        "id": "51a8c0aa",
        "outputId": "d5eaf1a1-2083-4eff-a513-420c9b2b9938"
      },
      "outputs": [
        {
          "output_type": "execute_result",
          "data": {
            "text/plain": [
              "0.6032204390654169"
            ]
          },
          "metadata": {},
          "execution_count": 70
        }
      ],
      "source": [
        "r2_score(y_test, y_test_pred) ### gertting value of r2 from simple decision tree model with depth 4"
      ]
    },
    {
      "cell_type": "code",
      "source": [
        "###Getting r2 value of test data from simple decision tree model with depth 4\n",
        "r2_score(y_train, y_train_pred)"
      ],
      "metadata": {
        "colab": {
          "base_uri": "https://localhost:8080/"
        },
        "id": "g1wd_p7gjptR",
        "outputId": "c2303449-84c6-4ac4-db62-002d0c0cf843"
      },
      "id": "g1wd_p7gjptR",
      "execution_count": null,
      "outputs": [
        {
          "output_type": "execute_result",
          "data": {
            "text/plain": [
              "0.6397831325660944"
            ]
          },
          "metadata": {},
          "execution_count": 71
        }
      ]
    },
    {
      "cell_type": "code",
      "source": [
        "### Getting MSE value of test data from simple decision tree model with depth 4\n",
        "mean_squared_error(y_test,y_test_pred, squared=False)"
      ],
      "metadata": {
        "colab": {
          "base_uri": "https://localhost:8080/"
        },
        "id": "P8suhah8lNW0",
        "outputId": "ce5cdb2f-e69c-4916-99c6-15d4a6e3d62d"
      },
      "id": "P8suhah8lNW0",
      "execution_count": null,
      "outputs": [
        {
          "output_type": "execute_result",
          "data": {
            "text/plain": [
              "7673.06338368838"
            ]
          },
          "metadata": {},
          "execution_count": 72
        }
      ]
    },
    {
      "cell_type": "markdown",
      "source": [
        "###Key_values of simple tree Regression\n",
        "1.   r2_score test is 0.603\n",
        "2.   r2_score train is 0.6398\n",
        "3.   mean_squared_error test is 7673.063\n"
      ],
      "metadata": {
        "id": "KBShN3kRltkw"
      },
      "id": "KBShN3kRltkw"
    },
    {
      "cell_type": "markdown",
      "id": "1f809401",
      "metadata": {
        "id": "1f809401"
      },
      "source": [
        "Bagging_Tree Method"
      ]
    },
    {
      "cell_type": "code",
      "execution_count": null,
      "id": "8d791f02",
      "metadata": {
        "id": "8d791f02"
      },
      "outputs": [],
      "source": [
        "from sklearn import tree              #### importing tree from sklearn\n",
        "regtree= tree.DecisionTreeRegressor() #### creating object of decisiontreeregressor"
      ]
    },
    {
      "cell_type": "code",
      "execution_count": null,
      "id": "bd1fed65",
      "metadata": {
        "id": "bd1fed65"
      },
      "outputs": [],
      "source": [
        "from sklearn.ensemble import BaggingRegressor  #### importing Baggingregressor from sklearn"
      ]
    },
    {
      "cell_type": "code",
      "execution_count": null,
      "id": "78c211a7",
      "metadata": {
        "id": "78c211a7"
      },
      "outputs": [],
      "source": [
        "bag_regress=BaggingRegressor(base_estimator=regtree, n_estimators=1000, bootstrap=True, n_jobs=-1, random_state=42) #### creating object bagregressor"
      ]
    },
    {
      "cell_type": "code",
      "execution_count": null,
      "id": "0ccb05bd",
      "metadata": {
        "colab": {
          "base_uri": "https://localhost:8080/",
          "height": 151
        },
        "id": "0ccb05bd",
        "outputId": "09dd4a2d-1fc6-4210-8d05-66424c9a9dc9"
      },
      "outputs": [
        {
          "output_type": "stream",
          "name": "stderr",
          "text": [
            "/usr/local/lib/python3.10/dist-packages/sklearn/ensemble/_base.py:166: FutureWarning: `base_estimator` was renamed to `estimator` in version 1.2 and will be removed in 1.4.\n",
            "  warnings.warn(\n"
          ]
        },
        {
          "output_type": "execute_result",
          "data": {
            "text/plain": [
              "BaggingRegressor(base_estimator=DecisionTreeRegressor(), n_estimators=1000,\n",
              "                 n_jobs=-1, random_state=42)"
            ],
            "text/html": [
              "<style>#sk-container-id-3 {color: black;background-color: white;}#sk-container-id-3 pre{padding: 0;}#sk-container-id-3 div.sk-toggleable {background-color: white;}#sk-container-id-3 label.sk-toggleable__label {cursor: pointer;display: block;width: 100%;margin-bottom: 0;padding: 0.3em;box-sizing: border-box;text-align: center;}#sk-container-id-3 label.sk-toggleable__label-arrow:before {content: \"▸\";float: left;margin-right: 0.25em;color: #696969;}#sk-container-id-3 label.sk-toggleable__label-arrow:hover:before {color: black;}#sk-container-id-3 div.sk-estimator:hover label.sk-toggleable__label-arrow:before {color: black;}#sk-container-id-3 div.sk-toggleable__content {max-height: 0;max-width: 0;overflow: hidden;text-align: left;background-color: #f0f8ff;}#sk-container-id-3 div.sk-toggleable__content pre {margin: 0.2em;color: black;border-radius: 0.25em;background-color: #f0f8ff;}#sk-container-id-3 input.sk-toggleable__control:checked~div.sk-toggleable__content {max-height: 200px;max-width: 100%;overflow: auto;}#sk-container-id-3 input.sk-toggleable__control:checked~label.sk-toggleable__label-arrow:before {content: \"▾\";}#sk-container-id-3 div.sk-estimator input.sk-toggleable__control:checked~label.sk-toggleable__label {background-color: #d4ebff;}#sk-container-id-3 div.sk-label input.sk-toggleable__control:checked~label.sk-toggleable__label {background-color: #d4ebff;}#sk-container-id-3 input.sk-hidden--visually {border: 0;clip: rect(1px 1px 1px 1px);clip: rect(1px, 1px, 1px, 1px);height: 1px;margin: -1px;overflow: hidden;padding: 0;position: absolute;width: 1px;}#sk-container-id-3 div.sk-estimator {font-family: monospace;background-color: #f0f8ff;border: 1px dotted black;border-radius: 0.25em;box-sizing: border-box;margin-bottom: 0.5em;}#sk-container-id-3 div.sk-estimator:hover {background-color: #d4ebff;}#sk-container-id-3 div.sk-parallel-item::after {content: \"\";width: 100%;border-bottom: 1px solid gray;flex-grow: 1;}#sk-container-id-3 div.sk-label:hover label.sk-toggleable__label {background-color: #d4ebff;}#sk-container-id-3 div.sk-serial::before {content: \"\";position: absolute;border-left: 1px solid gray;box-sizing: border-box;top: 0;bottom: 0;left: 50%;z-index: 0;}#sk-container-id-3 div.sk-serial {display: flex;flex-direction: column;align-items: center;background-color: white;padding-right: 0.2em;padding-left: 0.2em;position: relative;}#sk-container-id-3 div.sk-item {position: relative;z-index: 1;}#sk-container-id-3 div.sk-parallel {display: flex;align-items: stretch;justify-content: center;background-color: white;position: relative;}#sk-container-id-3 div.sk-item::before, #sk-container-id-3 div.sk-parallel-item::before {content: \"\";position: absolute;border-left: 1px solid gray;box-sizing: border-box;top: 0;bottom: 0;left: 50%;z-index: -1;}#sk-container-id-3 div.sk-parallel-item {display: flex;flex-direction: column;z-index: 1;position: relative;background-color: white;}#sk-container-id-3 div.sk-parallel-item:first-child::after {align-self: flex-end;width: 50%;}#sk-container-id-3 div.sk-parallel-item:last-child::after {align-self: flex-start;width: 50%;}#sk-container-id-3 div.sk-parallel-item:only-child::after {width: 0;}#sk-container-id-3 div.sk-dashed-wrapped {border: 1px dashed gray;margin: 0 0.4em 0.5em 0.4em;box-sizing: border-box;padding-bottom: 0.4em;background-color: white;}#sk-container-id-3 div.sk-label label {font-family: monospace;font-weight: bold;display: inline-block;line-height: 1.2em;}#sk-container-id-3 div.sk-label-container {text-align: center;}#sk-container-id-3 div.sk-container {/* jupyter's `normalize.less` sets `[hidden] { display: none; }` but bootstrap.min.css set `[hidden] { display: none !important; }` so we also need the `!important` here to be able to override the default hidden behavior on the sphinx rendered scikit-learn.org. See: https://github.com/scikit-learn/scikit-learn/issues/21755 */display: inline-block !important;position: relative;}#sk-container-id-3 div.sk-text-repr-fallback {display: none;}</style><div id=\"sk-container-id-3\" class=\"sk-top-container\"><div class=\"sk-text-repr-fallback\"><pre>BaggingRegressor(base_estimator=DecisionTreeRegressor(), n_estimators=1000,\n",
              "                 n_jobs=-1, random_state=42)</pre><b>In a Jupyter environment, please rerun this cell to show the HTML representation or trust the notebook. <br />On GitHub, the HTML representation is unable to render, please try loading this page with nbviewer.org.</b></div><div class=\"sk-container\" hidden><div class=\"sk-item sk-dashed-wrapped\"><div class=\"sk-label-container\"><div class=\"sk-label sk-toggleable\"><input class=\"sk-toggleable__control sk-hidden--visually\" id=\"sk-estimator-id-3\" type=\"checkbox\" ><label for=\"sk-estimator-id-3\" class=\"sk-toggleable__label sk-toggleable__label-arrow\">BaggingRegressor</label><div class=\"sk-toggleable__content\"><pre>BaggingRegressor(base_estimator=DecisionTreeRegressor(), n_estimators=1000,\n",
              "                 n_jobs=-1, random_state=42)</pre></div></div></div><div class=\"sk-parallel\"><div class=\"sk-parallel-item\"><div class=\"sk-item\"><div class=\"sk-label-container\"><div class=\"sk-label sk-toggleable\"><input class=\"sk-toggleable__control sk-hidden--visually\" id=\"sk-estimator-id-4\" type=\"checkbox\" ><label for=\"sk-estimator-id-4\" class=\"sk-toggleable__label sk-toggleable__label-arrow\">base_estimator: DecisionTreeRegressor</label><div class=\"sk-toggleable__content\"><pre>DecisionTreeRegressor()</pre></div></div></div><div class=\"sk-serial\"><div class=\"sk-item\"><div class=\"sk-estimator sk-toggleable\"><input class=\"sk-toggleable__control sk-hidden--visually\" id=\"sk-estimator-id-5\" type=\"checkbox\" ><label for=\"sk-estimator-id-5\" class=\"sk-toggleable__label sk-toggleable__label-arrow\">DecisionTreeRegressor</label><div class=\"sk-toggleable__content\"><pre>DecisionTreeRegressor()</pre></div></div></div></div></div></div></div></div></div></div>"
            ]
          },
          "metadata": {},
          "execution_count": 76
        }
      ],
      "source": [
        "bag_regress.fit(x_train, y_train) ### fitting x_train and y_train on bagregressor"
      ]
    },
    {
      "cell_type": "code",
      "execution_count": null,
      "id": "d075512e",
      "metadata": {
        "id": "d075512e"
      },
      "outputs": [],
      "source": [
        "from sklearn.metrics import mean_squared_error, r2_score ### importing mean_squared_eroor from sklearn"
      ]
    },
    {
      "cell_type": "code",
      "execution_count": null,
      "id": "92187f11",
      "metadata": {
        "id": "92187f11"
      },
      "outputs": [],
      "source": [
        "y_test_pred= bag_regress.predict(x_test) ### predicting y value from bagregresoor model"
      ]
    },
    {
      "cell_type": "code",
      "source": [
        "y_train_pred= bag_regress.predict(x_train) ### predicting y value from bagregresoor model"
      ],
      "metadata": {
        "id": "Eh7EOF2gmsz3"
      },
      "id": "Eh7EOF2gmsz3",
      "execution_count": null,
      "outputs": []
    },
    {
      "cell_type": "code",
      "execution_count": null,
      "id": "15bca81b",
      "metadata": {
        "colab": {
          "base_uri": "https://localhost:8080/"
        },
        "id": "15bca81b",
        "outputId": "0240b054-1132-462c-b665-14f57942647a"
      },
      "outputs": [
        {
          "output_type": "execute_result",
          "data": {
            "text/plain": [
              "0.66004692935523"
            ]
          },
          "metadata": {},
          "execution_count": 80
        }
      ],
      "source": [
        "r2_score(y_test, y_test_pred) #### getting value of r2_score"
      ]
    },
    {
      "cell_type": "code",
      "source": [
        "r2_score(y_train, y_train_pred) #### getting value of r2 of train data baggingtreeregressor model"
      ],
      "metadata": {
        "colab": {
          "base_uri": "https://localhost:8080/"
        },
        "id": "MQ7V_zxEm2s-",
        "outputId": "17d360d5-5945-47f9-a65b-444dc4a7ec1f"
      },
      "id": "MQ7V_zxEm2s-",
      "execution_count": null,
      "outputs": [
        {
          "output_type": "execute_result",
          "data": {
            "text/plain": [
              "0.9504094267566516"
            ]
          },
          "metadata": {},
          "execution_count": 81
        }
      ]
    },
    {
      "cell_type": "code",
      "source": [
        "##getting MSE value of test data baggingtreeregressor model\n",
        "mean_squared_error(y_test,y_test_pred, squared=False)"
      ],
      "metadata": {
        "colab": {
          "base_uri": "https://localhost:8080/"
        },
        "id": "M-PQr5F4nR91",
        "outputId": "aa291f49-e303-4584-d880-c9e3a914032a"
      },
      "id": "M-PQr5F4nR91",
      "execution_count": null,
      "outputs": [
        {
          "output_type": "execute_result",
          "data": {
            "text/plain": [
              "7102.375402941273"
            ]
          },
          "metadata": {},
          "execution_count": 82
        }
      ]
    },
    {
      "cell_type": "markdown",
      "source": [
        "###Key values of simple bagging Tree:\n",
        "1.   r2_score test is 0.6600\n",
        "2.   r2_score train is 0.950\n",
        "3.   mean_squared_error is 7102.375\n"
      ],
      "metadata": {
        "id": "AbgonXLcnvDR"
      },
      "id": "AbgonXLcnvDR"
    },
    {
      "cell_type": "markdown",
      "id": "f3446e01",
      "metadata": {
        "id": "f3446e01"
      },
      "source": [
        "#### Random_Forest"
      ]
    },
    {
      "cell_type": "code",
      "execution_count": null,
      "id": "dbaed9b1",
      "metadata": {
        "id": "dbaed9b1"
      },
      "outputs": [],
      "source": [
        "from sklearn.ensemble import RandomForestRegressor #### importing Randomforestregressor from sklearn\n",
        "\n"
      ]
    },
    {
      "cell_type": "code",
      "execution_count": null,
      "id": "052bc2ba",
      "metadata": {
        "id": "052bc2ba"
      },
      "outputs": [],
      "source": [
        "#### creating object of random forest regressor\n",
        "rf_reg= RandomForestRegressor(n_estimators=1000,n_jobs=-1, random_state=42)\n",
        "\n"
      ]
    },
    {
      "cell_type": "code",
      "execution_count": null,
      "id": "7720eee5",
      "metadata": {
        "colab": {
          "base_uri": "https://localhost:8080/",
          "height": 74
        },
        "id": "7720eee5",
        "outputId": "1e5ac154-6f31-4aca-9643-3b9d5ed0eb0f"
      },
      "outputs": [
        {
          "output_type": "execute_result",
          "data": {
            "text/plain": [
              "RandomForestRegressor(n_estimators=1000, n_jobs=-1, random_state=42)"
            ],
            "text/html": [
              "<style>#sk-container-id-4 {color: black;background-color: white;}#sk-container-id-4 pre{padding: 0;}#sk-container-id-4 div.sk-toggleable {background-color: white;}#sk-container-id-4 label.sk-toggleable__label {cursor: pointer;display: block;width: 100%;margin-bottom: 0;padding: 0.3em;box-sizing: border-box;text-align: center;}#sk-container-id-4 label.sk-toggleable__label-arrow:before {content: \"▸\";float: left;margin-right: 0.25em;color: #696969;}#sk-container-id-4 label.sk-toggleable__label-arrow:hover:before {color: black;}#sk-container-id-4 div.sk-estimator:hover label.sk-toggleable__label-arrow:before {color: black;}#sk-container-id-4 div.sk-toggleable__content {max-height: 0;max-width: 0;overflow: hidden;text-align: left;background-color: #f0f8ff;}#sk-container-id-4 div.sk-toggleable__content pre {margin: 0.2em;color: black;border-radius: 0.25em;background-color: #f0f8ff;}#sk-container-id-4 input.sk-toggleable__control:checked~div.sk-toggleable__content {max-height: 200px;max-width: 100%;overflow: auto;}#sk-container-id-4 input.sk-toggleable__control:checked~label.sk-toggleable__label-arrow:before {content: \"▾\";}#sk-container-id-4 div.sk-estimator input.sk-toggleable__control:checked~label.sk-toggleable__label {background-color: #d4ebff;}#sk-container-id-4 div.sk-label input.sk-toggleable__control:checked~label.sk-toggleable__label {background-color: #d4ebff;}#sk-container-id-4 input.sk-hidden--visually {border: 0;clip: rect(1px 1px 1px 1px);clip: rect(1px, 1px, 1px, 1px);height: 1px;margin: -1px;overflow: hidden;padding: 0;position: absolute;width: 1px;}#sk-container-id-4 div.sk-estimator {font-family: monospace;background-color: #f0f8ff;border: 1px dotted black;border-radius: 0.25em;box-sizing: border-box;margin-bottom: 0.5em;}#sk-container-id-4 div.sk-estimator:hover {background-color: #d4ebff;}#sk-container-id-4 div.sk-parallel-item::after {content: \"\";width: 100%;border-bottom: 1px solid gray;flex-grow: 1;}#sk-container-id-4 div.sk-label:hover label.sk-toggleable__label {background-color: #d4ebff;}#sk-container-id-4 div.sk-serial::before {content: \"\";position: absolute;border-left: 1px solid gray;box-sizing: border-box;top: 0;bottom: 0;left: 50%;z-index: 0;}#sk-container-id-4 div.sk-serial {display: flex;flex-direction: column;align-items: center;background-color: white;padding-right: 0.2em;padding-left: 0.2em;position: relative;}#sk-container-id-4 div.sk-item {position: relative;z-index: 1;}#sk-container-id-4 div.sk-parallel {display: flex;align-items: stretch;justify-content: center;background-color: white;position: relative;}#sk-container-id-4 div.sk-item::before, #sk-container-id-4 div.sk-parallel-item::before {content: \"\";position: absolute;border-left: 1px solid gray;box-sizing: border-box;top: 0;bottom: 0;left: 50%;z-index: -1;}#sk-container-id-4 div.sk-parallel-item {display: flex;flex-direction: column;z-index: 1;position: relative;background-color: white;}#sk-container-id-4 div.sk-parallel-item:first-child::after {align-self: flex-end;width: 50%;}#sk-container-id-4 div.sk-parallel-item:last-child::after {align-self: flex-start;width: 50%;}#sk-container-id-4 div.sk-parallel-item:only-child::after {width: 0;}#sk-container-id-4 div.sk-dashed-wrapped {border: 1px dashed gray;margin: 0 0.4em 0.5em 0.4em;box-sizing: border-box;padding-bottom: 0.4em;background-color: white;}#sk-container-id-4 div.sk-label label {font-family: monospace;font-weight: bold;display: inline-block;line-height: 1.2em;}#sk-container-id-4 div.sk-label-container {text-align: center;}#sk-container-id-4 div.sk-container {/* jupyter's `normalize.less` sets `[hidden] { display: none; }` but bootstrap.min.css set `[hidden] { display: none !important; }` so we also need the `!important` here to be able to override the default hidden behavior on the sphinx rendered scikit-learn.org. See: https://github.com/scikit-learn/scikit-learn/issues/21755 */display: inline-block !important;position: relative;}#sk-container-id-4 div.sk-text-repr-fallback {display: none;}</style><div id=\"sk-container-id-4\" class=\"sk-top-container\"><div class=\"sk-text-repr-fallback\"><pre>RandomForestRegressor(n_estimators=1000, n_jobs=-1, random_state=42)</pre><b>In a Jupyter environment, please rerun this cell to show the HTML representation or trust the notebook. <br />On GitHub, the HTML representation is unable to render, please try loading this page with nbviewer.org.</b></div><div class=\"sk-container\" hidden><div class=\"sk-item\"><div class=\"sk-estimator sk-toggleable\"><input class=\"sk-toggleable__control sk-hidden--visually\" id=\"sk-estimator-id-6\" type=\"checkbox\" checked><label for=\"sk-estimator-id-6\" class=\"sk-toggleable__label sk-toggleable__label-arrow\">RandomForestRegressor</label><div class=\"sk-toggleable__content\"><pre>RandomForestRegressor(n_estimators=1000, n_jobs=-1, random_state=42)</pre></div></div></div></div></div>"
            ]
          },
          "metadata": {},
          "execution_count": 85
        }
      ],
      "source": [
        "rf_reg.fit(x_train, y_train)       ### fitting x_train and y_train on randomforestregressor\n",
        "\n"
      ]
    },
    {
      "cell_type": "code",
      "execution_count": null,
      "id": "c3f368a5",
      "metadata": {
        "id": "c3f368a5"
      },
      "outputs": [],
      "source": [
        "### predicting y value from random forest regressor model\n",
        "_y_test_pred= rf_reg.predict(x_test)\n",
        "\n",
        "_y_train_pred= rf_reg.predict(x_train)\n"
      ]
    },
    {
      "cell_type": "code",
      "execution_count": null,
      "id": "c0cd9ee6",
      "metadata": {
        "colab": {
          "base_uri": "https://localhost:8080/"
        },
        "id": "c0cd9ee6",
        "outputId": "a24f37c4-243a-4447-d451-a9c08de1aeee"
      },
      "outputs": [
        {
          "output_type": "execute_result",
          "data": {
            "text/plain": [
              "0.66004692935523"
            ]
          },
          "metadata": {},
          "execution_count": 87
        }
      ],
      "source": [
        "### getting rsquared value of random forest regressor\n",
        "r2_score(y_test, y_test_pred)"
      ]
    },
    {
      "cell_type": "code",
      "source": [
        "### Getting r squared value of train data RandomForestRegressorModel\n",
        "r2_score(y_train, y_train_pred)"
      ],
      "metadata": {
        "colab": {
          "base_uri": "https://localhost:8080/"
        },
        "id": "WRY_S8O6oguR",
        "outputId": "f1f03f95-94a7-4a8e-fc46-2484e351049f"
      },
      "id": "WRY_S8O6oguR",
      "execution_count": null,
      "outputs": [
        {
          "output_type": "execute_result",
          "data": {
            "text/plain": [
              "0.9504094267566516"
            ]
          },
          "metadata": {},
          "execution_count": 88
        }
      ]
    },
    {
      "cell_type": "code",
      "source": [
        "### Getting MSE value of train data Randomforestregressor model\n",
        "mean_squared_error(y_test, y_test_pred, squared=False)"
      ],
      "metadata": {
        "colab": {
          "base_uri": "https://localhost:8080/"
        },
        "id": "6XUwLH2mo8Os",
        "outputId": "cc7abcd3-06ee-45ab-da02-e9a765b2e410"
      },
      "id": "6XUwLH2mo8Os",
      "execution_count": null,
      "outputs": [
        {
          "output_type": "execute_result",
          "data": {
            "text/plain": [
              "7102.375402941273"
            ]
          },
          "metadata": {},
          "execution_count": 89
        }
      ]
    },
    {
      "cell_type": "markdown",
      "source": [
        "###Key values of RandomForest Regressor\n",
        "\n",
        "1.   r2_score test value is 0.6600\n",
        "2.   r2_score train value is 0.950\n",
        "3.   mean_squared_error value is 7102.37\n"
      ],
      "metadata": {
        "id": "ngEqbCIfpwD_"
      },
      "id": "ngEqbCIfpwD_"
    },
    {
      "cell_type": "markdown",
      "id": "0d29275c",
      "metadata": {
        "id": "0d29275c"
      },
      "source": [
        "#### Boosting"
      ]
    },
    {
      "cell_type": "markdown",
      "id": "fa6fab39",
      "metadata": {
        "id": "fa6fab39"
      },
      "source": [
        "### 1. Gradient Boosting"
      ]
    },
    {
      "cell_type": "code",
      "execution_count": null,
      "id": "1c196bc1",
      "metadata": {
        "id": "1c196bc1"
      },
      "outputs": [],
      "source": [
        "### importing GradientBoostingRegressor from sklearn\n",
        "from sklearn.ensemble import GradientBoostingRegressor\n",
        "\n"
      ]
    },
    {
      "cell_type": "code",
      "execution_count": null,
      "id": "4d0d8322",
      "metadata": {
        "id": "4d0d8322"
      },
      "outputs": [],
      "source": [
        "### creating object of gradient boosting regressor model\n",
        "gbc_reg= GradientBoostingRegressor(random_state=42)\n",
        "\n"
      ]
    },
    {
      "cell_type": "code",
      "execution_count": null,
      "id": "cc1d8645",
      "metadata": {
        "colab": {
          "base_uri": "https://localhost:8080/",
          "height": 74
        },
        "id": "cc1d8645",
        "outputId": "d3134f87-b4f5-4f21-ae6d-39e2a250e16a"
      },
      "outputs": [
        {
          "output_type": "execute_result",
          "data": {
            "text/plain": [
              "GradientBoostingRegressor(random_state=42)"
            ],
            "text/html": [
              "<style>#sk-container-id-5 {color: black;background-color: white;}#sk-container-id-5 pre{padding: 0;}#sk-container-id-5 div.sk-toggleable {background-color: white;}#sk-container-id-5 label.sk-toggleable__label {cursor: pointer;display: block;width: 100%;margin-bottom: 0;padding: 0.3em;box-sizing: border-box;text-align: center;}#sk-container-id-5 label.sk-toggleable__label-arrow:before {content: \"▸\";float: left;margin-right: 0.25em;color: #696969;}#sk-container-id-5 label.sk-toggleable__label-arrow:hover:before {color: black;}#sk-container-id-5 div.sk-estimator:hover label.sk-toggleable__label-arrow:before {color: black;}#sk-container-id-5 div.sk-toggleable__content {max-height: 0;max-width: 0;overflow: hidden;text-align: left;background-color: #f0f8ff;}#sk-container-id-5 div.sk-toggleable__content pre {margin: 0.2em;color: black;border-radius: 0.25em;background-color: #f0f8ff;}#sk-container-id-5 input.sk-toggleable__control:checked~div.sk-toggleable__content {max-height: 200px;max-width: 100%;overflow: auto;}#sk-container-id-5 input.sk-toggleable__control:checked~label.sk-toggleable__label-arrow:before {content: \"▾\";}#sk-container-id-5 div.sk-estimator input.sk-toggleable__control:checked~label.sk-toggleable__label {background-color: #d4ebff;}#sk-container-id-5 div.sk-label input.sk-toggleable__control:checked~label.sk-toggleable__label {background-color: #d4ebff;}#sk-container-id-5 input.sk-hidden--visually {border: 0;clip: rect(1px 1px 1px 1px);clip: rect(1px, 1px, 1px, 1px);height: 1px;margin: -1px;overflow: hidden;padding: 0;position: absolute;width: 1px;}#sk-container-id-5 div.sk-estimator {font-family: monospace;background-color: #f0f8ff;border: 1px dotted black;border-radius: 0.25em;box-sizing: border-box;margin-bottom: 0.5em;}#sk-container-id-5 div.sk-estimator:hover {background-color: #d4ebff;}#sk-container-id-5 div.sk-parallel-item::after {content: \"\";width: 100%;border-bottom: 1px solid gray;flex-grow: 1;}#sk-container-id-5 div.sk-label:hover label.sk-toggleable__label {background-color: #d4ebff;}#sk-container-id-5 div.sk-serial::before {content: \"\";position: absolute;border-left: 1px solid gray;box-sizing: border-box;top: 0;bottom: 0;left: 50%;z-index: 0;}#sk-container-id-5 div.sk-serial {display: flex;flex-direction: column;align-items: center;background-color: white;padding-right: 0.2em;padding-left: 0.2em;position: relative;}#sk-container-id-5 div.sk-item {position: relative;z-index: 1;}#sk-container-id-5 div.sk-parallel {display: flex;align-items: stretch;justify-content: center;background-color: white;position: relative;}#sk-container-id-5 div.sk-item::before, #sk-container-id-5 div.sk-parallel-item::before {content: \"\";position: absolute;border-left: 1px solid gray;box-sizing: border-box;top: 0;bottom: 0;left: 50%;z-index: -1;}#sk-container-id-5 div.sk-parallel-item {display: flex;flex-direction: column;z-index: 1;position: relative;background-color: white;}#sk-container-id-5 div.sk-parallel-item:first-child::after {align-self: flex-end;width: 50%;}#sk-container-id-5 div.sk-parallel-item:last-child::after {align-self: flex-start;width: 50%;}#sk-container-id-5 div.sk-parallel-item:only-child::after {width: 0;}#sk-container-id-5 div.sk-dashed-wrapped {border: 1px dashed gray;margin: 0 0.4em 0.5em 0.4em;box-sizing: border-box;padding-bottom: 0.4em;background-color: white;}#sk-container-id-5 div.sk-label label {font-family: monospace;font-weight: bold;display: inline-block;line-height: 1.2em;}#sk-container-id-5 div.sk-label-container {text-align: center;}#sk-container-id-5 div.sk-container {/* jupyter's `normalize.less` sets `[hidden] { display: none; }` but bootstrap.min.css set `[hidden] { display: none !important; }` so we also need the `!important` here to be able to override the default hidden behavior on the sphinx rendered scikit-learn.org. See: https://github.com/scikit-learn/scikit-learn/issues/21755 */display: inline-block !important;position: relative;}#sk-container-id-5 div.sk-text-repr-fallback {display: none;}</style><div id=\"sk-container-id-5\" class=\"sk-top-container\"><div class=\"sk-text-repr-fallback\"><pre>GradientBoostingRegressor(random_state=42)</pre><b>In a Jupyter environment, please rerun this cell to show the HTML representation or trust the notebook. <br />On GitHub, the HTML representation is unable to render, please try loading this page with nbviewer.org.</b></div><div class=\"sk-container\" hidden><div class=\"sk-item\"><div class=\"sk-estimator sk-toggleable\"><input class=\"sk-toggleable__control sk-hidden--visually\" id=\"sk-estimator-id-7\" type=\"checkbox\" checked><label for=\"sk-estimator-id-7\" class=\"sk-toggleable__label sk-toggleable__label-arrow\">GradientBoostingRegressor</label><div class=\"sk-toggleable__content\"><pre>GradientBoostingRegressor(random_state=42)</pre></div></div></div></div></div>"
            ]
          },
          "metadata": {},
          "execution_count": 92
        }
      ],
      "source": [
        "### fitting x_train and y_train value on gradient boosting regressor\n",
        "gbc_reg.fit(x_train, y_train)\n",
        "\n"
      ]
    },
    {
      "cell_type": "code",
      "execution_count": null,
      "id": "3d21ecfc",
      "metadata": {
        "id": "3d21ecfc"
      },
      "outputs": [],
      "source": [
        "### predicting y value from gradientboostingregressor model\n",
        "y_test_pred= gbc_reg.predict(x_test)\n",
        "y_train_pred= gbc_reg.predict(x_train)\n",
        "\n"
      ]
    },
    {
      "cell_type": "code",
      "execution_count": null,
      "id": "8f170724",
      "metadata": {
        "colab": {
          "base_uri": "https://localhost:8080/"
        },
        "id": "8f170724",
        "outputId": "b1de7399-0019-4a06-d861-34122086975f"
      },
      "outputs": [
        {
          "output_type": "execute_result",
          "data": {
            "text/plain": [
              "0.6171335441258062"
            ]
          },
          "metadata": {},
          "execution_count": 94
        }
      ],
      "source": [
        "### getting rsquared value\n",
        "r2_score(y_test, y_test_pred)"
      ]
    },
    {
      "cell_type": "code",
      "source": [
        "### getting rsquared value\n",
        "r2_score(y_train, y_train_pred)"
      ],
      "metadata": {
        "colab": {
          "base_uri": "https://localhost:8080/"
        },
        "id": "Rvv9aZ_X_DK_",
        "outputId": "ec896dc1-64f3-4b61-af78-0683dbef0605"
      },
      "id": "Rvv9aZ_X_DK_",
      "execution_count": null,
      "outputs": [
        {
          "output_type": "execute_result",
          "data": {
            "text/plain": [
              "0.7199596134418439"
            ]
          },
          "metadata": {},
          "execution_count": 95
        }
      ]
    },
    {
      "cell_type": "code",
      "source": [
        "### Getting MSE value of train data gradient boosting model\n",
        "mean_squared_error(y_test, y_test_pred, squared=False)"
      ],
      "metadata": {
        "colab": {
          "base_uri": "https://localhost:8080/"
        },
        "id": "mEvsR6x9_Kzb",
        "outputId": "99580e06-30eb-4e05-9109-2e707972a3fb"
      },
      "id": "mEvsR6x9_Kzb",
      "execution_count": null,
      "outputs": [
        {
          "output_type": "execute_result",
          "data": {
            "text/plain": [
              "7537.334660340955"
            ]
          },
          "metadata": {},
          "execution_count": 96
        }
      ]
    },
    {
      "cell_type": "code",
      "execution_count": null,
      "id": "ee331ad3",
      "metadata": {
        "id": "ee331ad3"
      },
      "outputs": [],
      "source": [
        "### creating object of gradientboostingregressor\n",
        "gbc_reg2= GradientBoostingRegressor(learning_rate=0.02, n_estimators=1000, max_depth=2,random_state=42)"
      ]
    },
    {
      "cell_type": "code",
      "execution_count": null,
      "id": "741118bd",
      "metadata": {
        "colab": {
          "base_uri": "https://localhost:8080/",
          "height": 92
        },
        "id": "741118bd",
        "outputId": "28328f85-da09-4530-8925-2491e098818e"
      },
      "outputs": [
        {
          "output_type": "execute_result",
          "data": {
            "text/plain": [
              "GradientBoostingRegressor(learning_rate=0.02, max_depth=2, n_estimators=1000,\n",
              "                          random_state=42)"
            ],
            "text/html": [
              "<style>#sk-container-id-6 {color: black;background-color: white;}#sk-container-id-6 pre{padding: 0;}#sk-container-id-6 div.sk-toggleable {background-color: white;}#sk-container-id-6 label.sk-toggleable__label {cursor: pointer;display: block;width: 100%;margin-bottom: 0;padding: 0.3em;box-sizing: border-box;text-align: center;}#sk-container-id-6 label.sk-toggleable__label-arrow:before {content: \"▸\";float: left;margin-right: 0.25em;color: #696969;}#sk-container-id-6 label.sk-toggleable__label-arrow:hover:before {color: black;}#sk-container-id-6 div.sk-estimator:hover label.sk-toggleable__label-arrow:before {color: black;}#sk-container-id-6 div.sk-toggleable__content {max-height: 0;max-width: 0;overflow: hidden;text-align: left;background-color: #f0f8ff;}#sk-container-id-6 div.sk-toggleable__content pre {margin: 0.2em;color: black;border-radius: 0.25em;background-color: #f0f8ff;}#sk-container-id-6 input.sk-toggleable__control:checked~div.sk-toggleable__content {max-height: 200px;max-width: 100%;overflow: auto;}#sk-container-id-6 input.sk-toggleable__control:checked~label.sk-toggleable__label-arrow:before {content: \"▾\";}#sk-container-id-6 div.sk-estimator input.sk-toggleable__control:checked~label.sk-toggleable__label {background-color: #d4ebff;}#sk-container-id-6 div.sk-label input.sk-toggleable__control:checked~label.sk-toggleable__label {background-color: #d4ebff;}#sk-container-id-6 input.sk-hidden--visually {border: 0;clip: rect(1px 1px 1px 1px);clip: rect(1px, 1px, 1px, 1px);height: 1px;margin: -1px;overflow: hidden;padding: 0;position: absolute;width: 1px;}#sk-container-id-6 div.sk-estimator {font-family: monospace;background-color: #f0f8ff;border: 1px dotted black;border-radius: 0.25em;box-sizing: border-box;margin-bottom: 0.5em;}#sk-container-id-6 div.sk-estimator:hover {background-color: #d4ebff;}#sk-container-id-6 div.sk-parallel-item::after {content: \"\";width: 100%;border-bottom: 1px solid gray;flex-grow: 1;}#sk-container-id-6 div.sk-label:hover label.sk-toggleable__label {background-color: #d4ebff;}#sk-container-id-6 div.sk-serial::before {content: \"\";position: absolute;border-left: 1px solid gray;box-sizing: border-box;top: 0;bottom: 0;left: 50%;z-index: 0;}#sk-container-id-6 div.sk-serial {display: flex;flex-direction: column;align-items: center;background-color: white;padding-right: 0.2em;padding-left: 0.2em;position: relative;}#sk-container-id-6 div.sk-item {position: relative;z-index: 1;}#sk-container-id-6 div.sk-parallel {display: flex;align-items: stretch;justify-content: center;background-color: white;position: relative;}#sk-container-id-6 div.sk-item::before, #sk-container-id-6 div.sk-parallel-item::before {content: \"\";position: absolute;border-left: 1px solid gray;box-sizing: border-box;top: 0;bottom: 0;left: 50%;z-index: -1;}#sk-container-id-6 div.sk-parallel-item {display: flex;flex-direction: column;z-index: 1;position: relative;background-color: white;}#sk-container-id-6 div.sk-parallel-item:first-child::after {align-self: flex-end;width: 50%;}#sk-container-id-6 div.sk-parallel-item:last-child::after {align-self: flex-start;width: 50%;}#sk-container-id-6 div.sk-parallel-item:only-child::after {width: 0;}#sk-container-id-6 div.sk-dashed-wrapped {border: 1px dashed gray;margin: 0 0.4em 0.5em 0.4em;box-sizing: border-box;padding-bottom: 0.4em;background-color: white;}#sk-container-id-6 div.sk-label label {font-family: monospace;font-weight: bold;display: inline-block;line-height: 1.2em;}#sk-container-id-6 div.sk-label-container {text-align: center;}#sk-container-id-6 div.sk-container {/* jupyter's `normalize.less` sets `[hidden] { display: none; }` but bootstrap.min.css set `[hidden] { display: none !important; }` so we also need the `!important` here to be able to override the default hidden behavior on the sphinx rendered scikit-learn.org. See: https://github.com/scikit-learn/scikit-learn/issues/21755 */display: inline-block !important;position: relative;}#sk-container-id-6 div.sk-text-repr-fallback {display: none;}</style><div id=\"sk-container-id-6\" class=\"sk-top-container\"><div class=\"sk-text-repr-fallback\"><pre>GradientBoostingRegressor(learning_rate=0.02, max_depth=2, n_estimators=1000,\n",
              "                          random_state=42)</pre><b>In a Jupyter environment, please rerun this cell to show the HTML representation or trust the notebook. <br />On GitHub, the HTML representation is unable to render, please try loading this page with nbviewer.org.</b></div><div class=\"sk-container\" hidden><div class=\"sk-item\"><div class=\"sk-estimator sk-toggleable\"><input class=\"sk-toggleable__control sk-hidden--visually\" id=\"sk-estimator-id-8\" type=\"checkbox\" checked><label for=\"sk-estimator-id-8\" class=\"sk-toggleable__label sk-toggleable__label-arrow\">GradientBoostingRegressor</label><div class=\"sk-toggleable__content\"><pre>GradientBoostingRegressor(learning_rate=0.02, max_depth=2, n_estimators=1000,\n",
              "                          random_state=42)</pre></div></div></div></div></div>"
            ]
          },
          "metadata": {},
          "execution_count": 98
        }
      ],
      "source": [
        "### fitting x_train and y_train values on gradientboostingregressor\n",
        "gbc_reg2.fit(x_train, y_train)"
      ]
    },
    {
      "cell_type": "code",
      "execution_count": null,
      "id": "5410ca27",
      "metadata": {
        "id": "5410ca27"
      },
      "outputs": [],
      "source": [
        "### precting value of y from gradientboostingregressor\n",
        "y_test_pred= gbc_reg2.predict(x_test)\n",
        "y_train_pred= gbc_reg2.predict(x_train)"
      ]
    },
    {
      "cell_type": "code",
      "execution_count": null,
      "id": "89c6c81d",
      "metadata": {
        "colab": {
          "base_uri": "https://localhost:8080/"
        },
        "id": "89c6c81d",
        "outputId": "8e879465-0d6e-4bec-f1ca-60861036dfaa"
      },
      "outputs": [
        {
          "output_type": "execute_result",
          "data": {
            "text/plain": [
              "0.6181614065288081"
            ]
          },
          "metadata": {},
          "execution_count": 100
        }
      ],
      "source": [
        "### getting rsquared value of test from gradientboostingregressor\n",
        "r2_score(y_test, y_test_pred)"
      ]
    },
    {
      "cell_type": "code",
      "execution_count": null,
      "id": "062454a5",
      "metadata": {
        "id": "062454a5",
        "colab": {
          "base_uri": "https://localhost:8080/"
        },
        "outputId": "586ccf40-91e6-4af8-e9c1-76769ae615a3"
      },
      "outputs": [
        {
          "output_type": "execute_result",
          "data": {
            "text/plain": [
              "0.7021349156624"
            ]
          },
          "metadata": {},
          "execution_count": 101
        }
      ],
      "source": [
        "### getting rsquared value of train from gradientboostingregressor\n",
        "r2_score(y_train, y_train_pred)"
      ]
    },
    {
      "cell_type": "code",
      "source": [
        "### Getting MSE value of train data gradient boosting model\n",
        "mean_squared_error(y_test, y_test_pred, squared=False)"
      ],
      "metadata": {
        "colab": {
          "base_uri": "https://localhost:8080/"
        },
        "id": "bqEeK1nJ4WfH",
        "outputId": "b60af637-da1b-4452-aa5d-7d9d18d8a16d"
      },
      "id": "bqEeK1nJ4WfH",
      "execution_count": null,
      "outputs": [
        {
          "output_type": "execute_result",
          "data": {
            "text/plain": [
              "7527.210308214233"
            ]
          },
          "metadata": {},
          "execution_count": 102
        }
      ]
    },
    {
      "cell_type": "markdown",
      "source": [
        "###Key values of gradient boosting\n",
        "1.   r2_score of test in GB1 is 0.6171\n",
        "2.   r2_score of train in GB1 is 0.7199\n",
        "3.   root_mean_square_error in GB1 is 7537.21\n",
        "###Key values of gradient boosting\n",
        "1.   r2_score of test in GB2 is 0.6181\n",
        "2.   r2_score of train in GB2 is 0.7021\n",
        "3.   root_mean_square_error in GB2 is 7527.21"
      ],
      "metadata": {
        "id": "i2oShYw28WUl"
      },
      "id": "i2oShYw28WUl"
    },
    {
      "cell_type": "code",
      "source": [],
      "metadata": {
        "id": "bGhsL81p87DT"
      },
      "id": "bGhsL81p87DT",
      "execution_count": null,
      "outputs": []
    },
    {
      "cell_type": "markdown",
      "id": "498262d3",
      "metadata": {
        "id": "498262d3"
      },
      "source": [
        "### 2. Ada Boosting"
      ]
    },
    {
      "cell_type": "code",
      "execution_count": null,
      "id": "47271557",
      "metadata": {
        "id": "47271557"
      },
      "outputs": [],
      "source": [
        "### importing Adaboostregressor from sklearn\n",
        "from sklearn.ensemble import AdaBoostRegressor"
      ]
    },
    {
      "cell_type": "code",
      "execution_count": null,
      "id": "2f04e81d",
      "metadata": {
        "id": "2f04e81d"
      },
      "outputs": [],
      "source": [
        "### creating object of adaboostregressor model\n",
        "ada_reg=AdaBoostRegressor(learning_rate=0.02, n_estimators=1000,random_state=42)"
      ]
    },
    {
      "cell_type": "code",
      "execution_count": null,
      "id": "43300876",
      "metadata": {
        "colab": {
          "base_uri": "https://localhost:8080/",
          "height": 74
        },
        "id": "43300876",
        "outputId": "9dbb4b99-4e63-4793-c7d5-6962844b26ac"
      },
      "outputs": [
        {
          "output_type": "execute_result",
          "data": {
            "text/plain": [
              "AdaBoostRegressor(learning_rate=0.02, n_estimators=1000, random_state=42)"
            ],
            "text/html": [
              "<style>#sk-container-id-7 {color: black;background-color: white;}#sk-container-id-7 pre{padding: 0;}#sk-container-id-7 div.sk-toggleable {background-color: white;}#sk-container-id-7 label.sk-toggleable__label {cursor: pointer;display: block;width: 100%;margin-bottom: 0;padding: 0.3em;box-sizing: border-box;text-align: center;}#sk-container-id-7 label.sk-toggleable__label-arrow:before {content: \"▸\";float: left;margin-right: 0.25em;color: #696969;}#sk-container-id-7 label.sk-toggleable__label-arrow:hover:before {color: black;}#sk-container-id-7 div.sk-estimator:hover label.sk-toggleable__label-arrow:before {color: black;}#sk-container-id-7 div.sk-toggleable__content {max-height: 0;max-width: 0;overflow: hidden;text-align: left;background-color: #f0f8ff;}#sk-container-id-7 div.sk-toggleable__content pre {margin: 0.2em;color: black;border-radius: 0.25em;background-color: #f0f8ff;}#sk-container-id-7 input.sk-toggleable__control:checked~div.sk-toggleable__content {max-height: 200px;max-width: 100%;overflow: auto;}#sk-container-id-7 input.sk-toggleable__control:checked~label.sk-toggleable__label-arrow:before {content: \"▾\";}#sk-container-id-7 div.sk-estimator input.sk-toggleable__control:checked~label.sk-toggleable__label {background-color: #d4ebff;}#sk-container-id-7 div.sk-label input.sk-toggleable__control:checked~label.sk-toggleable__label {background-color: #d4ebff;}#sk-container-id-7 input.sk-hidden--visually {border: 0;clip: rect(1px 1px 1px 1px);clip: rect(1px, 1px, 1px, 1px);height: 1px;margin: -1px;overflow: hidden;padding: 0;position: absolute;width: 1px;}#sk-container-id-7 div.sk-estimator {font-family: monospace;background-color: #f0f8ff;border: 1px dotted black;border-radius: 0.25em;box-sizing: border-box;margin-bottom: 0.5em;}#sk-container-id-7 div.sk-estimator:hover {background-color: #d4ebff;}#sk-container-id-7 div.sk-parallel-item::after {content: \"\";width: 100%;border-bottom: 1px solid gray;flex-grow: 1;}#sk-container-id-7 div.sk-label:hover label.sk-toggleable__label {background-color: #d4ebff;}#sk-container-id-7 div.sk-serial::before {content: \"\";position: absolute;border-left: 1px solid gray;box-sizing: border-box;top: 0;bottom: 0;left: 50%;z-index: 0;}#sk-container-id-7 div.sk-serial {display: flex;flex-direction: column;align-items: center;background-color: white;padding-right: 0.2em;padding-left: 0.2em;position: relative;}#sk-container-id-7 div.sk-item {position: relative;z-index: 1;}#sk-container-id-7 div.sk-parallel {display: flex;align-items: stretch;justify-content: center;background-color: white;position: relative;}#sk-container-id-7 div.sk-item::before, #sk-container-id-7 div.sk-parallel-item::before {content: \"\";position: absolute;border-left: 1px solid gray;box-sizing: border-box;top: 0;bottom: 0;left: 50%;z-index: -1;}#sk-container-id-7 div.sk-parallel-item {display: flex;flex-direction: column;z-index: 1;position: relative;background-color: white;}#sk-container-id-7 div.sk-parallel-item:first-child::after {align-self: flex-end;width: 50%;}#sk-container-id-7 div.sk-parallel-item:last-child::after {align-self: flex-start;width: 50%;}#sk-container-id-7 div.sk-parallel-item:only-child::after {width: 0;}#sk-container-id-7 div.sk-dashed-wrapped {border: 1px dashed gray;margin: 0 0.4em 0.5em 0.4em;box-sizing: border-box;padding-bottom: 0.4em;background-color: white;}#sk-container-id-7 div.sk-label label {font-family: monospace;font-weight: bold;display: inline-block;line-height: 1.2em;}#sk-container-id-7 div.sk-label-container {text-align: center;}#sk-container-id-7 div.sk-container {/* jupyter's `normalize.less` sets `[hidden] { display: none; }` but bootstrap.min.css set `[hidden] { display: none !important; }` so we also need the `!important` here to be able to override the default hidden behavior on the sphinx rendered scikit-learn.org. See: https://github.com/scikit-learn/scikit-learn/issues/21755 */display: inline-block !important;position: relative;}#sk-container-id-7 div.sk-text-repr-fallback {display: none;}</style><div id=\"sk-container-id-7\" class=\"sk-top-container\"><div class=\"sk-text-repr-fallback\"><pre>AdaBoostRegressor(learning_rate=0.02, n_estimators=1000, random_state=42)</pre><b>In a Jupyter environment, please rerun this cell to show the HTML representation or trust the notebook. <br />On GitHub, the HTML representation is unable to render, please try loading this page with nbviewer.org.</b></div><div class=\"sk-container\" hidden><div class=\"sk-item\"><div class=\"sk-estimator sk-toggleable\"><input class=\"sk-toggleable__control sk-hidden--visually\" id=\"sk-estimator-id-9\" type=\"checkbox\" checked><label for=\"sk-estimator-id-9\" class=\"sk-toggleable__label sk-toggleable__label-arrow\">AdaBoostRegressor</label><div class=\"sk-toggleable__content\"><pre>AdaBoostRegressor(learning_rate=0.02, n_estimators=1000, random_state=42)</pre></div></div></div></div></div>"
            ]
          },
          "metadata": {},
          "execution_count": 105
        }
      ],
      "source": [
        "### fitting x_train and y_train on adaboostregressor\n",
        "ada_reg.fit(x_train, y_train)"
      ]
    },
    {
      "cell_type": "code",
      "execution_count": null,
      "id": "e2a7503b",
      "metadata": {
        "id": "e2a7503b"
      },
      "outputs": [],
      "source": [
        "###getting value of y from adaboostregressor object\n",
        "y_test_pred= ada_reg.predict(x_test)\n",
        "y_train_pred= ada_reg.predict(x_train)"
      ]
    },
    {
      "cell_type": "code",
      "execution_count": null,
      "id": "17a28b64",
      "metadata": {
        "colab": {
          "base_uri": "https://localhost:8080/"
        },
        "id": "17a28b64",
        "outputId": "c6ea5b46-ad50-4ed1-9a2e-5a80daa71bda"
      },
      "outputs": [
        {
          "output_type": "execute_result",
          "data": {
            "text/plain": [
              "0.5980794897670065"
            ]
          },
          "metadata": {},
          "execution_count": 107
        }
      ],
      "source": [
        "### getting r squared value of adaboostregressor model\n",
        "r2_score(y_test, y_test_pred)\n"
      ]
    },
    {
      "cell_type": "code",
      "source": [
        "r2_score(y_train, y_train_pred) ### r2 value of train data"
      ],
      "metadata": {
        "colab": {
          "base_uri": "https://localhost:8080/"
        },
        "id": "JhpVPEPkDLQc",
        "outputId": "394c6ad3-75a5-43e7-d670-eaf449072f3b"
      },
      "id": "JhpVPEPkDLQc",
      "execution_count": null,
      "outputs": [
        {
          "output_type": "execute_result",
          "data": {
            "text/plain": [
              "0.625520184407773"
            ]
          },
          "metadata": {},
          "execution_count": 108
        }
      ]
    },
    {
      "cell_type": "code",
      "source": [
        "### Getting MSE value of train data gradient boosting model\n",
        "mean_squared_error(y_test, y_test_pred, squared=False)"
      ],
      "metadata": {
        "colab": {
          "base_uri": "https://localhost:8080/"
        },
        "id": "2N__PztaDMTh",
        "outputId": "70bc9df8-02df-4d7c-ba7b-afd9526c5ac9"
      },
      "id": "2N__PztaDMTh",
      "execution_count": null,
      "outputs": [
        {
          "output_type": "execute_result",
          "data": {
            "text/plain": [
              "7722.612150489372"
            ]
          },
          "metadata": {},
          "execution_count": 109
        }
      ]
    },
    {
      "cell_type": "code",
      "execution_count": null,
      "id": "125d9b51",
      "metadata": {
        "id": "125d9b51"
      },
      "outputs": [],
      "source": [
        "\n",
        "### creating randomforest regressor object\n",
        "rf_reg_t= RandomForestRegressor(n_estimators=500, n_jobs=-1, random_state=42)"
      ]
    },
    {
      "cell_type": "code",
      "execution_count": null,
      "id": "963fb0a4",
      "metadata": {
        "id": "963fb0a4"
      },
      "outputs": [],
      "source": [
        "### creating adaboostregressor object using random forest regressor method\n",
        "ada_reg2=AdaBoostRegressor(rf_reg_t, learning_rate=0.05, n_estimators=50,random_state=42)"
      ]
    },
    {
      "cell_type": "code",
      "execution_count": null,
      "id": "7687a81c",
      "metadata": {
        "colab": {
          "base_uri": "https://localhost:8080/",
          "height": 117
        },
        "id": "7687a81c",
        "outputId": "cd1723dc-df5e-47c1-9817-6bc98e7ec23f"
      },
      "outputs": [
        {
          "output_type": "execute_result",
          "data": {
            "text/plain": [
              "AdaBoostRegressor(estimator=RandomForestRegressor(n_estimators=500, n_jobs=-1,\n",
              "                                                  random_state=42),\n",
              "                  learning_rate=0.05, random_state=42)"
            ],
            "text/html": [
              "<style>#sk-container-id-8 {color: black;background-color: white;}#sk-container-id-8 pre{padding: 0;}#sk-container-id-8 div.sk-toggleable {background-color: white;}#sk-container-id-8 label.sk-toggleable__label {cursor: pointer;display: block;width: 100%;margin-bottom: 0;padding: 0.3em;box-sizing: border-box;text-align: center;}#sk-container-id-8 label.sk-toggleable__label-arrow:before {content: \"▸\";float: left;margin-right: 0.25em;color: #696969;}#sk-container-id-8 label.sk-toggleable__label-arrow:hover:before {color: black;}#sk-container-id-8 div.sk-estimator:hover label.sk-toggleable__label-arrow:before {color: black;}#sk-container-id-8 div.sk-toggleable__content {max-height: 0;max-width: 0;overflow: hidden;text-align: left;background-color: #f0f8ff;}#sk-container-id-8 div.sk-toggleable__content pre {margin: 0.2em;color: black;border-radius: 0.25em;background-color: #f0f8ff;}#sk-container-id-8 input.sk-toggleable__control:checked~div.sk-toggleable__content {max-height: 200px;max-width: 100%;overflow: auto;}#sk-container-id-8 input.sk-toggleable__control:checked~label.sk-toggleable__label-arrow:before {content: \"▾\";}#sk-container-id-8 div.sk-estimator input.sk-toggleable__control:checked~label.sk-toggleable__label {background-color: #d4ebff;}#sk-container-id-8 div.sk-label input.sk-toggleable__control:checked~label.sk-toggleable__label {background-color: #d4ebff;}#sk-container-id-8 input.sk-hidden--visually {border: 0;clip: rect(1px 1px 1px 1px);clip: rect(1px, 1px, 1px, 1px);height: 1px;margin: -1px;overflow: hidden;padding: 0;position: absolute;width: 1px;}#sk-container-id-8 div.sk-estimator {font-family: monospace;background-color: #f0f8ff;border: 1px dotted black;border-radius: 0.25em;box-sizing: border-box;margin-bottom: 0.5em;}#sk-container-id-8 div.sk-estimator:hover {background-color: #d4ebff;}#sk-container-id-8 div.sk-parallel-item::after {content: \"\";width: 100%;border-bottom: 1px solid gray;flex-grow: 1;}#sk-container-id-8 div.sk-label:hover label.sk-toggleable__label {background-color: #d4ebff;}#sk-container-id-8 div.sk-serial::before {content: \"\";position: absolute;border-left: 1px solid gray;box-sizing: border-box;top: 0;bottom: 0;left: 50%;z-index: 0;}#sk-container-id-8 div.sk-serial {display: flex;flex-direction: column;align-items: center;background-color: white;padding-right: 0.2em;padding-left: 0.2em;position: relative;}#sk-container-id-8 div.sk-item {position: relative;z-index: 1;}#sk-container-id-8 div.sk-parallel {display: flex;align-items: stretch;justify-content: center;background-color: white;position: relative;}#sk-container-id-8 div.sk-item::before, #sk-container-id-8 div.sk-parallel-item::before {content: \"\";position: absolute;border-left: 1px solid gray;box-sizing: border-box;top: 0;bottom: 0;left: 50%;z-index: -1;}#sk-container-id-8 div.sk-parallel-item {display: flex;flex-direction: column;z-index: 1;position: relative;background-color: white;}#sk-container-id-8 div.sk-parallel-item:first-child::after {align-self: flex-end;width: 50%;}#sk-container-id-8 div.sk-parallel-item:last-child::after {align-self: flex-start;width: 50%;}#sk-container-id-8 div.sk-parallel-item:only-child::after {width: 0;}#sk-container-id-8 div.sk-dashed-wrapped {border: 1px dashed gray;margin: 0 0.4em 0.5em 0.4em;box-sizing: border-box;padding-bottom: 0.4em;background-color: white;}#sk-container-id-8 div.sk-label label {font-family: monospace;font-weight: bold;display: inline-block;line-height: 1.2em;}#sk-container-id-8 div.sk-label-container {text-align: center;}#sk-container-id-8 div.sk-container {/* jupyter's `normalize.less` sets `[hidden] { display: none; }` but bootstrap.min.css set `[hidden] { display: none !important; }` so we also need the `!important` here to be able to override the default hidden behavior on the sphinx rendered scikit-learn.org. See: https://github.com/scikit-learn/scikit-learn/issues/21755 */display: inline-block !important;position: relative;}#sk-container-id-8 div.sk-text-repr-fallback {display: none;}</style><div id=\"sk-container-id-8\" class=\"sk-top-container\"><div class=\"sk-text-repr-fallback\"><pre>AdaBoostRegressor(estimator=RandomForestRegressor(n_estimators=500, n_jobs=-1,\n",
              "                                                  random_state=42),\n",
              "                  learning_rate=0.05, random_state=42)</pre><b>In a Jupyter environment, please rerun this cell to show the HTML representation or trust the notebook. <br />On GitHub, the HTML representation is unable to render, please try loading this page with nbviewer.org.</b></div><div class=\"sk-container\" hidden><div class=\"sk-item sk-dashed-wrapped\"><div class=\"sk-label-container\"><div class=\"sk-label sk-toggleable\"><input class=\"sk-toggleable__control sk-hidden--visually\" id=\"sk-estimator-id-10\" type=\"checkbox\" ><label for=\"sk-estimator-id-10\" class=\"sk-toggleable__label sk-toggleable__label-arrow\">AdaBoostRegressor</label><div class=\"sk-toggleable__content\"><pre>AdaBoostRegressor(estimator=RandomForestRegressor(n_estimators=500, n_jobs=-1,\n",
              "                                                  random_state=42),\n",
              "                  learning_rate=0.05, random_state=42)</pre></div></div></div><div class=\"sk-parallel\"><div class=\"sk-parallel-item\"><div class=\"sk-item\"><div class=\"sk-label-container\"><div class=\"sk-label sk-toggleable\"><input class=\"sk-toggleable__control sk-hidden--visually\" id=\"sk-estimator-id-11\" type=\"checkbox\" ><label for=\"sk-estimator-id-11\" class=\"sk-toggleable__label sk-toggleable__label-arrow\">estimator: RandomForestRegressor</label><div class=\"sk-toggleable__content\"><pre>RandomForestRegressor(n_estimators=500, n_jobs=-1, random_state=42)</pre></div></div></div><div class=\"sk-serial\"><div class=\"sk-item\"><div class=\"sk-estimator sk-toggleable\"><input class=\"sk-toggleable__control sk-hidden--visually\" id=\"sk-estimator-id-12\" type=\"checkbox\" ><label for=\"sk-estimator-id-12\" class=\"sk-toggleable__label sk-toggleable__label-arrow\">RandomForestRegressor</label><div class=\"sk-toggleable__content\"><pre>RandomForestRegressor(n_estimators=500, n_jobs=-1, random_state=42)</pre></div></div></div></div></div></div></div></div></div></div>"
            ]
          },
          "metadata": {},
          "execution_count": 112
        }
      ],
      "source": [
        "#### fitting training data on adaboostregressor object 2\n",
        "ada_reg2.fit(x_train, y_train)"
      ]
    },
    {
      "cell_type": "code",
      "execution_count": null,
      "id": "a786c11e",
      "metadata": {
        "id": "a786c11e"
      },
      "outputs": [],
      "source": [
        "### predicting y_value from x_test data using adaboostregressor object 2\n",
        "y_test_pred= ada_reg2.predict(x_test)\n",
        "y_train_pred= ada_reg2.predict(x_train)"
      ]
    },
    {
      "cell_type": "code",
      "execution_count": null,
      "id": "434ce03a",
      "metadata": {
        "colab": {
          "base_uri": "https://localhost:8080/"
        },
        "id": "434ce03a",
        "outputId": "13887d0f-e6d6-49b9-eae3-5e0db775c60d"
      },
      "outputs": [
        {
          "output_type": "execute_result",
          "data": {
            "text/plain": [
              "0.6678896272194705"
            ]
          },
          "metadata": {},
          "execution_count": 114
        }
      ],
      "source": [
        "### getting r2_score value from adaboostregressor object 2\n",
        "r2_score(y_test, y_test_pred)"
      ]
    },
    {
      "cell_type": "code",
      "source": [
        "### getting r2_score value from adaboostregressor object 2\n",
        "r2_score(y_train, y_train_pred)"
      ],
      "metadata": {
        "colab": {
          "base_uri": "https://localhost:8080/"
        },
        "id": "TNwiJvPH9QUI",
        "outputId": "4ee1cdce-bea6-4aa0-bb08-50de603dc04e"
      },
      "id": "TNwiJvPH9QUI",
      "execution_count": null,
      "outputs": [
        {
          "output_type": "execute_result",
          "data": {
            "text/plain": [
              "0.9562609686618705"
            ]
          },
          "metadata": {},
          "execution_count": 115
        }
      ]
    },
    {
      "cell_type": "code",
      "source": [
        "### Getting MSE value of train data ada boosting model\n",
        "mean_squared_error(y_test, y_test_pred, squared=False)"
      ],
      "metadata": {
        "colab": {
          "base_uri": "https://localhost:8080/"
        },
        "id": "gQ2Z95uu9mso",
        "outputId": "d7ba08e1-a577-4e5c-8695-d8f426af1555"
      },
      "id": "gQ2Z95uu9mso",
      "execution_count": null,
      "outputs": [
        {
          "output_type": "execute_result",
          "data": {
            "text/plain": [
              "7019.971670615658"
            ]
          },
          "metadata": {},
          "execution_count": 116
        }
      ]
    },
    {
      "cell_type": "markdown",
      "source": [
        "###Key values of Ada boosting with default\n",
        "\n",
        "1.   r2_score test is 0.598\n",
        "2.   r2_score train is 0.625\n",
        "3.   root mean square test is 7722.61\n",
        "\n",
        "####Key values of ada boosting with random forest:\n",
        "\n",
        "1.   r2_score test is 0.667\n",
        "2.   r2 score train is 0.956\n",
        "3.   root mean square test is 7019.971\n"
      ],
      "metadata": {
        "id": "M_Q0r8YdAptQ"
      },
      "id": "M_Q0r8YdAptQ"
    },
    {
      "cell_type": "markdown",
      "id": "02a75909",
      "metadata": {
        "id": "02a75909"
      },
      "source": [
        "#### XG_Boost"
      ]
    },
    {
      "cell_type": "code",
      "execution_count": null,
      "id": "3b51eb4a",
      "metadata": {
        "id": "3b51eb4a"
      },
      "outputs": [],
      "source": [
        "### importing xgboost\n",
        "import xgboost as xgb"
      ]
    },
    {
      "cell_type": "code",
      "execution_count": null,
      "id": "01b13bed",
      "metadata": {
        "id": "01b13bed"
      },
      "outputs": [],
      "source": [
        "### creating XG BOOST Regressor object\n",
        "xgb_reg=xgb.XGBRegressor(max_depth=5, n_estimators=1000, learning_rate=0.3, n_jobs=-1,random_state=42)"
      ]
    },
    {
      "cell_type": "code",
      "source": [
        "### fitting x_train and y_train values on xgb regressor object\n",
        "xgb_reg.fit(x_train, y_train)"
      ],
      "metadata": {
        "colab": {
          "base_uri": "https://localhost:8080/",
          "height": 248
        },
        "id": "tUdYajHm948v",
        "outputId": "195500f1-2163-4481-a8bf-7ad9a3aa667f"
      },
      "id": "tUdYajHm948v",
      "execution_count": null,
      "outputs": [
        {
          "output_type": "execute_result",
          "data": {
            "text/plain": [
              "XGBRegressor(base_score=None, booster=None, callbacks=None,\n",
              "             colsample_bylevel=None, colsample_bynode=None,\n",
              "             colsample_bytree=None, early_stopping_rounds=None,\n",
              "             enable_categorical=False, eval_metric=None, feature_types=None,\n",
              "             gamma=None, gpu_id=None, grow_policy=None, importance_type=None,\n",
              "             interaction_constraints=None, learning_rate=0.3, max_bin=None,\n",
              "             max_cat_threshold=None, max_cat_to_onehot=None,\n",
              "             max_delta_step=None, max_depth=5, max_leaves=None,\n",
              "             min_child_weight=None, missing=nan, monotone_constraints=None,\n",
              "             n_estimators=1000, n_jobs=-1, num_parallel_tree=None,\n",
              "             predictor=None, random_state=42, ...)"
            ],
            "text/html": [
              "<style>#sk-container-id-9 {color: black;background-color: white;}#sk-container-id-9 pre{padding: 0;}#sk-container-id-9 div.sk-toggleable {background-color: white;}#sk-container-id-9 label.sk-toggleable__label {cursor: pointer;display: block;width: 100%;margin-bottom: 0;padding: 0.3em;box-sizing: border-box;text-align: center;}#sk-container-id-9 label.sk-toggleable__label-arrow:before {content: \"▸\";float: left;margin-right: 0.25em;color: #696969;}#sk-container-id-9 label.sk-toggleable__label-arrow:hover:before {color: black;}#sk-container-id-9 div.sk-estimator:hover label.sk-toggleable__label-arrow:before {color: black;}#sk-container-id-9 div.sk-toggleable__content {max-height: 0;max-width: 0;overflow: hidden;text-align: left;background-color: #f0f8ff;}#sk-container-id-9 div.sk-toggleable__content pre {margin: 0.2em;color: black;border-radius: 0.25em;background-color: #f0f8ff;}#sk-container-id-9 input.sk-toggleable__control:checked~div.sk-toggleable__content {max-height: 200px;max-width: 100%;overflow: auto;}#sk-container-id-9 input.sk-toggleable__control:checked~label.sk-toggleable__label-arrow:before {content: \"▾\";}#sk-container-id-9 div.sk-estimator input.sk-toggleable__control:checked~label.sk-toggleable__label {background-color: #d4ebff;}#sk-container-id-9 div.sk-label input.sk-toggleable__control:checked~label.sk-toggleable__label {background-color: #d4ebff;}#sk-container-id-9 input.sk-hidden--visually {border: 0;clip: rect(1px 1px 1px 1px);clip: rect(1px, 1px, 1px, 1px);height: 1px;margin: -1px;overflow: hidden;padding: 0;position: absolute;width: 1px;}#sk-container-id-9 div.sk-estimator {font-family: monospace;background-color: #f0f8ff;border: 1px dotted black;border-radius: 0.25em;box-sizing: border-box;margin-bottom: 0.5em;}#sk-container-id-9 div.sk-estimator:hover {background-color: #d4ebff;}#sk-container-id-9 div.sk-parallel-item::after {content: \"\";width: 100%;border-bottom: 1px solid gray;flex-grow: 1;}#sk-container-id-9 div.sk-label:hover label.sk-toggleable__label {background-color: #d4ebff;}#sk-container-id-9 div.sk-serial::before {content: \"\";position: absolute;border-left: 1px solid gray;box-sizing: border-box;top: 0;bottom: 0;left: 50%;z-index: 0;}#sk-container-id-9 div.sk-serial {display: flex;flex-direction: column;align-items: center;background-color: white;padding-right: 0.2em;padding-left: 0.2em;position: relative;}#sk-container-id-9 div.sk-item {position: relative;z-index: 1;}#sk-container-id-9 div.sk-parallel {display: flex;align-items: stretch;justify-content: center;background-color: white;position: relative;}#sk-container-id-9 div.sk-item::before, #sk-container-id-9 div.sk-parallel-item::before {content: \"\";position: absolute;border-left: 1px solid gray;box-sizing: border-box;top: 0;bottom: 0;left: 50%;z-index: -1;}#sk-container-id-9 div.sk-parallel-item {display: flex;flex-direction: column;z-index: 1;position: relative;background-color: white;}#sk-container-id-9 div.sk-parallel-item:first-child::after {align-self: flex-end;width: 50%;}#sk-container-id-9 div.sk-parallel-item:last-child::after {align-self: flex-start;width: 50%;}#sk-container-id-9 div.sk-parallel-item:only-child::after {width: 0;}#sk-container-id-9 div.sk-dashed-wrapped {border: 1px dashed gray;margin: 0 0.4em 0.5em 0.4em;box-sizing: border-box;padding-bottom: 0.4em;background-color: white;}#sk-container-id-9 div.sk-label label {font-family: monospace;font-weight: bold;display: inline-block;line-height: 1.2em;}#sk-container-id-9 div.sk-label-container {text-align: center;}#sk-container-id-9 div.sk-container {/* jupyter's `normalize.less` sets `[hidden] { display: none; }` but bootstrap.min.css set `[hidden] { display: none !important; }` so we also need the `!important` here to be able to override the default hidden behavior on the sphinx rendered scikit-learn.org. See: https://github.com/scikit-learn/scikit-learn/issues/21755 */display: inline-block !important;position: relative;}#sk-container-id-9 div.sk-text-repr-fallback {display: none;}</style><div id=\"sk-container-id-9\" class=\"sk-top-container\"><div class=\"sk-text-repr-fallback\"><pre>XGBRegressor(base_score=None, booster=None, callbacks=None,\n",
              "             colsample_bylevel=None, colsample_bynode=None,\n",
              "             colsample_bytree=None, early_stopping_rounds=None,\n",
              "             enable_categorical=False, eval_metric=None, feature_types=None,\n",
              "             gamma=None, gpu_id=None, grow_policy=None, importance_type=None,\n",
              "             interaction_constraints=None, learning_rate=0.3, max_bin=None,\n",
              "             max_cat_threshold=None, max_cat_to_onehot=None,\n",
              "             max_delta_step=None, max_depth=5, max_leaves=None,\n",
              "             min_child_weight=None, missing=nan, monotone_constraints=None,\n",
              "             n_estimators=1000, n_jobs=-1, num_parallel_tree=None,\n",
              "             predictor=None, random_state=42, ...)</pre><b>In a Jupyter environment, please rerun this cell to show the HTML representation or trust the notebook. <br />On GitHub, the HTML representation is unable to render, please try loading this page with nbviewer.org.</b></div><div class=\"sk-container\" hidden><div class=\"sk-item\"><div class=\"sk-estimator sk-toggleable\"><input class=\"sk-toggleable__control sk-hidden--visually\" id=\"sk-estimator-id-13\" type=\"checkbox\" checked><label for=\"sk-estimator-id-13\" class=\"sk-toggleable__label sk-toggleable__label-arrow\">XGBRegressor</label><div class=\"sk-toggleable__content\"><pre>XGBRegressor(base_score=None, booster=None, callbacks=None,\n",
              "             colsample_bylevel=None, colsample_bynode=None,\n",
              "             colsample_bytree=None, early_stopping_rounds=None,\n",
              "             enable_categorical=False, eval_metric=None, feature_types=None,\n",
              "             gamma=None, gpu_id=None, grow_policy=None, importance_type=None,\n",
              "             interaction_constraints=None, learning_rate=0.3, max_bin=None,\n",
              "             max_cat_threshold=None, max_cat_to_onehot=None,\n",
              "             max_delta_step=None, max_depth=5, max_leaves=None,\n",
              "             min_child_weight=None, missing=nan, monotone_constraints=None,\n",
              "             n_estimators=1000, n_jobs=-1, num_parallel_tree=None,\n",
              "             predictor=None, random_state=42, ...)</pre></div></div></div></div></div>"
            ]
          },
          "metadata": {},
          "execution_count": 119
        }
      ]
    },
    {
      "cell_type": "code",
      "source": [
        "### Predicting values from xgb regressor object\n",
        "y_test_pred= xgb_reg.predict(x_test)\n",
        "y_train_pred= xgb_reg.predict(x_train)"
      ],
      "metadata": {
        "id": "9J7EF1QE98FP"
      },
      "id": "9J7EF1QE98FP",
      "execution_count": null,
      "outputs": []
    },
    {
      "cell_type": "code",
      "source": [
        "### getting r2 value from xgboostregressor model\n",
        "r2_score(y_test, y_test_pred)"
      ],
      "metadata": {
        "colab": {
          "base_uri": "https://localhost:8080/"
        },
        "id": "1vfqmJ65-DU4",
        "outputId": "9179db00-be62-49b4-8d16-e4ba9a7744ab"
      },
      "id": "1vfqmJ65-DU4",
      "execution_count": null,
      "outputs": [
        {
          "output_type": "execute_result",
          "data": {
            "text/plain": [
              "0.6249496646894661"
            ]
          },
          "metadata": {},
          "execution_count": 121
        }
      ]
    },
    {
      "cell_type": "code",
      "source": [
        "### getting r2 value from xgboostregressor model of test data\n",
        "r2_score(y_train, y_train_pred)"
      ],
      "metadata": {
        "id": "4lmC905EULkV",
        "colab": {
          "base_uri": "https://localhost:8080/"
        },
        "outputId": "a469f846-feb4-46f5-de25-d991c5b1d6db"
      },
      "id": "4lmC905EULkV",
      "execution_count": null,
      "outputs": [
        {
          "output_type": "execute_result",
          "data": {
            "text/plain": [
              "0.9999988703273458"
            ]
          },
          "metadata": {},
          "execution_count": 122
        }
      ]
    },
    {
      "cell_type": "code",
      "source": [
        "### Getting MSE value of train data Xgboosting model\n",
        "mean_squared_error(y_test, y_test_pred, squared=False)"
      ],
      "metadata": {
        "colab": {
          "base_uri": "https://localhost:8080/"
        },
        "id": "KUdjikfzG_4k",
        "outputId": "2af4d486-a097-404f-9ceb-6ffb359e1547"
      },
      "id": "KUdjikfzG_4k",
      "execution_count": null,
      "outputs": [
        {
          "output_type": "execute_result",
          "data": {
            "text/plain": [
              "7460.001563741609"
            ]
          },
          "metadata": {},
          "execution_count": 123
        }
      ]
    },
    {
      "cell_type": "markdown",
      "source": [
        "###Key values of xg_boost:\n",
        "1.   r2_score test is 0.6249\n",
        "2.   r2_score train is 0.9999\n",
        "3.   root mean squared is 7460.0015\n"
      ],
      "metadata": {
        "id": "xGZ-IJzWHNIw"
      },
      "id": "xGZ-IJzWHNIw"
    },
    {
      "cell_type": "markdown",
      "source": [
        "Ridge regression"
      ],
      "metadata": {
        "id": "l-dG5CV_jDvR"
      },
      "id": "l-dG5CV_jDvR"
    },
    {
      "cell_type": "code",
      "source": [
        "from sklearn import preprocessing   #### importing preprocessing from sklearn"
      ],
      "metadata": {
        "id": "Rv-voXtYjPh5"
      },
      "id": "Rv-voXtYjPh5",
      "execution_count": null,
      "outputs": []
    },
    {
      "cell_type": "code",
      "source": [
        "scaler=preprocessing.StandardScaler().fit(x_train) #### creating scaler object"
      ],
      "metadata": {
        "id": "b3E-iG4cjgWr"
      },
      "id": "b3E-iG4cjgWr",
      "execution_count": null,
      "outputs": []
    },
    {
      "cell_type": "code",
      "source": [
        "x_train_s=scaler.transform(x_train) ### standardizing x_train variable"
      ],
      "metadata": {
        "id": "8lvSc9gMjkrJ"
      },
      "id": "8lvSc9gMjkrJ",
      "execution_count": null,
      "outputs": []
    },
    {
      "cell_type": "code",
      "source": [
        "x_test_s=scaler.transform(x_test)   ### standardizing x_test variable"
      ],
      "metadata": {
        "id": "4BjVdYEwjolv"
      },
      "id": "4BjVdYEwjolv",
      "execution_count": null,
      "outputs": []
    },
    {
      "cell_type": "code",
      "source": [
        "from sklearn.linear_model import Ridge   ### importing ridge from sklearn.linear_model"
      ],
      "metadata": {
        "id": "SHFxqq7ajsEv"
      },
      "id": "SHFxqq7ajsEv",
      "execution_count": null,
      "outputs": []
    },
    {
      "cell_type": "code",
      "source": [
        "lm_r=Ridge(alpha=0.5)  ### creating ridge regression object"
      ],
      "metadata": {
        "id": "gzT30IyQjvuw"
      },
      "id": "gzT30IyQjvuw",
      "execution_count": null,
      "outputs": []
    },
    {
      "cell_type": "code",
      "source": [
        "lm_r.fit(x_train_s,y_train) #### fitting x_train and y_train on ridge regression object"
      ],
      "metadata": {
        "colab": {
          "base_uri": "https://localhost:8080/",
          "height": 74
        },
        "id": "9x3hMhyXjy8b",
        "outputId": "68e17962-e371-4591-b490-c1075cc382bb"
      },
      "id": "9x3hMhyXjy8b",
      "execution_count": null,
      "outputs": [
        {
          "output_type": "execute_result",
          "data": {
            "text/plain": [
              "Ridge(alpha=0.5)"
            ],
            "text/html": [
              "<style>#sk-container-id-10 {color: black;background-color: white;}#sk-container-id-10 pre{padding: 0;}#sk-container-id-10 div.sk-toggleable {background-color: white;}#sk-container-id-10 label.sk-toggleable__label {cursor: pointer;display: block;width: 100%;margin-bottom: 0;padding: 0.3em;box-sizing: border-box;text-align: center;}#sk-container-id-10 label.sk-toggleable__label-arrow:before {content: \"▸\";float: left;margin-right: 0.25em;color: #696969;}#sk-container-id-10 label.sk-toggleable__label-arrow:hover:before {color: black;}#sk-container-id-10 div.sk-estimator:hover label.sk-toggleable__label-arrow:before {color: black;}#sk-container-id-10 div.sk-toggleable__content {max-height: 0;max-width: 0;overflow: hidden;text-align: left;background-color: #f0f8ff;}#sk-container-id-10 div.sk-toggleable__content pre {margin: 0.2em;color: black;border-radius: 0.25em;background-color: #f0f8ff;}#sk-container-id-10 input.sk-toggleable__control:checked~div.sk-toggleable__content {max-height: 200px;max-width: 100%;overflow: auto;}#sk-container-id-10 input.sk-toggleable__control:checked~label.sk-toggleable__label-arrow:before {content: \"▾\";}#sk-container-id-10 div.sk-estimator input.sk-toggleable__control:checked~label.sk-toggleable__label {background-color: #d4ebff;}#sk-container-id-10 div.sk-label input.sk-toggleable__control:checked~label.sk-toggleable__label {background-color: #d4ebff;}#sk-container-id-10 input.sk-hidden--visually {border: 0;clip: rect(1px 1px 1px 1px);clip: rect(1px, 1px, 1px, 1px);height: 1px;margin: -1px;overflow: hidden;padding: 0;position: absolute;width: 1px;}#sk-container-id-10 div.sk-estimator {font-family: monospace;background-color: #f0f8ff;border: 1px dotted black;border-radius: 0.25em;box-sizing: border-box;margin-bottom: 0.5em;}#sk-container-id-10 div.sk-estimator:hover {background-color: #d4ebff;}#sk-container-id-10 div.sk-parallel-item::after {content: \"\";width: 100%;border-bottom: 1px solid gray;flex-grow: 1;}#sk-container-id-10 div.sk-label:hover label.sk-toggleable__label {background-color: #d4ebff;}#sk-container-id-10 div.sk-serial::before {content: \"\";position: absolute;border-left: 1px solid gray;box-sizing: border-box;top: 0;bottom: 0;left: 50%;z-index: 0;}#sk-container-id-10 div.sk-serial {display: flex;flex-direction: column;align-items: center;background-color: white;padding-right: 0.2em;padding-left: 0.2em;position: relative;}#sk-container-id-10 div.sk-item {position: relative;z-index: 1;}#sk-container-id-10 div.sk-parallel {display: flex;align-items: stretch;justify-content: center;background-color: white;position: relative;}#sk-container-id-10 div.sk-item::before, #sk-container-id-10 div.sk-parallel-item::before {content: \"\";position: absolute;border-left: 1px solid gray;box-sizing: border-box;top: 0;bottom: 0;left: 50%;z-index: -1;}#sk-container-id-10 div.sk-parallel-item {display: flex;flex-direction: column;z-index: 1;position: relative;background-color: white;}#sk-container-id-10 div.sk-parallel-item:first-child::after {align-self: flex-end;width: 50%;}#sk-container-id-10 div.sk-parallel-item:last-child::after {align-self: flex-start;width: 50%;}#sk-container-id-10 div.sk-parallel-item:only-child::after {width: 0;}#sk-container-id-10 div.sk-dashed-wrapped {border: 1px dashed gray;margin: 0 0.4em 0.5em 0.4em;box-sizing: border-box;padding-bottom: 0.4em;background-color: white;}#sk-container-id-10 div.sk-label label {font-family: monospace;font-weight: bold;display: inline-block;line-height: 1.2em;}#sk-container-id-10 div.sk-label-container {text-align: center;}#sk-container-id-10 div.sk-container {/* jupyter's `normalize.less` sets `[hidden] { display: none; }` but bootstrap.min.css set `[hidden] { display: none !important; }` so we also need the `!important` here to be able to override the default hidden behavior on the sphinx rendered scikit-learn.org. See: https://github.com/scikit-learn/scikit-learn/issues/21755 */display: inline-block !important;position: relative;}#sk-container-id-10 div.sk-text-repr-fallback {display: none;}</style><div id=\"sk-container-id-10\" class=\"sk-top-container\"><div class=\"sk-text-repr-fallback\"><pre>Ridge(alpha=0.5)</pre><b>In a Jupyter environment, please rerun this cell to show the HTML representation or trust the notebook. <br />On GitHub, the HTML representation is unable to render, please try loading this page with nbviewer.org.</b></div><div class=\"sk-container\" hidden><div class=\"sk-item\"><div class=\"sk-estimator sk-toggleable\"><input class=\"sk-toggleable__control sk-hidden--visually\" id=\"sk-estimator-id-14\" type=\"checkbox\" checked><label for=\"sk-estimator-id-14\" class=\"sk-toggleable__label sk-toggleable__label-arrow\">Ridge</label><div class=\"sk-toggleable__content\"><pre>Ridge(alpha=0.5)</pre></div></div></div></div></div>"
            ]
          },
          "metadata": {},
          "execution_count": 130
        }
      ]
    },
    {
      "cell_type": "code",
      "source": [
        "### finding rsquared value\n",
        "r2_score(y_test,lm_r.predict(x_test_s))"
      ],
      "metadata": {
        "colab": {
          "base_uri": "https://localhost:8080/"
        },
        "id": "pwfPkkaZj2QA",
        "outputId": "dd0d8a3f-cc35-4235-ac37-317737cf86fb"
      },
      "id": "pwfPkkaZj2QA",
      "execution_count": null,
      "outputs": [
        {
          "output_type": "execute_result",
          "data": {
            "text/plain": [
              "0.5366527581623497"
            ]
          },
          "metadata": {},
          "execution_count": 131
        }
      ]
    },
    {
      "cell_type": "code",
      "source": [
        "### finding rsquared value\n",
        "r2_score(y_train,lm_r.predict(x_train_s))"
      ],
      "metadata": {
        "colab": {
          "base_uri": "https://localhost:8080/"
        },
        "id": "OpsoVVjnK7AW",
        "outputId": "cec87f92-cf18-4e6c-b87c-deb6468bfc91"
      },
      "id": "OpsoVVjnK7AW",
      "execution_count": null,
      "outputs": [
        {
          "output_type": "execute_result",
          "data": {
            "text/plain": [
              "0.5335037422609615"
            ]
          },
          "metadata": {},
          "execution_count": 132
        }
      ]
    },
    {
      "cell_type": "code",
      "source": [
        "### Finding MSE value for linear regression\n",
        "mean_squared_error(y_test, y_test_a, squared=False)"
      ],
      "metadata": {
        "colab": {
          "base_uri": "https://localhost:8080/"
        },
        "id": "15Mr8BFRLSRh",
        "outputId": "82543ceb-2ef3-4c98-9c4a-0297e62944a8"
      },
      "id": "15Mr8BFRLSRh",
      "execution_count": null,
      "outputs": [
        {
          "output_type": "execute_result",
          "data": {
            "text/plain": [
              "8291.641811462556"
            ]
          },
          "metadata": {},
          "execution_count": 133
        }
      ]
    },
    {
      "cell_type": "code",
      "source": [
        "### importing validation_curve from sklearn\n",
        "from sklearn.model_selection import validation_curve"
      ],
      "metadata": {
        "id": "vGPkByb7j6P0"
      },
      "id": "vGPkByb7j6P0",
      "execution_count": null,
      "outputs": []
    },
    {
      "cell_type": "code",
      "source": [
        "#### creating param_range variable\n",
        "param_range=np.logspace(-2,8,100)"
      ],
      "metadata": {
        "id": "BUXeXDAPkEGS"
      },
      "id": "BUXeXDAPkEGS",
      "execution_count": null,
      "outputs": []
    },
    {
      "cell_type": "code",
      "source": [
        "#### creating train and test variables\n",
        "train_scores, test_scores = validation_curve(Ridge(),x_train_s, y_train,param_name= \"alpha\", param_range=param_range, scoring='r2')"
      ],
      "metadata": {
        "id": "3geQDeagkHxy"
      },
      "id": "3geQDeagkHxy",
      "execution_count": null,
      "outputs": []
    },
    {
      "cell_type": "code",
      "source": [
        "### printing train and test scores\n",
        "print(train_scores)\n",
        "print(test_scores)"
      ],
      "metadata": {
        "colab": {
          "base_uri": "https://localhost:8080/"
        },
        "id": "jgvu0rQkkKoc",
        "outputId": "b1fc365b-78bd-4168-b0b9-4e1efe9c69a8"
      },
      "id": "jgvu0rQkkKoc",
      "execution_count": null,
      "outputs": [
        {
          "output_type": "stream",
          "name": "stdout",
          "text": [
            "[[5.27263547e-01 5.33697522e-01 5.40103264e-01 5.38017140e-01\n",
            "  5.31074006e-01]\n",
            " [5.27263547e-01 5.33697522e-01 5.40103264e-01 5.38017140e-01\n",
            "  5.31074006e-01]\n",
            " [5.27263547e-01 5.33697522e-01 5.40103264e-01 5.38017140e-01\n",
            "  5.31074006e-01]\n",
            " [5.27263547e-01 5.33697522e-01 5.40103264e-01 5.38017140e-01\n",
            "  5.31074005e-01]\n",
            " [5.27263547e-01 5.33697522e-01 5.40103264e-01 5.38017139e-01\n",
            "  5.31074005e-01]\n",
            " [5.27263547e-01 5.33697522e-01 5.40103264e-01 5.38017139e-01\n",
            "  5.31074005e-01]\n",
            " [5.27263546e-01 5.33697522e-01 5.40103264e-01 5.38017139e-01\n",
            "  5.31074005e-01]\n",
            " [5.27263546e-01 5.33697521e-01 5.40103263e-01 5.38017138e-01\n",
            "  5.31074004e-01]\n",
            " [5.27263545e-01 5.33697520e-01 5.40103262e-01 5.38017138e-01\n",
            "  5.31074004e-01]\n",
            " [5.27263544e-01 5.33697519e-01 5.40103261e-01 5.38017136e-01\n",
            "  5.31074002e-01]\n",
            " [5.27263542e-01 5.33697517e-01 5.40103259e-01 5.38017134e-01\n",
            "  5.31074000e-01]\n",
            " [5.27263539e-01 5.33697515e-01 5.40103257e-01 5.38017131e-01\n",
            "  5.31073997e-01]\n",
            " [5.27263534e-01 5.33697510e-01 5.40103252e-01 5.38017126e-01\n",
            "  5.31073992e-01]\n",
            " [5.27263526e-01 5.33697503e-01 5.40103245e-01 5.38017118e-01\n",
            "  5.31073984e-01]\n",
            " [5.27263513e-01 5.33697491e-01 5.40103233e-01 5.38017105e-01\n",
            "  5.31073971e-01]\n",
            " [5.27263493e-01 5.33697472e-01 5.40103214e-01 5.38017085e-01\n",
            "  5.31073951e-01]\n",
            " [5.27263461e-01 5.33697443e-01 5.40103185e-01 5.38017052e-01\n",
            "  5.31073918e-01]\n",
            " [5.27263411e-01 5.33697396e-01 5.40103138e-01 5.38017001e-01\n",
            "  5.31073867e-01]\n",
            " [5.27263330e-01 5.33697321e-01 5.40103063e-01 5.38016918e-01\n",
            "  5.31073785e-01]\n",
            " [5.27263201e-01 5.33697202e-01 5.40102943e-01 5.38016787e-01\n",
            "  5.31073654e-01]\n",
            " [5.27262996e-01 5.33697012e-01 5.40102753e-01 5.38016579e-01\n",
            "  5.31073445e-01]\n",
            " [5.27262670e-01 5.33696711e-01 5.40102451e-01 5.38016247e-01\n",
            "  5.31073114e-01]\n",
            " [5.27262152e-01 5.33696231e-01 5.40101971e-01 5.38015719e-01\n",
            "  5.31072587e-01]\n",
            " [5.27261328e-01 5.33695468e-01 5.40101206e-01 5.38014879e-01\n",
            "  5.31071748e-01]\n",
            " [5.27260017e-01 5.33694255e-01 5.40099991e-01 5.38013545e-01\n",
            "  5.31070416e-01]\n",
            " [5.27257934e-01 5.33692327e-01 5.40098059e-01 5.38011423e-01\n",
            "  5.31068297e-01]\n",
            " [5.27254625e-01 5.33689263e-01 5.40094989e-01 5.38008053e-01\n",
            "  5.31064932e-01]\n",
            " [5.27249371e-01 5.33684399e-01 5.40090116e-01 5.38002702e-01\n",
            "  5.31059590e-01]\n",
            " [5.27241038e-01 5.33676680e-01 5.40082383e-01 5.37994214e-01\n",
            "  5.31051115e-01]\n",
            " [5.27227832e-01 5.33664446e-01 5.40070126e-01 5.37980762e-01\n",
            "  5.31037685e-01]\n",
            " [5.27206928e-01 5.33645075e-01 5.40050719e-01 5.37959468e-01\n",
            "  5.31016427e-01]\n",
            " [5.27173894e-01 5.33614449e-01 5.40020036e-01 5.37925812e-01\n",
            "  5.30982833e-01]\n",
            " [5.27121789e-01 5.33566117e-01 5.39971615e-01 5.37872719e-01\n",
            "  5.30929845e-01]\n",
            " [5.27039802e-01 5.33490019e-01 5.39895378e-01 5.37789166e-01\n",
            "  5.30846469e-01]\n",
            " [5.26911187e-01 5.33370548e-01 5.39775690e-01 5.37658070e-01\n",
            "  5.30715677e-01]\n",
            " [5.26710191e-01 5.33183655e-01 5.39588462e-01 5.37453149e-01\n",
            "  5.30511282e-01]\n",
            " [5.26397552e-01 5.32892599e-01 5.39296888e-01 5.37134319e-01\n",
            "  5.30193366e-01]\n",
            " [5.25914093e-01 5.32441842e-01 5.38845334e-01 5.36641131e-01\n",
            "  5.29701772e-01]\n",
            " [5.25171850e-01 5.31748545e-01 5.38150817e-01 5.35883678e-01\n",
            "  5.28947104e-01]\n",
            " [5.24042353e-01 5.30691209e-01 5.37091611e-01 5.34730566e-01\n",
            "  5.27798844e-01]\n",
            " [5.22342037e-01 5.29095327e-01 5.35492864e-01 5.32993939e-01\n",
            "  5.26070610e-01]\n",
            " [5.19815732e-01 5.26716781e-01 5.33109903e-01 5.30412499e-01\n",
            "  5.23503524e-01]\n",
            " [5.16120747e-01 5.23225188e-01 5.29611447e-01 5.26635159e-01\n",
            "  5.19750316e-01]\n",
            " [5.10816464e-01 5.18191712e-01 5.24567186e-01 5.21210389e-01\n",
            "  5.14365202e-01]\n",
            " [5.03367057e-01 5.11088653e-01 5.17447017e-01 5.13589142e-01\n",
            "  5.06807251e-01]\n",
            " [4.93166847e-01 5.01310348e-01 5.07641457e-01 5.03151190e-01\n",
            "  4.96466836e-01]\n",
            " [4.79596970e-01 4.88224725e-01 4.94512670e-01 4.89263738e-01\n",
            "  4.82723618e-01]\n",
            " [4.62115981e-01 4.71259756e-01 4.77480533e-01 4.71374849e-01\n",
            "  4.65038306e-01]\n",
            " [4.40375183e-01 4.50017832e-01 4.56137142e-01 4.49131852e-01\n",
            "  4.43068352e-01]\n",
            " [4.14334373e-01 4.24395847e-01 4.30367874e-01 4.22499448e-01\n",
            "  4.16782879e-01]\n",
            " [3.84342765e-01 3.94676254e-01 4.00444442e-01 3.91841266e-01\n",
            "  3.86541697e-01]\n",
            " [3.51151604e-01 3.61553504e-01 3.67054020e-01 3.57930928e-01\n",
            "  3.53105685e-01]\n",
            " [3.15843201e-01 3.26076239e-01 3.31243993e-01 3.21877781e-01\n",
            "  3.17564213e-01]\n",
            " [2.79689577e-01 2.89513650e-01 2.94289753e-01 2.84981524e-01\n",
            "  2.81193349e-01]\n",
            " [2.43978512e-01 2.53181177e-01 2.57520014e-01 2.48554699e-01\n",
            "  2.45282516e-01]\n",
            " [2.09853125e-01 2.18272386e-01 2.22146581e-01 2.13759936e-01\n",
            "  2.10975112e-01]\n",
            " [1.78200563e-01 1.85735987e-01 1.89138251e-01 1.81497668e-01\n",
            "  1.79158053e-01]\n",
            " [1.49603927e-01 1.56216235e-01 1.59158115e-01 1.52358230e-01\n",
            "  1.50414124e-01]\n",
            " [1.24350994e-01 1.30053168e-01 1.32561531e-01 1.26631473e-01\n",
            "  1.25030752e-01]\n",
            " [1.02481162e-01 1.07325200e-01 1.09437592e-01 1.04354924e-01\n",
            "  1.03046832e-01]\n",
            " [8.38497531e-02 8.79126956e-02 8.96726453e-02 8.53793417e-02\n",
            "  8.43169215e-02]\n",
            " [6.81930421e-02 7.15646651e-02 7.30176505e-02 6.94348548e-02\n",
            "  6.85762345e-02]\n",
            " [5.51839644e-02 5.79572697e-02 5.91476729e-02 5.61875544e-02\n",
            "  5.54963996e-02]\n",
            " [4.44744206e-02 4.67390823e-02 4.77081733e-02 4.52824376e-02\n",
            "  4.47278583e-02]\n",
            " [3.57241398e-02 3.75625319e-02 3.83473395e-02 3.63726896e-02\n",
            "  3.59288308e-02]\n",
            " [2.86181848e-02 3.01033980e-02 3.07362576e-02 2.91374313e-02\n",
            "  2.87829088e-02]\n",
            " [2.28758851e-02 2.40711320e-02 2.45796973e-02 2.32907611e-02\n",
            "  2.30080515e-02]\n",
            " [1.82538614e-02 1.92127635e-02 1.96203039e-02 1.85848007e-02\n",
            "  1.83596473e-02]\n",
            " [1.45453241e-02 1.53126979e-02 1.56385473e-02 1.48089595e-02\n",
            "  1.46298278e-02]\n",
            " [1.15772605e-02 1.21901367e-02 1.24502001e-02 1.17870571e-02\n",
            "  1.16446556e-02]\n",
            " [9.20661843e-03 9.69532327e-03 9.90258258e-03 9.37342939e-03\n",
            "  9.26029981e-03]\n",
            " [7.31619433e-03 7.70539084e-03 7.87037719e-03 7.44873724e-03\n",
            "  7.35890832e-03]\n",
            " [5.81064250e-03 6.12027899e-03 6.25149373e-03 5.91590018e-03\n",
            "  5.84460175e-03]\n",
            " [4.61282854e-03 4.85897074e-03 4.96325033e-03 4.69638198e-03\n",
            "  4.63980964e-03]\n",
            " [3.66062204e-03 3.85616514e-03 3.93899043e-03 3.72692399e-03\n",
            "  3.68204764e-03]\n",
            " [2.90414907e-03 3.05941580e-03 3.12517033e-03 2.95674717e-03\n",
            "  2.92115593e-03]\n",
            " [2.30348200e-03 2.42671849e-03 2.47890144e-03 2.34519968e-03\n",
            "  2.31697694e-03]\n",
            " [1.82672383e-03 1.92450638e-03 1.96590679e-03 1.85980613e-03\n",
            "  1.83742923e-03]\n",
            " [1.44843565e-03 1.52600196e-03 1.55884022e-03 1.47466648e-03\n",
            "  1.45692635e-03]\n",
            " [1.14835597e-03 1.20987330e-03 1.23591538e-03 1.16915205e-03\n",
            "  1.15508900e-03]\n",
            " [9.10363855e-04 9.59145061e-04 9.79794489e-04 9.26849800e-04\n",
            "  9.15702383e-04]\n",
            " [7.21643458e-04 7.60320442e-04 7.76692002e-04 7.34711682e-04\n",
            "  7.25875852e-04]\n",
            " [5.72013039e-04 6.02675648e-04 6.15654380e-04 5.82371518e-04\n",
            "  5.75368210e-04]\n",
            " [4.53387788e-04 4.77694770e-04 4.87983053e-04 4.61598046e-04\n",
            "  4.56047377e-04]\n",
            " [3.59350589e-04 3.78618099e-04 3.86773184e-04 3.65857920e-04\n",
            "  3.61458690e-04]\n",
            " [2.84809675e-04 3.00081764e-04 3.06545658e-04 2.89967153e-04\n",
            "  2.86480575e-04]\n",
            " [2.25725941e-04 2.37830643e-04 2.42953878e-04 2.29813487e-04\n",
            "  2.27050268e-04]\n",
            " [1.78895974e-04 1.88489893e-04 1.92550414e-04 1.82135492e-04\n",
            "  1.79945584e-04]\n",
            " [1.41779553e-04 1.49383293e-04 1.52601466e-04 1.44346947e-04\n",
            "  1.42611417e-04]\n",
            " [1.12362615e-04 1.18388903e-04 1.20939426e-04 1.14397313e-04\n",
            "  1.13021894e-04]\n",
            " [8.90484300e-05 9.38244455e-05 9.58458018e-05 9.06609453e-05\n",
            "  8.95709238e-05]\n",
            " [7.05712292e-05 7.43563189e-05 7.59582786e-05 7.18491525e-05\n",
            "  7.09853130e-05]\n",
            " [5.59276676e-05 5.89273989e-05 6.01969681e-05 5.69404203e-05\n",
            "  5.62558321e-05]\n",
            " [4.43224582e-05 4.66997647e-05 4.77059039e-05 4.51250603e-05\n",
            "  4.45825294e-05]\n",
            " [3.51252538e-05 3.70092728e-05 3.78066381e-05 3.57613102e-05\n",
            "  3.53313598e-05]\n",
            " [2.78364541e-05 2.93295348e-05 2.99614440e-05 2.83405230e-05\n",
            "  2.79997921e-05]\n",
            " [2.20600966e-05 2.32433551e-05 2.37441391e-05 2.24595658e-05\n",
            "  2.21895408e-05]\n",
            " [1.74823642e-05 1.84200873e-05 1.88169542e-05 1.77989386e-05\n",
            "  1.75849475e-05]\n",
            " [1.38545467e-05 1.45976832e-05 1.49121961e-05 1.41054279e-05\n",
            "  1.39358429e-05]\n",
            " [1.09795367e-05 1.15684639e-05 1.18177117e-05 1.11783564e-05\n",
            "  1.10439629e-05]]\n",
            "[[ 5.53367054e-01  5.28588404e-01  4.99395433e-01  5.15170755e-01\n",
            "   5.30937024e-01]\n",
            " [ 5.53367182e-01  5.28588411e-01  4.99395406e-01  5.15170715e-01\n",
            "   5.30937050e-01]\n",
            " [ 5.53367344e-01  5.28588420e-01  4.99395373e-01  5.15170664e-01\n",
            "   5.30937083e-01]\n",
            " [ 5.53367548e-01  5.28588431e-01  4.99395331e-01  5.15170599e-01\n",
            "   5.30937125e-01]\n",
            " [ 5.53367806e-01  5.28588444e-01  4.99395278e-01  5.15170518e-01\n",
            "   5.30937177e-01]\n",
            " [ 5.53368130e-01  5.28588462e-01  4.99395211e-01  5.15170415e-01\n",
            "   5.30937244e-01]\n",
            " [ 5.53368540e-01  5.28588483e-01  4.99395126e-01  5.15170286e-01\n",
            "   5.30937327e-01]\n",
            " [ 5.53369057e-01  5.28588511e-01  4.99395019e-01  5.15170122e-01\n",
            "   5.30937433e-01]\n",
            " [ 5.53369709e-01  5.28588545e-01  4.99394884e-01  5.15169916e-01\n",
            "   5.30937566e-01]\n",
            " [ 5.53370532e-01  5.28588588e-01  4.99394713e-01  5.15169655e-01\n",
            "   5.30937733e-01]\n",
            " [ 5.53371569e-01  5.28588642e-01  4.99394498e-01  5.15169325e-01\n",
            "   5.30937944e-01]\n",
            " [ 5.53372877e-01  5.28588710e-01  4.99394225e-01  5.15168909e-01\n",
            "   5.30938209e-01]\n",
            " [ 5.53374527e-01  5.28588794e-01  4.99393880e-01  5.15168383e-01\n",
            "   5.30938543e-01]\n",
            " [ 5.53376606e-01  5.28588899e-01  4.99393443e-01  5.15167717e-01\n",
            "   5.30938962e-01]\n",
            " [ 5.53379227e-01  5.28589030e-01  4.99392890e-01  5.15166875e-01\n",
            "   5.30939488e-01]\n",
            " [ 5.53382528e-01  5.28589190e-01  4.99392188e-01  5.15165808e-01\n",
            "   5.30940147e-01]\n",
            " [ 5.53386685e-01  5.28589386e-01  4.99391296e-01  5.15164456e-01\n",
            "   5.30940971e-01]\n",
            " [ 5.53391918e-01  5.28589624e-01  4.99390163e-01  5.15162740e-01\n",
            "   5.30941998e-01]\n",
            " [ 5.53398500e-01  5.28589908e-01  4.99388718e-01  5.15160560e-01\n",
            "   5.30943277e-01]\n",
            " [ 5.53406771e-01  5.28590242e-01  4.99386873e-01  5.15157784e-01\n",
            "   5.30944860e-01]\n",
            " [ 5.53417153e-01  5.28590624e-01  4.99384508e-01  5.15154243e-01\n",
            "   5.30946809e-01]\n",
            " [ 5.53430169e-01  5.28591044e-01  4.99381467e-01  5.15149712e-01\n",
            "   5.30949194e-01]\n",
            " [ 5.53446456e-01  5.28591474e-01  4.99377539e-01  5.15143897e-01\n",
            "   5.30952082e-01]\n",
            " [ 5.53466791e-01  5.28591858e-01  4.99372437e-01  5.15136404e-01\n",
            "   5.30955534e-01]\n",
            " [ 5.53492106e-01  5.28592092e-01  4.99365771e-01  5.15126702e-01\n",
            "   5.30959586e-01]\n",
            " [ 5.53523502e-01  5.28591989e-01  4.99356994e-01  5.15114066e-01\n",
            "   5.30964217e-01]\n",
            " [ 5.53562253e-01  5.28591226e-01  4.99345343e-01  5.15097499e-01\n",
            "   5.30969294e-01]\n",
            " [ 5.53609776e-01  5.28589263e-01  4.99329726e-01  5.15075608e-01\n",
            "   5.30974487e-01]\n",
            " [ 5.53667571e-01  5.28585200e-01  4.99308573e-01  5.15046425e-01\n",
            "   5.30979122e-01]\n",
            " [ 5.53737067e-01  5.28577571e-01  4.99279597e-01  5.15007140e-01\n",
            "   5.30981943e-01]\n",
            " [ 5.53819355e-01  5.28563998e-01  4.99239434e-01  5.14953691e-01\n",
            "   5.30980732e-01]\n",
            " [ 5.53914698e-01  5.28540668e-01  4.99183098e-01  5.14880156e-01\n",
            "   5.30971712e-01]\n",
            " [ 5.54021709e-01  5.28501511e-01  4.99103151e-01  5.14777834e-01\n",
            "   5.30948604e-01]\n",
            " [ 5.54136015e-01  5.28436937e-01  4.98988457e-01  5.14633867e-01\n",
            "   5.30901174e-01]\n",
            " [ 5.54248124e-01  5.28331921e-01  4.98822309e-01  5.14429191e-01\n",
            "   5.30813020e-01]\n",
            " [ 5.54340134e-01  5.28163126e-01  4.98579663e-01  5.14135524e-01\n",
            "   5.30658244e-01]\n",
            " [ 5.54380769e-01  5.27894675e-01  4.98223107e-01  5.13711003e-01\n",
            "   5.30396571e-01]\n",
            " [ 5.54318151e-01  5.27472058e-01  4.97697120e-01  5.13094010e-01\n",
            "   5.29966356e-01]\n",
            " [ 5.54069609e-01  5.26813639e-01  4.96920124e-01  5.12194696e-01\n",
            "   5.29274910e-01]\n",
            " [ 5.53508015e-01  5.25799277e-01  4.95773930e-01  5.10883835e-01\n",
            "   5.28185696e-01]\n",
            " [ 5.52444550e-01  5.24255928e-01  4.94090495e-01  5.08979043e-01\n",
            "   5.26502453e-01]\n",
            " [ 5.50608890e-01  5.21940927e-01  4.91636703e-01  5.06229305e-01\n",
            "   5.23951312e-01]\n",
            " [ 5.47629669e-01  5.18525136e-01  4.88099256e-01  5.02300265e-01\n",
            "   5.20163798e-01]\n",
            " [ 5.43020789e-01  5.13580452e-01  4.83073893e-01  4.96765077e-01\n",
            "   5.14666187e-01]\n",
            " [ 5.36182356e-01  5.06578980e-01  4.76065672e-01  4.89108111e-01\n",
            "   5.06883585e-01]\n",
            " [ 5.26427202e-01  4.96913454e-01  4.66509098e-01  4.78750660e-01\n",
            "   4.96168977e-01]\n",
            " [ 5.13043076e-01  4.83948366e-01  4.53816607e-01  4.65106730e-01\n",
            "   4.81866088e-01]\n",
            " [ 4.95393857e-01  4.67106197e-01  4.37459215e-01  4.47671044e-01\n",
            "   4.63407990e-01]\n",
            " [ 4.73049723e-01  4.45982014e-01  4.17072792e-01  4.26129773e-01\n",
            "   4.40440257e-01]\n",
            " [ 4.45919217e-01  4.20464342e-01  3.92569415e-01  4.00470105e-01\n",
            "   4.12941728e-01]\n",
            " [ 4.14343590e-01  3.90827505e-01  3.64221692e-01  3.71054685e-01\n",
            "   3.81305396e-01]\n",
            " [ 3.79115458e-01  3.57759581e-01  3.32687119e-01  3.38629438e-01\n",
            "   3.46345415e-01]\n",
            " [ 3.41403892e-01  3.22305854e-01  2.98954165e-01  3.04251402e-01\n",
            "   3.09216537e-01]\n",
            " [ 3.02599796e-01  2.85735770e-01  2.64217652e-01  2.69150572e-01\n",
            "   2.71262100e-01]\n",
            " [ 2.64123207e-01  2.49368369e-01  2.29715918e-01  2.34562732e-01\n",
            "   2.33831271e-01]\n",
            " [ 2.27243914e-01  2.14403196e-01  1.96573289e-01  2.01577292e-01\n",
            "   1.98113310e-01]\n",
            " [ 1.92955498e-01  1.81796017e-01  1.65684360e-01  1.71033335e-01\n",
            "   1.65024647e-01]\n",
            " [ 1.61919213e-01  1.52198006e-01  1.37657452e-01  1.43476409e-01\n",
            "   1.35162083e-01]\n",
            " [ 1.34471128e-01  1.25955110e-01  1.12814235e-01  1.19169147e-01\n",
            "   1.08814457e-01]\n",
            " [ 1.10672248e-01  1.03150212e-01  9.12293585e-02  9.81376649e-02\n",
            "   8.60131277e-02]\n",
            " [ 9.03785466e-02  8.36666419e-02  7.27900868e-02  8.02338006e-02\n",
            "   6.65996330e-02]\n",
            " [ 7.33123586e-02  6.72550590e-02  5.72591297e-02  6.51974912e-02\n",
            "   5.02935046e-02]\n",
            " [ 5.91238632e-02  5.35922482e-02  4.43299078e-02  5.27099105e-02\n",
            "   3.67500434e-02]\n",
            " [ 4.74379694e-02  4.23266908e-02  3.36694187e-02  4.24336384e-02\n",
            "   2.56040158e-02]\n",
            " [ 3.78864529e-02  3.31102778e-02  2.49480826e-02  3.40399444e-02\n",
            "   1.64993501e-02]\n",
            " [ 3.01275722e-02  2.56180129e-02  1.78582910e-02  2.72252372e-02\n",
            "   9.10706002e-03]\n",
            " [ 2.38562003e-02  1.95584804e-02  1.21242586e-02  2.17193680e-02\n",
            "   3.13431002e-03]\n",
            " [ 1.88074003e-02  1.46778465e-02  7.50578362e-03  1.72883365e-02\n",
            "  -1.67260556e-03]\n",
            " [ 1.47558475e-02  1.07597116e-02  3.79809423e-03  1.37334823e-02\n",
            "  -5.52911089e-03]\n",
            " [ 1.15128856e-02  7.62255841e-03  8.29428545e-04  1.08886948e-02\n",
            "  -8.61535519e-03]\n",
            " [ 8.92244232e-03  5.11600690e-03 -1.54251134e-03  8.61669213e-03\n",
            "  -1.10802360e-02]\n",
            " [ 6.85659306e-03  3.11666138e-03 -3.43448992e-03  6.80503785e-03\n",
            "  -1.30457116e-02]\n",
            " [ 5.21123707e-03  1.52401940e-03 -4.94160927e-03  5.36228965e-03\n",
            "  -1.46109735e-02]\n",
            " [ 3.90213599e-03  2.56699047e-04 -6.14087893e-03  4.21448667e-03\n",
            "  -1.58562539e-02]\n",
            " [ 2.86142412e-03 -7.50899262e-04 -7.09437444e-03  3.30206466e-03\n",
            "  -1.68461694e-02]\n",
            " [ 2.03461525e-03 -1.55146455e-03 -7.85195466e-03  2.57721585e-03\n",
            "  -1.76325846e-02]\n",
            " [ 1.37808416e-03 -2.18719718e-03 -8.45355337e-03  2.00167065e-03\n",
            "  -1.82570172e-02]\n",
            " [ 8.56976598e-04 -2.69182182e-03 -8.93108404e-03  1.54485908e-03\n",
            "  -1.87526323e-02]\n",
            " [ 4.43493141e-04 -3.09224257e-03 -9.31000598e-03  1.18240211e-03\n",
            "  -1.91458788e-02]\n",
            " [ 1.15490884e-04 -3.40989271e-03 -9.61060149e-03  8.94883417e-04\n",
            "  -1.94578219e-02]\n",
            " [-1.44648823e-04 -3.66182846e-03 -9.84901093e-03  6.66855126e-04\n",
            "  -1.97052213e-02]\n",
            " [-3.50933033e-04 -3.86161112e-03 -1.00380674e-02  4.86036823e-04\n",
            "  -1.99014005e-02]\n",
            " [-5.14490152e-04 -4.02001584e-03 -1.01879676e-02  3.42672414e-04\n",
            "  -2.00569441e-02]\n",
            " [-6.44156903e-04 -4.14559939e-03 -1.03068087e-02  2.29015213e-04\n",
            "  -2.01802569e-02]\n",
            " [-7.46947335e-04 -4.24515394e-03 -1.04010184e-02  1.38916583e-04\n",
            "  -2.02780097e-02]\n",
            " [-8.28426941e-04 -4.32406916e-03 -1.04756968e-02  6.74978444e-05\n",
            "  -2.03554958e-02]\n",
            " [-8.93010666e-04 -4.38662065e-03 -1.05348900e-02  1.08889632e-05\n",
            "  -2.04169139e-02]\n",
            " [-9.44200036e-04 -4.43619951e-03 -1.05818071e-02 -3.39793612e-05\n",
            "  -2.04655941e-02]\n",
            " [-9.84771680e-04 -4.47549485e-03 -1.06189927e-02 -6.95409836e-05\n",
            "  -2.05041769e-02]\n",
            " [-1.01692712e-03 -4.50663884e-03 -1.06484647e-02 -9.77256260e-05\n",
            "  -2.05347560e-02]\n",
            " [-1.04241171e-03 -4.53132186e-03 -1.06718225e-02 -1.20063147e-04\n",
            "  -2.05589912e-02]\n",
            " [-1.06260903e-03 -4.55088397e-03 -1.06903344e-02 -1.37766301e-04\n",
            "  -2.05781983e-02]\n",
            " [-1.07861584e-03 -4.56638737e-03 -1.07050054e-02 -1.51796409e-04\n",
            "  -2.05934204e-02]\n",
            " [-1.09130144e-03 -4.57867403e-03 -1.07166324e-02 -1.62915444e-04\n",
            "  -2.06054841e-02]\n",
            " [-1.10135486e-03 -4.58841131e-03 -1.07258469e-02 -1.71727350e-04\n",
            "  -2.06150446e-02]\n",
            " [-1.10932222e-03 -4.59612812e-03 -1.07331495e-02 -1.78710798e-04\n",
            "  -2.06226213e-02]\n",
            " [-1.11563634e-03 -4.60224368e-03 -1.07389367e-02 -1.84245163e-04\n",
            "  -2.06286259e-02]\n",
            " [-1.12064024e-03 -4.60709024e-03 -1.07435230e-02 -1.88631118e-04\n",
            "  -2.06333844e-02]\n",
            " [-1.12460580e-03 -4.61093110e-03 -1.07471577e-02 -1.92106953e-04\n",
            "  -2.06371556e-02]\n",
            " [-1.12774846e-03 -4.61397494e-03 -1.07500381e-02 -1.94861518e-04\n",
            "  -2.06401442e-02]]\n"
          ]
        }
      ]
    },
    {
      "cell_type": "code",
      "source": [
        "### finding mean of train_scores\n",
        "train_mean=np.mean(train_scores,axis=1)"
      ],
      "metadata": {
        "id": "SkDe3rDkkO_2"
      },
      "id": "SkDe3rDkkO_2",
      "execution_count": null,
      "outputs": []
    },
    {
      "cell_type": "code",
      "source": [
        "#### finding mean of test_scores\n",
        "test_mean=np.mean(test_scores,axis=1)"
      ],
      "metadata": {
        "id": "_-Bh0UUQkU1x"
      },
      "id": "_-Bh0UUQkU1x",
      "execution_count": null,
      "outputs": []
    },
    {
      "cell_type": "code",
      "source": [
        "### getting values of train and test mean\n",
        "train_mean\n",
        "test_mean"
      ],
      "metadata": {
        "colab": {
          "base_uri": "https://localhost:8080/"
        },
        "id": "kmqRW2yekYUc",
        "outputId": "cb23fb53-2672-4044-8381-f998aeaf4e3c"
      },
      "id": "kmqRW2yekYUc",
      "execution_count": null,
      "outputs": [
        {
          "output_type": "execute_result",
          "data": {
            "text/plain": [
              "array([ 5.25491734e-01,  5.25491753e-01,  5.25491777e-01,  5.25491807e-01,\n",
              "        5.25491845e-01,  5.25491892e-01,  5.25491953e-01,  5.25492028e-01,\n",
              "        5.25492124e-01,  5.25492244e-01,  5.25492396e-01,  5.25492586e-01,\n",
              "        5.25492825e-01,  5.25493126e-01,  5.25493502e-01,  5.25493972e-01,\n",
              "        5.25494559e-01,  5.25495289e-01,  5.25496192e-01,  5.25497306e-01,\n",
              "        5.25498667e-01,  5.25500317e-01,  5.25502289e-01,  5.25504605e-01,\n",
              "        5.25507251e-01,  5.25510154e-01,  5.25513123e-01,  5.25515772e-01,\n",
              "        5.25517378e-01,  5.25516664e-01,  5.25511442e-01,  5.25498066e-01,\n",
              "        5.25470562e-01,  5.25419290e-01,  5.25328913e-01,  5.25175338e-01,\n",
              "        5.24921225e-01,  5.24509539e-01,  5.23854596e-01,  5.22830151e-01,\n",
              "        5.21254494e-01,  5.18873427e-01,  5.15343625e-01,  5.10221279e-01,\n",
              "        5.02963741e-01,  4.92953878e-01,  4.79556173e-01,  4.62207661e-01,\n",
              "        4.40534912e-01,  4.14472961e-01,  3.84350574e-01,  3.50907402e-01,\n",
              "        3.15226370e-01,  2.78593178e-01,  2.42320300e-01,  2.07582200e-01,\n",
              "        1.75298771e-01,  1.46082633e-01,  1.20244816e-01,  9.78405223e-02,\n",
              "        7.87337418e-02,  6.26635086e-02,  4.93011946e-02,  3.82943466e-02,\n",
              "        2.92968216e-02,  2.19872347e-02,  1.60785235e-02,  1.13213523e-02,\n",
              "        7.50360496e-03,  4.44764244e-03,  2.00647880e-03,  5.96181534e-05,\n",
              "       -1.49100734e-03, -2.72476222e-03, -3.70559087e-03, -4.48483455e-03,\n",
              "       -5.10360259e-03, -5.59474050e-03, -5.98444643e-03, -6.29358836e-03,\n",
              "       -6.53877088e-03, -6.73319504e-03, -6.88734905e-03, -7.00956134e-03,\n",
              "       -7.10644256e-03, -7.18323818e-03, -7.24410926e-03, -7.29235601e-03,\n",
              "       -7.33059542e-03, -7.36090244e-03, -7.38492208e-03, -7.40395840e-03,\n",
              "       -7.41904508e-03, -7.43100148e-03, -7.44047701e-03, -7.44798638e-03,\n",
              "       -7.45393755e-03, -7.45865382e-03, -7.46239142e-03, -7.46535344e-03])"
            ]
          },
          "metadata": {},
          "execution_count": 140
        }
      ]
    },
    {
      "cell_type": "code",
      "source": [
        "### getting maximum mean value of test\n",
        "max(test_mean)"
      ],
      "metadata": {
        "colab": {
          "base_uri": "https://localhost:8080/"
        },
        "id": "ZFZ3H4m2kb_9",
        "outputId": "b6a340fb-4f76-4ebd-83aa-2ff8d8e72b44"
      },
      "id": "ZFZ3H4m2kb_9",
      "execution_count": null,
      "outputs": [
        {
          "output_type": "execute_result",
          "data": {
            "text/plain": [
              "0.5255173782362379"
            ]
          },
          "metadata": {},
          "execution_count": 141
        }
      ]
    },
    {
      "cell_type": "code",
      "source": [
        "#### creating jointplot between 'np.log(param_range)' and 'test_mean'\n",
        "sns.jointplot(x=np.log(param_range),y=test_mean)"
      ],
      "metadata": {
        "colab": {
          "base_uri": "https://localhost:8080/",
          "height": 624
        },
        "id": "-LLkzy0kkhQr",
        "outputId": "2caf024a-b3f1-4b3f-cfa6-5656fd796405"
      },
      "id": "-LLkzy0kkhQr",
      "execution_count": null,
      "outputs": [
        {
          "output_type": "execute_result",
          "data": {
            "text/plain": [
              "<seaborn.axisgrid.JointGrid at 0x7f462212a1d0>"
            ]
          },
          "metadata": {},
          "execution_count": 142
        },
        {
          "output_type": "display_data",
          "data": {
            "text/plain": [
              "<Figure size 600x600 with 3 Axes>"
            ],
            "image/png": "[encoded data removed]"
          },
          "metadata": {}
        }
      ]
    },
    {
      "cell_type": "code",
      "source": [
        "np.where(test_mean==max(test_mean))  ### getting array"
      ],
      "metadata": {
        "colab": {
          "base_uri": "https://localhost:8080/"
        },
        "id": "MBh7f82WklOv",
        "outputId": "e7d9a1b3-565f-40fd-b344-191f1e8f9a56"
      },
      "id": "MBh7f82WklOv",
      "execution_count": null,
      "outputs": [
        {
          "output_type": "execute_result",
          "data": {
            "text/plain": [
              "(array([28]),)"
            ]
          },
          "metadata": {},
          "execution_count": 143
        }
      ]
    },
    {
      "cell_type": "code",
      "source": [
        "param_range[28] #### getting value of param_range"
      ],
      "metadata": {
        "colab": {
          "base_uri": "https://localhost:8080/"
        },
        "id": "wGhRf1vtkpNB",
        "outputId": "0b6e44c7-dcbb-48b3-b998-d41cfaade9ce"
      },
      "id": "wGhRf1vtkpNB",
      "execution_count": null,
      "outputs": [
        {
          "output_type": "execute_result",
          "data": {
            "text/plain": [
              "6.7341506577508214"
            ]
          },
          "metadata": {},
          "execution_count": 144
        }
      ]
    },
    {
      "cell_type": "code",
      "source": [
        "lm_r_best=Ridge(alpha=param_range[28]) #### getting best model from ridge regression"
      ],
      "metadata": {
        "id": "LMm_xFuWksTQ"
      },
      "id": "LMm_xFuWksTQ",
      "execution_count": null,
      "outputs": []
    },
    {
      "cell_type": "code",
      "source": [
        "lm_r_best.fit(x_train_s,y_train) ### fitting x_train and y_train on ridge regression"
      ],
      "metadata": {
        "colab": {
          "base_uri": "https://localhost:8080/",
          "height": 74
        },
        "id": "291-bqOOkwp9",
        "outputId": "ba893e8d-5544-4305-9ed8-87f0ae3744fb"
      },
      "id": "291-bqOOkwp9",
      "execution_count": null,
      "outputs": [
        {
          "output_type": "execute_result",
          "data": {
            "text/plain": [
              "Ridge(alpha=6.7341506577508214)"
            ],
            "text/html": [
              "<style>#sk-container-id-11 {color: black;background-color: white;}#sk-container-id-11 pre{padding: 0;}#sk-container-id-11 div.sk-toggleable {background-color: white;}#sk-container-id-11 label.sk-toggleable__label {cursor: pointer;display: block;width: 100%;margin-bottom: 0;padding: 0.3em;box-sizing: border-box;text-align: center;}#sk-container-id-11 label.sk-toggleable__label-arrow:before {content: \"▸\";float: left;margin-right: 0.25em;color: #696969;}#sk-container-id-11 label.sk-toggleable__label-arrow:hover:before {color: black;}#sk-container-id-11 div.sk-estimator:hover label.sk-toggleable__label-arrow:before {color: black;}#sk-container-id-11 div.sk-toggleable__content {max-height: 0;max-width: 0;overflow: hidden;text-align: left;background-color: #f0f8ff;}#sk-container-id-11 div.sk-toggleable__content pre {margin: 0.2em;color: black;border-radius: 0.25em;background-color: #f0f8ff;}#sk-container-id-11 input.sk-toggleable__control:checked~div.sk-toggleable__content {max-height: 200px;max-width: 100%;overflow: auto;}#sk-container-id-11 input.sk-toggleable__control:checked~label.sk-toggleable__label-arrow:before {content: \"▾\";}#sk-container-id-11 div.sk-estimator input.sk-toggleable__control:checked~label.sk-toggleable__label {background-color: #d4ebff;}#sk-container-id-11 div.sk-label input.sk-toggleable__control:checked~label.sk-toggleable__label {background-color: #d4ebff;}#sk-container-id-11 input.sk-hidden--visually {border: 0;clip: rect(1px 1px 1px 1px);clip: rect(1px, 1px, 1px, 1px);height: 1px;margin: -1px;overflow: hidden;padding: 0;position: absolute;width: 1px;}#sk-container-id-11 div.sk-estimator {font-family: monospace;background-color: #f0f8ff;border: 1px dotted black;border-radius: 0.25em;box-sizing: border-box;margin-bottom: 0.5em;}#sk-container-id-11 div.sk-estimator:hover {background-color: #d4ebff;}#sk-container-id-11 div.sk-parallel-item::after {content: \"\";width: 100%;border-bottom: 1px solid gray;flex-grow: 1;}#sk-container-id-11 div.sk-label:hover label.sk-toggleable__label {background-color: #d4ebff;}#sk-container-id-11 div.sk-serial::before {content: \"\";position: absolute;border-left: 1px solid gray;box-sizing: border-box;top: 0;bottom: 0;left: 50%;z-index: 0;}#sk-container-id-11 div.sk-serial {display: flex;flex-direction: column;align-items: center;background-color: white;padding-right: 0.2em;padding-left: 0.2em;position: relative;}#sk-container-id-11 div.sk-item {position: relative;z-index: 1;}#sk-container-id-11 div.sk-parallel {display: flex;align-items: stretch;justify-content: center;background-color: white;position: relative;}#sk-container-id-11 div.sk-item::before, #sk-container-id-11 div.sk-parallel-item::before {content: \"\";position: absolute;border-left: 1px solid gray;box-sizing: border-box;top: 0;bottom: 0;left: 50%;z-index: -1;}#sk-container-id-11 div.sk-parallel-item {display: flex;flex-direction: column;z-index: 1;position: relative;background-color: white;}#sk-container-id-11 div.sk-parallel-item:first-child::after {align-self: flex-end;width: 50%;}#sk-container-id-11 div.sk-parallel-item:last-child::after {align-self: flex-start;width: 50%;}#sk-container-id-11 div.sk-parallel-item:only-child::after {width: 0;}#sk-container-id-11 div.sk-dashed-wrapped {border: 1px dashed gray;margin: 0 0.4em 0.5em 0.4em;box-sizing: border-box;padding-bottom: 0.4em;background-color: white;}#sk-container-id-11 div.sk-label label {font-family: monospace;font-weight: bold;display: inline-block;line-height: 1.2em;}#sk-container-id-11 div.sk-label-container {text-align: center;}#sk-container-id-11 div.sk-container {/* jupyter's `normalize.less` sets `[hidden] { display: none; }` but bootstrap.min.css set `[hidden] { display: none !important; }` so we also need the `!important` here to be able to override the default hidden behavior on the sphinx rendered scikit-learn.org. See: https://github.com/scikit-learn/scikit-learn/issues/21755 */display: inline-block !important;position: relative;}#sk-container-id-11 div.sk-text-repr-fallback {display: none;}</style><div id=\"sk-container-id-11\" class=\"sk-top-container\"><div class=\"sk-text-repr-fallback\"><pre>Ridge(alpha=6.7341506577508214)</pre><b>In a Jupyter environment, please rerun this cell to show the HTML representation or trust the notebook. <br />On GitHub, the HTML representation is unable to render, please try loading this page with nbviewer.org.</b></div><div class=\"sk-container\" hidden><div class=\"sk-item\"><div class=\"sk-estimator sk-toggleable\"><input class=\"sk-toggleable__control sk-hidden--visually\" id=\"sk-estimator-id-15\" type=\"checkbox\" checked><label for=\"sk-estimator-id-15\" class=\"sk-toggleable__label sk-toggleable__label-arrow\">Ridge</label><div class=\"sk-toggleable__content\"><pre>Ridge(alpha=6.7341506577508214)</pre></div></div></div></div></div>"
            ]
          },
          "metadata": {},
          "execution_count": 146
        }
      ]
    },
    {
      "cell_type": "code",
      "source": [
        "r2_score(y_test,lm_r_best.predict(x_test_s)) ### getting value of r2_score from ridge regression of test"
      ],
      "metadata": {
        "colab": {
          "base_uri": "https://localhost:8080/"
        },
        "id": "ntG1Ok3ak01N",
        "outputId": "bb6b4500-de05-470f-8a57-84d80bb86672"
      },
      "id": "ntG1Ok3ak01N",
      "execution_count": null,
      "outputs": [
        {
          "output_type": "execute_result",
          "data": {
            "text/plain": [
              "0.5364579036420947"
            ]
          },
          "metadata": {},
          "execution_count": 147
        }
      ]
    },
    {
      "cell_type": "code",
      "source": [
        "r2_score(y_train,lm_r_best.predict(x_train_s)) #### getting value of r2_score from ridge regression of train"
      ],
      "metadata": {
        "colab": {
          "base_uri": "https://localhost:8080/"
        },
        "id": "NaYRmMFSk5_T",
        "outputId": "5985148f-41df-4165-c2ef-6dbed55390c4"
      },
      "id": "NaYRmMFSk5_T",
      "execution_count": null,
      "outputs": [
        {
          "output_type": "execute_result",
          "data": {
            "text/plain": [
              "0.5334897646005574"
            ]
          },
          "metadata": {},
          "execution_count": 148
        }
      ]
    },
    {
      "cell_type": "code",
      "source": [
        "### Finding MSE value for linear regression\n",
        "mean_squared_error(y_test, y_test_a, squared=False)"
      ],
      "metadata": {
        "colab": {
          "base_uri": "https://localhost:8080/"
        },
        "id": "JDBf3bmCZe8_",
        "outputId": "7ecbb81e-6518-4807-b11e-bbe10a1ddff1"
      },
      "id": "JDBf3bmCZe8_",
      "execution_count": null,
      "outputs": [
        {
          "output_type": "execute_result",
          "data": {
            "text/plain": [
              "8291.641811462556"
            ]
          },
          "metadata": {},
          "execution_count": 149
        }
      ]
    },
    {
      "cell_type": "markdown",
      "source": [
        "###**Key Values of Ridge**:\n",
        "\n",
        "1.   The r2_score value of test data is 0.536\n",
        "2.   r2_score value of train data is 0.533\n",
        "3.   mean_squared_error value of test data is 8291.64\n",
        "###Key Values of Ridge with hyperparameter:\n",
        "1.   The r2_score value of test data is 0.536\n",
        "2.   r2_score value of train data is 0.533\n",
        "3.   mean_squared_error value of test data is 8291.64\n",
        "\n",
        "\n",
        "\n",
        "\n",
        "\n"
      ],
      "metadata": {
        "id": "vLVer2T6eXhV"
      },
      "id": "vLVer2T6eXhV"
    },
    {
      "cell_type": "markdown",
      "source": [
        "*Lasso*"
      ],
      "metadata": {
        "id": "GaaJEzaglKdd"
      },
      "id": "GaaJEzaglKdd"
    },
    {
      "cell_type": "code",
      "source": [
        "from sklearn.linear_model import Lasso ### importing lasso from sklearn\n",
        "lasso = (Lasso(alpha=1.0))             ### creating lasso object"
      ],
      "metadata": {
        "id": "AYKKg43JlVkW"
      },
      "id": "AYKKg43JlVkW",
      "execution_count": null,
      "outputs": []
    },
    {
      "cell_type": "code",
      "source": [
        "lasso.fit(x_train, y_train)            ### fitting x_train and y_train on lasso regression"
      ],
      "metadata": {
        "colab": {
          "base_uri": "https://localhost:8080/",
          "height": 74
        },
        "id": "qLOyzX_Slge6",
        "outputId": "fd5f0228-faf1-4bd5-a913-a99e833bca0e"
      },
      "id": "qLOyzX_Slge6",
      "execution_count": null,
      "outputs": [
        {
          "output_type": "execute_result",
          "data": {
            "text/plain": [
              "Lasso()"
            ],
            "text/html": [
              "<style>#sk-container-id-12 {color: black;background-color: white;}#sk-container-id-12 pre{padding: 0;}#sk-container-id-12 div.sk-toggleable {background-color: white;}#sk-container-id-12 label.sk-toggleable__label {cursor: pointer;display: block;width: 100%;margin-bottom: 0;padding: 0.3em;box-sizing: border-box;text-align: center;}#sk-container-id-12 label.sk-toggleable__label-arrow:before {content: \"▸\";float: left;margin-right: 0.25em;color: #696969;}#sk-container-id-12 label.sk-toggleable__label-arrow:hover:before {color: black;}#sk-container-id-12 div.sk-estimator:hover label.sk-toggleable__label-arrow:before {color: black;}#sk-container-id-12 div.sk-toggleable__content {max-height: 0;max-width: 0;overflow: hidden;text-align: left;background-color: #f0f8ff;}#sk-container-id-12 div.sk-toggleable__content pre {margin: 0.2em;color: black;border-radius: 0.25em;background-color: #f0f8ff;}#sk-container-id-12 input.sk-toggleable__control:checked~div.sk-toggleable__content {max-height: 200px;max-width: 100%;overflow: auto;}#sk-container-id-12 input.sk-toggleable__control:checked~label.sk-toggleable__label-arrow:before {content: \"▾\";}#sk-container-id-12 div.sk-estimator input.sk-toggleable__control:checked~label.sk-toggleable__label {background-color: #d4ebff;}#sk-container-id-12 div.sk-label input.sk-toggleable__control:checked~label.sk-toggleable__label {background-color: #d4ebff;}#sk-container-id-12 input.sk-hidden--visually {border: 0;clip: rect(1px 1px 1px 1px);clip: rect(1px, 1px, 1px, 1px);height: 1px;margin: -1px;overflow: hidden;padding: 0;position: absolute;width: 1px;}#sk-container-id-12 div.sk-estimator {font-family: monospace;background-color: #f0f8ff;border: 1px dotted black;border-radius: 0.25em;box-sizing: border-box;margin-bottom: 0.5em;}#sk-container-id-12 div.sk-estimator:hover {background-color: #d4ebff;}#sk-container-id-12 div.sk-parallel-item::after {content: \"\";width: 100%;border-bottom: 1px solid gray;flex-grow: 1;}#sk-container-id-12 div.sk-label:hover label.sk-toggleable__label {background-color: #d4ebff;}#sk-container-id-12 div.sk-serial::before {content: \"\";position: absolute;border-left: 1px solid gray;box-sizing: border-box;top: 0;bottom: 0;left: 50%;z-index: 0;}#sk-container-id-12 div.sk-serial {display: flex;flex-direction: column;align-items: center;background-color: white;padding-right: 0.2em;padding-left: 0.2em;position: relative;}#sk-container-id-12 div.sk-item {position: relative;z-index: 1;}#sk-container-id-12 div.sk-parallel {display: flex;align-items: stretch;justify-content: center;background-color: white;position: relative;}#sk-container-id-12 div.sk-item::before, #sk-container-id-12 div.sk-parallel-item::before {content: \"\";position: absolute;border-left: 1px solid gray;box-sizing: border-box;top: 0;bottom: 0;left: 50%;z-index: -1;}#sk-container-id-12 div.sk-parallel-item {display: flex;flex-direction: column;z-index: 1;position: relative;background-color: white;}#sk-container-id-12 div.sk-parallel-item:first-child::after {align-self: flex-end;width: 50%;}#sk-container-id-12 div.sk-parallel-item:last-child::after {align-self: flex-start;width: 50%;}#sk-container-id-12 div.sk-parallel-item:only-child::after {width: 0;}#sk-container-id-12 div.sk-dashed-wrapped {border: 1px dashed gray;margin: 0 0.4em 0.5em 0.4em;box-sizing: border-box;padding-bottom: 0.4em;background-color: white;}#sk-container-id-12 div.sk-label label {font-family: monospace;font-weight: bold;display: inline-block;line-height: 1.2em;}#sk-container-id-12 div.sk-label-container {text-align: center;}#sk-container-id-12 div.sk-container {/* jupyter's `normalize.less` sets `[hidden] { display: none; }` but bootstrap.min.css set `[hidden] { display: none !important; }` so we also need the `!important` here to be able to override the default hidden behavior on the sphinx rendered scikit-learn.org. See: https://github.com/scikit-learn/scikit-learn/issues/21755 */display: inline-block !important;position: relative;}#sk-container-id-12 div.sk-text-repr-fallback {display: none;}</style><div id=\"sk-container-id-12\" class=\"sk-top-container\"><div class=\"sk-text-repr-fallback\"><pre>Lasso()</pre><b>In a Jupyter environment, please rerun this cell to show the HTML representation or trust the notebook. <br />On GitHub, the HTML representation is unable to render, please try loading this page with nbviewer.org.</b></div><div class=\"sk-container\" hidden><div class=\"sk-item\"><div class=\"sk-estimator sk-toggleable\"><input class=\"sk-toggleable__control sk-hidden--visually\" id=\"sk-estimator-id-16\" type=\"checkbox\" checked><label for=\"sk-estimator-id-16\" class=\"sk-toggleable__label sk-toggleable__label-arrow\">Lasso</label><div class=\"sk-toggleable__content\"><pre>Lasso()</pre></div></div></div></div></div>"
            ]
          },
          "metadata": {},
          "execution_count": 151
        }
      ]
    },
    {
      "cell_type": "code",
      "source": [
        "y_pred = lasso.predict(x_test) ### predicting y value from x_test data"
      ],
      "metadata": {
        "id": "uNxEXtWkljnE"
      },
      "id": "uNxEXtWkljnE",
      "execution_count": null,
      "outputs": []
    },
    {
      "cell_type": "code",
      "source": [
        "y_pred_train = lasso.predict(x_train) ### predicting y value from x_train data"
      ],
      "metadata": {
        "id": "qCWjwlxphfdZ"
      },
      "id": "qCWjwlxphfdZ",
      "execution_count": null,
      "outputs": []
    },
    {
      "cell_type": "code",
      "source": [
        "y_pred ### predicting values of y"
      ],
      "metadata": {
        "colab": {
          "base_uri": "https://localhost:8080/"
        },
        "id": "opW8pDo8lnNP",
        "outputId": "d01aeba2-f508-421f-8026-c132772ab16d"
      },
      "id": "opW8pDo8lnNP",
      "execution_count": null,
      "outputs": [
        {
          "output_type": "execute_result",
          "data": {
            "text/plain": [
              "array([69072.39716352, 64190.93496495, 63665.64449733, 71992.008636  ,\n",
              "       76693.82777331, 88791.19021545, 69212.66290169, 71356.19274913,\n",
              "       70946.45551329, 73638.39825601, 72260.00311212, 78622.34491173,\n",
              "       85445.40410268, 78144.76584581, 77097.32210663, 94041.84457433,\n",
              "       66345.54976791, 69001.67808518, 67239.72436689, 81840.55287612,\n",
              "       91213.2786312 , 96643.08825037, 71194.64570996, 67446.46842045,\n",
              "       72582.18439138, 68268.95976531, 73630.88765749, 94585.36394433,\n",
              "       72138.50935361, 74404.37526911, 68974.63431886, 69923.74904844,\n",
              "       85489.58642633, 80588.10473983, 98776.74227305, 80366.97088304,\n",
              "       71355.5162415 , 80770.94907014, 74027.84971391, 65763.44132056,\n",
              "       71482.43023741, 87911.42317044, 73025.73121857, 67815.34398628,\n",
              "       74971.47415273, 78226.92307442, 86525.68289645, 68131.26634147,\n",
              "       69450.29320416, 76668.85787587, 90202.70719652, 69736.20860453,\n",
              "       91623.2833286 , 73116.97407539, 89885.65093181, 69459.69697946,\n",
              "       68394.2976448 , 89717.16964186, 69292.16963219, 69495.56116401,\n",
              "       74340.21124681, 74066.01601456, 69987.67480392, 68980.48564498,\n",
              "       63872.4509485 , 74826.61216327, 65587.18693787, 63590.85017279,\n",
              "       91379.91837513, 74298.68858021, 71344.2939758 , 75081.78197715,\n",
              "       72400.67450397, 75146.55089513, 72438.1056329 , 74406.74939416,\n",
              "       71425.92733925, 70927.74912144, 70731.91096052, 67535.73551013,\n",
              "       93165.28366991, 75676.36607385, 74120.78179814, 79062.6253614 ,\n",
              "       68726.33577175, 68203.93540123, 68994.13018978, 67328.33271999,\n",
              "       81667.20572244, 92330.55782093, 74909.25060665, 71187.67394055,\n",
              "       76451.86288678, 89885.65093181, 67396.5421408 , 64566.20098174,\n",
              "       68194.51540475, 82385.26399627, 89446.44853962, 72914.43886432,\n",
              "       73050.37258634, 73385.30346492, 65291.91646875, 66811.72109786,\n",
              "       85843.75495423, 62674.88410059, 92216.06485475, 83917.61115912,\n",
              "       91188.87836584, 75989.35040791, 82107.53143525, 75163.48653051,\n",
              "       82947.23333928, 71780.82882201, 74622.85588189, 87928.61333072,\n",
              "       87671.40277452, 70279.6763081 , 69719.61407854, 73654.04646554,\n",
              "       84210.47019839, 92448.75028435, 72525.11635616, 82773.10430109,\n",
              "       77984.38776282, 75277.71977227, 78183.93188852, 69286.33955684,\n",
              "       65396.83144   , 68027.48948692, 76675.16976643, 82887.06477783,\n",
              "       73774.93838464, 70217.28766039, 86511.92632844, 76869.16249544,\n",
              "       76445.46026398, 66485.36640966, 94402.21066208, 74373.36518071,\n",
              "       67183.08323404, 89176.56145716, 69202.52411726, 63439.80668281,\n",
              "       94803.86099717, 78648.83292668, 76031.2739586 , 62031.59035261,\n",
              "       69711.17022384, 69430.42254393, 63577.36994103, 76176.90406893,\n",
              "       91903.06556083, 87748.89240547, 71386.19097165, 70250.27839862,\n",
              "       78359.96924844, 68856.62820904, 70577.0097212 , 69481.11512474,\n",
              "       67593.48985379, 74651.82769405, 72004.67107887, 72561.59914876,\n",
              "       73718.35401368, 75123.53111418, 84431.05627663, 75716.42918613,\n",
              "       92739.34542704, 69983.74030883, 72169.21547172, 70724.12948432,\n",
              "       91697.19415063, 65347.94437432, 73300.72083401, 74160.02235897,\n",
              "       68844.00564103, 86284.55677225, 74883.82277401, 91232.70618896,\n",
              "       62850.03956261, 75970.74908169, 72650.59069364, 96935.88167716,\n",
              "       74492.66693944, 96432.21918324, 68394.52790075, 73704.101945  ,\n",
              "       74834.70033731, 73296.00067824, 64255.25015917, 71980.71443256,\n",
              "       73502.93721237, 68382.92255221, 90976.42083445, 69058.29441227,\n",
              "       99109.06969616, 77263.7477387 , 65981.06686707, 68730.72198069,\n",
              "       74103.67359359, 91360.49081737, 79070.29189069, 68276.91963093,\n",
              "       66316.49354995, 72440.19795965, 74680.38023166, 66961.62543265,\n",
              "       97817.36540329, 66668.51394577, 66093.31791996, 99030.37771425,\n",
              "       80593.93286782, 66465.9388519 , 70631.08645437, 75327.75847112,\n",
              "       66628.48925   , 78407.35242381, 74020.75687014, 70730.74736199,\n",
              "       70717.91749071, 65713.36659787, 93629.05740124, 76533.46757579,\n",
              "       62966.43839172, 75721.29377273, 77025.67919478, 64851.34922666,\n",
              "       67835.46088746, 65678.21301584, 93255.20155993, 68044.49024204,\n",
              "       74295.05270552, 89577.46460424, 74695.2575073 , 77684.48919074,\n",
              "       70620.20422664, 79472.7674066 , 75630.64138688, 73039.08519061,\n",
              "       74575.53715546, 88705.4343878 , 74451.15978575, 74697.13707908,\n",
              "       84502.86950043, 94648.92269694, 62316.48704458, 75014.95966387,\n",
              "       86564.05299476, 69445.58147909, 62400.0627599 , 70347.52745238,\n",
              "       73557.05114818, 72916.42609537, 76979.19843783, 86511.92632844,\n",
              "       66992.86804589, 68018.80334594, 65043.35114905, 83396.25404072,\n",
              "       70610.42310078, 76544.74564352, 68299.69887662, 96934.6431337 ,\n",
              "       67885.43655324, 75111.52751906, 77046.99037486, 75463.79664693,\n",
              "       79235.24527415, 72726.65419112, 76399.49110903, 88550.3061392 ,\n",
              "       66555.60637301, 67878.84436545, 75564.25791041, 71380.01567495,\n",
              "       67149.18109115, 65598.10100396, 68728.31089585, 75821.0400322 ,\n",
              "       67885.43655324, 80329.44442926, 68337.47686817, 66593.28953149,\n",
              "       88475.49751844, 69461.54738313, 73427.96823473, 69744.13046249,\n",
              "       76781.01735764, 70894.75473713, 77294.59216409, 90322.77949056,\n",
              "       87072.5317973 , 64287.01493866, 72595.7142921 , 72239.73552284,\n",
              "       77386.61406642, 74763.25099844, 67043.70402314, 88348.9620661 ,\n",
              "       87649.41091611, 82439.66413691, 80259.19674228, 76977.09910797,\n",
              "       66645.31707013, 70960.38294999, 78712.61544759, 70992.52188313,\n",
              "       67201.3917229 , 72880.68315251, 70193.22671371, 69726.66521048,\n",
              "       73293.24611276, 76592.99053641, 69844.37041439, 73054.56516803,\n",
              "       71269.65404356, 76271.72464529])"
            ]
          },
          "metadata": {},
          "execution_count": 154
        }
      ]
    },
    {
      "cell_type": "code",
      "source": [
        "print(\"slope: %.2f\" % lasso.coef_[0]) ### printing slope coeficient"
      ],
      "metadata": {
        "colab": {
          "base_uri": "https://localhost:8080/"
        },
        "id": "4GJvc-uLlqoS",
        "outputId": "23236c2d-948a-435a-f892-995d27888662"
      },
      "id": "4GJvc-uLlqoS",
      "execution_count": null,
      "outputs": [
        {
          "output_type": "stream",
          "name": "stdout",
          "text": [
            "slope: 0.43\n"
          ]
        }
      ]
    },
    {
      "cell_type": "code",
      "source": [
        "print(\"intercept: %2f\" % lasso.intercept_)  ### printing intercept"
      ],
      "metadata": {
        "colab": {
          "base_uri": "https://localhost:8080/"
        },
        "id": "m1FtdBy8lvrZ",
        "outputId": "535328fa-85a1-46ad-92d1-a17c58f5e0fa"
      },
      "id": "m1FtdBy8lvrZ",
      "execution_count": null,
      "outputs": [
        {
          "output_type": "stream",
          "name": "stdout",
          "text": [
            "intercept: 35609.886702\n"
          ]
        }
      ]
    },
    {
      "cell_type": "code",
      "source": [
        "from sklearn.metrics import mean_squared_error  #### importing mean_squared_error from sklearn\n",
        "mean_squared_error(y_test,y_pred)               #### getting mean_squared_error value"
      ],
      "metadata": {
        "colab": {
          "base_uri": "https://localhost:8080/"
        },
        "id": "FZvzebZqly3J",
        "outputId": "da33bc2b-bb6d-4510-91df-ee92da6b8a30"
      },
      "id": "FZvzebZqly3J",
      "execution_count": null,
      "outputs": [
        {
          "output_type": "execute_result",
          "data": {
            "text/plain": [
              "68752222.39085852"
            ]
          },
          "metadata": {},
          "execution_count": 157
        }
      ]
    },
    {
      "cell_type": "code",
      "source": [
        "np.sqrt(mean_squared_error(y_test,y_pred))     #### getting squareroot of mean_squared_error"
      ],
      "metadata": {
        "colab": {
          "base_uri": "https://localhost:8080/"
        },
        "id": "TKd1PDAIl2BL",
        "outputId": "855b9e7e-c7ae-4c1e-dc81-82ac3440641a"
      },
      "id": "TKd1PDAIl2BL",
      "execution_count": null,
      "outputs": [
        {
          "output_type": "execute_result",
          "data": {
            "text/plain": [
              "8291.69599001667"
            ]
          },
          "metadata": {},
          "execution_count": 158
        }
      ]
    },
    {
      "cell_type": "code",
      "source": [
        "print(\"Rsquared: %.2f\" % lasso.score(x_test,y_test)) #### getting value of r2"
      ],
      "metadata": {
        "colab": {
          "base_uri": "https://localhost:8080/"
        },
        "id": "XmCzlQe4l5tx",
        "outputId": "d9e01982-d82e-4498-88c3-523d792b6aa6"
      },
      "id": "XmCzlQe4l5tx",
      "execution_count": null,
      "outputs": [
        {
          "output_type": "stream",
          "name": "stdout",
          "text": [
            "Rsquared: 0.54\n"
          ]
        }
      ]
    },
    {
      "cell_type": "code",
      "source": [
        "r2_score(y_test, y_pred) #### getting value of r2_score from Lasso regression of train"
      ],
      "metadata": {
        "id": "cYfYy-zNl9XO",
        "colab": {
          "base_uri": "https://localhost:8080/"
        },
        "outputId": "cd20ebc6-9845-49e9-eead-32d79c253e02"
      },
      "id": "cYfYy-zNl9XO",
      "execution_count": null,
      "outputs": [
        {
          "output_type": "execute_result",
          "data": {
            "text/plain": [
              "0.5366614212193204"
            ]
          },
          "metadata": {},
          "execution_count": 160
        }
      ]
    },
    {
      "cell_type": "code",
      "source": [
        "r2_score(y_train,y_pred_train)   ### getting value of r2 from y_pred_train"
      ],
      "metadata": {
        "colab": {
          "base_uri": "https://localhost:8080/"
        },
        "id": "yfjFpylJhCTI",
        "outputId": "a8440996-7740-4e1e-b7ab-5a51fb94a97a"
      },
      "id": "yfjFpylJhCTI",
      "execution_count": null,
      "outputs": [
        {
          "output_type": "execute_result",
          "data": {
            "text/plain": [
              "0.5335036489240834"
            ]
          },
          "metadata": {},
          "execution_count": 161
        }
      ]
    },
    {
      "cell_type": "markdown",
      "source": [
        "###Key values of Lasso Regression:\n",
        "1.   The r2_score value of test data is 0.536\n",
        "2.   r2_score value of train data is 0.533\n",
        "3.   mean_squared_error value of test data is 8291.69\n"
      ],
      "metadata": {
        "id": "k3qo5KDfiCdY"
      },
      "id": "k3qo5KDfiCdY"
    },
    {
      "cell_type": "code",
      "source": [],
      "metadata": {
        "id": "VfDclzfjir4b"
      },
      "id": "VfDclzfjir4b",
      "execution_count": null,
      "outputs": []
    },
    {
      "cell_type": "code",
      "source": [],
      "metadata": {
        "id": "OYpbq0PCglNt"
      },
      "id": "OYpbq0PCglNt",
      "execution_count": null,
      "outputs": []
    },
    {
      "cell_type": "markdown",
      "source": [],
      "metadata": {
        "id": "coCBKuDBeNoD"
      },
      "id": "coCBKuDBeNoD"
    }
  ],
  "metadata": {
    "kernelspec": {
      "display_name": "Python 3 (ipykernel)",
      "language": "python",
      "name": "python3"
    },
    "language_info": {
      "codemirror_mode": {
        "name": "ipython",
        "version": 3
      },
      "file_extension": ".py",
      "mimetype": "text/x-python",
      "name": "python",
      "nbconvert_exporter": "python",
      "pygments_lexer": "ipython3",
      "version": "3.11.3"
    },
    "colab": {
      "provenance": []
    }
  },
  "nbformat": 4,
  "nbformat_minor": 5
}